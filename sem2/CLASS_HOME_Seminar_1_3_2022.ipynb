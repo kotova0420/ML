{
 "cells": [
  {
   "cell_type": "markdown",
   "metadata": {},
   "source": [
    "# Лабораторная работа №1"
   ]
  },
  {
   "cell_type": "code",
   "execution_count": 267,
   "metadata": {},
   "outputs": [],
   "source": [
    "import pandas as pd\n",
    "import numpy as np\n",
    "import matplotlib.pyplot as plt\n",
    "import matplotlib\n",
    "import seaborn as sns\n",
    "import re\n",
    "from matplotlib.lines import Line2D\n",
    "%matplotlib inline"
   ]
  },
  {
   "cell_type": "code",
   "execution_count": 268,
   "metadata": {},
   "outputs": [],
   "source": [
    "matplotlib.style.use('ggplot')"
   ]
  },
  {
   "cell_type": "markdown",
   "metadata": {},
   "source": [
    "## 1.\tЗагрузите данные в ноутбук"
   ]
  },
  {
   "cell_type": "code",
   "execution_count": 269,
   "metadata": {},
   "outputs": [
    {
     "data": {
      "text/html": [
       "<div>\n",
       "<style scoped>\n",
       "    .dataframe tbody tr th:only-of-type {\n",
       "        vertical-align: middle;\n",
       "    }\n",
       "\n",
       "    .dataframe tbody tr th {\n",
       "        vertical-align: top;\n",
       "    }\n",
       "\n",
       "    .dataframe thead th {\n",
       "        text-align: right;\n",
       "    }\n",
       "</style>\n",
       "<table border=\"1\" class=\"dataframe\">\n",
       "  <thead>\n",
       "    <tr style=\"text-align: right;\">\n",
       "      <th></th>\n",
       "      <th>№</th>\n",
       "      <th>№ школы</th>\n",
       "      <th>Класс</th>\n",
       "      <th>Пол</th>\n",
       "      <th>Номер варианта</th>\n",
       "      <th>Задания с кратким ответом</th>\n",
       "      <th>Задания с развёрнутым ответом</th>\n",
       "      <th>Устная часть</th>\n",
       "      <th>Первичный балл</th>\n",
       "      <th>Балл</th>\n",
       "      <th>Минимальный балл</th>\n",
       "    </tr>\n",
       "  </thead>\n",
       "  <tbody>\n",
       "    <tr>\n",
       "      <th>0</th>\n",
       "      <td>1.0</td>\n",
       "      <td>152.0</td>\n",
       "      <td>11</td>\n",
       "      <td>М</td>\n",
       "      <td>333.0</td>\n",
       "      <td>----001---00---000--1-+0---</td>\n",
       "      <td>0(3)0(3)0(3)0(3)0(3)</td>\n",
       "      <td>NaN</td>\n",
       "      <td>3.0</td>\n",
       "      <td>10.0</td>\n",
       "      <td>36.0</td>\n",
       "    </tr>\n",
       "    <tr>\n",
       "      <th>1</th>\n",
       "      <td>2.0</td>\n",
       "      <td>140.0</td>\n",
       "      <td>12</td>\n",
       "      <td>Ж</td>\n",
       "      <td>332.0</td>\n",
       "      <td>----100---01-+-000--0--1---</td>\n",
       "      <td>0(3)0(3)0(3)0(3)0(3)</td>\n",
       "      <td>NaN</td>\n",
       "      <td>4.0</td>\n",
       "      <td>14.0</td>\n",
       "      <td>36.0</td>\n",
       "    </tr>\n",
       "    <tr>\n",
       "      <th>2</th>\n",
       "      <td>3.0</td>\n",
       "      <td>137.0</td>\n",
       "      <td>11</td>\n",
       "      <td>М</td>\n",
       "      <td>328.0</td>\n",
       "      <td>--+-010---00---101--0--1---</td>\n",
       "      <td>0(3)0(3)0(3)0(3)0(3)</td>\n",
       "      <td>NaN</td>\n",
       "      <td>5.0</td>\n",
       "      <td>17.0</td>\n",
       "      <td>36.0</td>\n",
       "    </tr>\n",
       "    <tr>\n",
       "      <th>3</th>\n",
       "      <td>4.0</td>\n",
       "      <td>148.0</td>\n",
       "      <td>11</td>\n",
       "      <td>М</td>\n",
       "      <td>333.0</td>\n",
       "      <td>-+--000--+01---100--0--1---</td>\n",
       "      <td>0(3)0(3)0(3)0(3)0(3)</td>\n",
       "      <td>NaN</td>\n",
       "      <td>5.0</td>\n",
       "      <td>17.0</td>\n",
       "      <td>36.0</td>\n",
       "    </tr>\n",
       "    <tr>\n",
       "      <th>4</th>\n",
       "      <td>5.0</td>\n",
       "      <td>153.0</td>\n",
       "      <td>11</td>\n",
       "      <td>Ж</td>\n",
       "      <td>333.0</td>\n",
       "      <td>-+--100---00---100-+0--1---</td>\n",
       "      <td>0(3)0(3)0(3)0(3)0(3)</td>\n",
       "      <td>NaN</td>\n",
       "      <td>5.0</td>\n",
       "      <td>17.0</td>\n",
       "      <td>36.0</td>\n",
       "    </tr>\n",
       "    <tr>\n",
       "      <th>5</th>\n",
       "      <td>6.0</td>\n",
       "      <td>144.0</td>\n",
       "      <td>11</td>\n",
       "      <td>М</td>\n",
       "      <td>331.0</td>\n",
       "      <td>-++-011---10---001--0--0---</td>\n",
       "      <td>0(3)0(3)0(3)0(3)0(3)</td>\n",
       "      <td>NaN</td>\n",
       "      <td>6.0</td>\n",
       "      <td>20.0</td>\n",
       "      <td>36.0</td>\n",
       "    </tr>\n",
       "    <tr>\n",
       "      <th>6</th>\n",
       "      <td>7.0</td>\n",
       "      <td>153.0</td>\n",
       "      <td>13</td>\n",
       "      <td>М</td>\n",
       "      <td>503.0</td>\n",
       "      <td>+--+010+--00---001--0--1---</td>\n",
       "      <td>0(3)0(3)0(3)0(3)0(3)</td>\n",
       "      <td>NaN</td>\n",
       "      <td>6.0</td>\n",
       "      <td>20.0</td>\n",
       "      <td>36.0</td>\n",
       "    </tr>\n",
       "    <tr>\n",
       "      <th>7</th>\n",
       "      <td>8.0</td>\n",
       "      <td>111.0</td>\n",
       "      <td>11</td>\n",
       "      <td>М</td>\n",
       "      <td>328.0</td>\n",
       "      <td>----100---10+--010--0--2---</td>\n",
       "      <td>0(3)0(3)0(3)0(3)0(3)</td>\n",
       "      <td>NaN</td>\n",
       "      <td>6.0</td>\n",
       "      <td>20.0</td>\n",
       "      <td>36.0</td>\n",
       "    </tr>\n",
       "    <tr>\n",
       "      <th>8</th>\n",
       "      <td>9.0</td>\n",
       "      <td>126.0</td>\n",
       "      <td>11</td>\n",
       "      <td>М</td>\n",
       "      <td>331.0</td>\n",
       "      <td>-+--010---10---001--1--1---</td>\n",
       "      <td>0(3)0(3)0(3)0(3)0(3)</td>\n",
       "      <td>NaN</td>\n",
       "      <td>6.0</td>\n",
       "      <td>20.0</td>\n",
       "      <td>36.0</td>\n",
       "    </tr>\n",
       "    <tr>\n",
       "      <th>9</th>\n",
       "      <td>10.0</td>\n",
       "      <td>128.0</td>\n",
       "      <td>11</td>\n",
       "      <td>М</td>\n",
       "      <td>333.0</td>\n",
       "      <td>----000---02---200-+0--1---</td>\n",
       "      <td>0(3)0(3)0(3)0(3)0(3)</td>\n",
       "      <td>NaN</td>\n",
       "      <td>6.0</td>\n",
       "      <td>20.0</td>\n",
       "      <td>36.0</td>\n",
       "    </tr>\n",
       "  </tbody>\n",
       "</table>\n",
       "</div>"
      ],
      "text/plain": [
       "      №  № школы Класс Пол  Номер варианта    Задания с кратким ответом  \\\n",
       "0   1.0    152.0    11   М           333.0  ----001---00---000--1-+0---   \n",
       "1   2.0    140.0    12   Ж           332.0  ----100---01-+-000--0--1---   \n",
       "2   3.0    137.0    11   М           328.0  --+-010---00---101--0--1---   \n",
       "3   4.0    148.0    11   М           333.0  -+--000--+01---100--0--1---   \n",
       "4   5.0    153.0    11   Ж           333.0  -+--100---00---100-+0--1---   \n",
       "5   6.0    144.0    11   М           331.0  -++-011---10---001--0--0---   \n",
       "6   7.0    153.0    13   М           503.0  +--+010+--00---001--0--1---   \n",
       "7   8.0    111.0    11   М           328.0  ----100---10+--010--0--2---   \n",
       "8   9.0    126.0    11   М           331.0  -+--010---10---001--1--1---   \n",
       "9  10.0    128.0    11   М           333.0  ----000---02---200-+0--1---   \n",
       "\n",
       "  Задания с развёрнутым ответом Устная часть  Первичный балл  Балл  \\\n",
       "0          0(3)0(3)0(3)0(3)0(3)          NaN             3.0  10.0   \n",
       "1          0(3)0(3)0(3)0(3)0(3)          NaN             4.0  14.0   \n",
       "2          0(3)0(3)0(3)0(3)0(3)          NaN             5.0  17.0   \n",
       "3          0(3)0(3)0(3)0(3)0(3)          NaN             5.0  17.0   \n",
       "4          0(3)0(3)0(3)0(3)0(3)          NaN             5.0  17.0   \n",
       "5          0(3)0(3)0(3)0(3)0(3)          NaN             6.0  20.0   \n",
       "6          0(3)0(3)0(3)0(3)0(3)          NaN             6.0  20.0   \n",
       "7          0(3)0(3)0(3)0(3)0(3)          NaN             6.0  20.0   \n",
       "8          0(3)0(3)0(3)0(3)0(3)          NaN             6.0  20.0   \n",
       "9          0(3)0(3)0(3)0(3)0(3)          NaN             6.0  20.0   \n",
       "\n",
       "   Минимальный балл  \n",
       "0              36.0  \n",
       "1              36.0  \n",
       "2              36.0  \n",
       "3              36.0  \n",
       "4              36.0  \n",
       "5              36.0  \n",
       "6              36.0  \n",
       "7              36.0  \n",
       "8              36.0  \n",
       "9              36.0  "
      ]
     },
     "execution_count": 269,
     "metadata": {},
     "output_type": "execute_result"
    }
   ],
   "source": [
    "df=pd.read_excel('/Users/ekaterinakotova/Desktop/2 семестр/МО/sem2/data/Вариант 3.xlsx', header=2)\n",
    "df.head(10)"
   ]
  },
  {
   "cell_type": "code",
   "execution_count": null,
   "metadata": {},
   "outputs": [],
   "source": []
  },
  {
   "cell_type": "markdown",
   "metadata": {},
   "source": [
    "## 2.\tСделайте описательную статистику по среднему баллу"
   ]
  },
  {
   "cell_type": "code",
   "execution_count": 270,
   "metadata": {},
   "outputs": [
    {
     "data": {
      "text/plain": [
       "count    1181.000000\n",
       "mean       52.047458\n",
       "std        14.959135\n",
       "min        10.000000\n",
       "25%        41.000000\n",
       "50%        49.000000\n",
       "75%        60.000000\n",
       "max       100.000000\n",
       "Name: Балл, dtype: float64"
      ]
     },
     "execution_count": 270,
     "metadata": {},
     "output_type": "execute_result"
    }
   ],
   "source": [
    "df.describe()['Балл']"
   ]
  },
  {
   "cell_type": "markdown",
   "metadata": {},
   "source": [
    "## 3.\tНайдите процент учащихся, выполнивших работу ниже среднего"
   ]
  },
  {
   "cell_type": "code",
   "execution_count": 271,
   "metadata": {},
   "outputs": [
    {
     "data": {
      "text/plain": [
       "56.223539373412365"
      ]
     },
     "execution_count": 271,
     "metadata": {},
     "output_type": "execute_result"
    }
   ],
   "source": [
    "df[df['Балл']<df['Балл'].mean()].shape[0]*100 / df.shape[0]"
   ]
  },
  {
   "cell_type": "markdown",
   "metadata": {},
   "source": [
    "## 4.\tНайти процент учащихся не сдавших экзамен"
   ]
  },
  {
   "cell_type": "code",
   "execution_count": 272,
   "metadata": {},
   "outputs": [
    {
     "data": {
      "text/plain": [
       "7.705334462320068"
      ]
     },
     "execution_count": 272,
     "metadata": {},
     "output_type": "execute_result"
    }
   ],
   "source": [
    "df[df['Балл']<df['Минимальный балл']].shape[0]*100 / df.shape[0]"
   ]
  },
  {
   "cell_type": "markdown",
   "metadata": {},
   "source": [
    "## 5.\tПостройте круговую диаграмму, показывающую распределение сдавших и не сдавших экзамен"
   ]
  },
  {
   "cell_type": "code",
   "execution_count": 273,
   "metadata": {},
   "outputs": [],
   "source": [
    "res = [df[df['Балл']<df['Минимальный балл']].shape[0]*100 / \n",
    "       df.shape[0], 100-(df[df['Балл']<df['Минимальный балл']].shape[0]*100 / df.shape[0])]"
   ]
  },
  {
   "cell_type": "code",
   "execution_count": 274,
   "metadata": {},
   "outputs": [
    {
     "data": {
      "image/png": "[encoded data removed]",
      "text/plain": [
       "<Figure size 432x288 with 1 Axes>"
      ]
     },
     "metadata": {},
     "output_type": "display_data"
    }
   ],
   "source": [
    "plt.pie(res, labels = ['Сдал', 'Нет'], autopct='%1.1f%%')\n",
    "plt.title('Распределение сдавших / не сдавших экзамен')\n",
    "plt.legend(['Сдал', 'Нет'])\n",
    "plt.show()"
   ]
  },
  {
   "cell_type": "markdown",
   "metadata": {},
   "source": [
    "## 6.\tПостройте гистограмму по распределению баллов за экзамен. Соответствует ли оно нормальному распределению?"
   ]
  },
  {
   "cell_type": "code",
   "execution_count": 275,
   "metadata": {},
   "outputs": [
    {
     "data": {
      "image/png": "[encoded data removed]",
      "text/plain": [
       "<Figure size 432x288 with 1 Axes>"
      ]
     },
     "metadata": {},
     "output_type": "display_data"
    }
   ],
   "source": [
    "plt.hist(df['Балл'],bins=15)\n",
    "plt.title('Гистограмма по распределению баллов')\n",
    "plt.xlabel(\"Количество\")\n",
    "plt.ylabel(\"Балл\")\n",
    "plt.show()"
   ]
  },
  {
   "cell_type": "markdown",
   "metadata": {},
   "source": [
    "__Нормальному распределению ..."
   ]
  },
  {
   "cell_type": "markdown",
   "metadata": {},
   "source": [
    "## 7.\tПостройте оценку ядерной плотности распределению баллов за экзамен"
   ]
  },
  {
   "cell_type": "code",
   "execution_count": 276,
   "metadata": {},
   "outputs": [],
   "source": [
    "# import seaborn as sns\n",
    "# sns.kdeplot(dt.SKU_count, shade=True, color=\"r\")"
   ]
  },
  {
   "cell_type": "code",
   "execution_count": 277,
   "metadata": {},
   "outputs": [
    {
     "data": {
      "image/png": "[encoded data removed]",
      "text/plain": [
       "<Figure size 432x288 with 1 Axes>"
      ]
     },
     "metadata": {},
     "output_type": "display_data"
    }
   ],
   "source": [
    "import seaborn as sns\n",
    "sns.kdeplot(df['Балл'], color=\"b\")\n",
    "plt.xlabel(\"Density\")\n",
    "plt.ylabel(\"Балл\")\n",
    "plt.title(\"Оценка распределения\")\n",
    "plt.show()"
   ]
  },
  {
   "cell_type": "markdown",
   "metadata": {},
   "source": [
    "## 8.\tНайдите процентное соотношение учащихся, сдавших экзамен на «отлично», «хорошо», «удовлетворительно», «неудовлетворительно». Сделайте графическое представление данного распределения"
   ]
  },
  {
   "cell_type": "code",
   "execution_count": 278,
   "metadata": {},
   "outputs": [],
   "source": [
    "# 0-35\n",
    "# 36-50\n",
    "# 51-75\n",
    "# 76"
   ]
  },
  {
   "cell_type": "code",
   "execution_count": 279,
   "metadata": {},
   "outputs": [
    {
     "data": {
      "text/plain": [
       "7.705334462320068"
      ]
     },
     "execution_count": 279,
     "metadata": {},
     "output_type": "execute_result"
    }
   ],
   "source": [
    "r2 = df[df['Балл']<=35].shape[0]*100 / df.shape[0]\n",
    "r2"
   ]
  },
  {
   "cell_type": "code",
   "execution_count": 280,
   "metadata": {},
   "outputs": [
    {
     "data": {
      "text/plain": [
       "42.67569856054192"
      ]
     },
     "execution_count": 280,
     "metadata": {},
     "output_type": "execute_result"
    }
   ],
   "source": [
    "r3 = df[df['Балл']<=50].shape[0]*100 / df.shape[0] -r2\n",
    "r3"
   ]
  },
  {
   "cell_type": "code",
   "execution_count": 281,
   "metadata": {},
   "outputs": [
    {
     "data": {
      "text/plain": [
       "40.47417442845047"
      ]
     },
     "execution_count": 281,
     "metadata": {},
     "output_type": "execute_result"
    }
   ],
   "source": [
    "r4 = df[df['Балл']<=75].shape[0]*100 / df.shape[0] -r3 - r2\n",
    "r4"
   ]
  },
  {
   "cell_type": "code",
   "execution_count": 282,
   "metadata": {},
   "outputs": [
    {
     "data": {
      "text/plain": [
       "9.144792548687553"
      ]
     },
     "execution_count": 282,
     "metadata": {},
     "output_type": "execute_result"
    }
   ],
   "source": [
    "r5 = df[df['Балл']>=76].shape[0]*100 / df.shape[0]\n",
    "r5"
   ]
  },
  {
   "cell_type": "code",
   "execution_count": 283,
   "metadata": {},
   "outputs": [],
   "source": [
    "matplotlib.style.use('seaborn-notebook')"
   ]
  },
  {
   "cell_type": "code",
   "execution_count": 284,
   "metadata": {},
   "outputs": [
    {
     "data": {
      "image/png": "[encoded data removed]",
      "text/plain": [
       "<Figure size 576x396 with 1 Axes>"
      ]
     },
     "metadata": {},
     "output_type": "display_data"
    }
   ],
   "source": [
    "plt.pie([r2, r3, r4, r5], autopct='%1.1f%%')\n",
    "plt.legend(['Удовлетворительно', 'Хорошо', 'Отлично', 'Неудовлетворительно'])\n",
    "plt.title('Процентное соотношение учащихся по различным оценкам')\n",
    "plt.show()"
   ]
  },
  {
   "cell_type": "markdown",
   "metadata": {},
   "source": [
    "## 9.\tПостройте «ящиковые диаграммы», сравнивающие баллы учащихся, сдавших экзамен на «отлично», «хорошо», «удовлетворительно», «неудовлетворительно»"
   ]
  },
  {
   "cell_type": "code",
   "execution_count": 285,
   "metadata": {},
   "outputs": [
    {
     "data": {
      "text/plain": [
       "0     10.0\n",
       "1     14.0\n",
       "2     17.0\n",
       "3     17.0\n",
       "4     17.0\n",
       "      ... \n",
       "86    33.0\n",
       "87    33.0\n",
       "88    33.0\n",
       "89    33.0\n",
       "90    33.0\n",
       "Name: Балл, Length: 91, dtype: float64"
      ]
     },
     "execution_count": 285,
     "metadata": {},
     "output_type": "execute_result"
    }
   ],
   "source": [
    "d_r2 = df[df['Балл']<=35]['Балл']\n",
    "d_r2"
   ]
  },
  {
   "cell_type": "code",
   "execution_count": 286,
   "metadata": {},
   "outputs": [],
   "source": [
    "d_r3 = df[(df['Балл']>35) & (df['Балл']<=50)]['Балл']"
   ]
  },
  {
   "cell_type": "code",
   "execution_count": 287,
   "metadata": {},
   "outputs": [],
   "source": [
    "d_r4 = df[(df['Балл']>50) & (df['Балл']<=75)]['Балл']"
   ]
  },
  {
   "cell_type": "code",
   "execution_count": 288,
   "metadata": {},
   "outputs": [],
   "source": [
    "d_r5 = df[df['Балл']>=76]['Балл']"
   ]
  },
  {
   "cell_type": "code",
   "execution_count": 289,
   "metadata": {},
   "outputs": [
    {
     "data": {
      "image/png": "[encoded data removed]",
      "text/plain": [
       "<Figure size 576x396 with 1 Axes>"
      ]
     },
     "metadata": {},
     "output_type": "display_data"
    }
   ],
   "source": [
    "plt.boxplot([d_r2, d_r3, d_r4, d_r5], labels = ['Неудовл', 'Удовл', 'Хорошо', 'Отлично'])\n",
    "plt.title('«Ящиковые диаграммы», сравнивающие баллы')\n",
    "plt.xlabel(\"Оценка\")\n",
    "plt.ylabel(\"Балл\")\n",
    "\n",
    "\n",
    "\n",
    "plt.show()"
   ]
  },
  {
   "cell_type": "markdown",
   "metadata": {},
   "source": [
    "## 10.\tКакое процентное соотношение юношей и девушек писало данный экзамен? Представьте графически"
   ]
  },
  {
   "cell_type": "code",
   "execution_count": 290,
   "metadata": {},
   "outputs": [],
   "source": [
    "m = df[df['Пол']=='М'].shape[0] *100 / df.shape[0]\n",
    "w = df[df['Пол']=='Ж'].shape[0] *100 / df.shape[0]"
   ]
  },
  {
   "cell_type": "code",
   "execution_count": 291,
   "metadata": {},
   "outputs": [
    {
     "data": {
      "image/png": "[encoded data removed]",
      "text/plain": [
       "<Figure size 576x396 with 1 Axes>"
      ]
     },
     "metadata": {},
     "output_type": "display_data"
    }
   ],
   "source": [
    "plt.pie([m,w], autopct='%1.1f%%')\n",
    "plt.title('процентное соотношение юношей и девушек')\n",
    "plt.legend(['М', 'Ж'])\n",
    "plt.show()"
   ]
  },
  {
   "cell_type": "markdown",
   "metadata": {},
   "source": [
    "## 11.\tПостройте диаграмму рассеивания, позволяющую увидеть средние баллы девушек и юношей"
   ]
  },
  {
   "cell_type": "code",
   "execution_count": 292,
   "metadata": {},
   "outputs": [],
   "source": [
    "# scatter"
   ]
  },
  {
   "cell_type": "code",
   "execution_count": 293,
   "metadata": {},
   "outputs": [
    {
     "data": {
      "image/png": "[encoded data removed]",
      "text/plain": [
       "<Figure size 1152x720 with 1 Axes>"
      ]
     },
     "metadata": {},
     "output_type": "display_data"
    }
   ],
   "source": [
    "plt.figure(figsize=(16, 10))\n",
    "ax = plt.scatter(df['№'], df['Балл'], c=np.where(df['Пол']=='М', 'blue', 'red'), s=2)\n",
    "# plt.legend(['Девушки', 'Юноши'])\n",
    "plt.title('Диаграмма рассеивания')\n",
    "plt.xlabel(\"Номер студента\")\n",
    "plt.ylabel(\"Балл студента\")\n",
    "plt.show()"
   ]
  },
  {
   "cell_type": "code",
   "execution_count": 294,
   "metadata": {},
   "outputs": [],
   "source": [
    "# цел"
   ]
  },
  {
   "cell_type": "markdown",
   "metadata": {},
   "source": [
    "## 12.\tСколько школ (код ППЕ) принимало участие в экзамене?"
   ]
  },
  {
   "cell_type": "code",
   "execution_count": 295,
   "metadata": {},
   "outputs": [
    {
     "data": {
      "text/plain": [
       "array([ 152.,  140.,  137.,  148.,  153.,  144.,  111.,  126.,  128.,\n",
       "        117.,  138.,  146.,  133.,  114.,  115.,  132.,  147.,  130.,\n",
       "       1106.,   nan])"
      ]
     },
     "execution_count": 295,
     "metadata": {},
     "output_type": "execute_result"
    }
   ],
   "source": [
    "sp_s = df['№ школы'].unique()\n",
    "sp_s"
   ]
  },
  {
   "cell_type": "code",
   "execution_count": 296,
   "metadata": {},
   "outputs": [
    {
     "name": "stdout",
     "output_type": "stream",
     "text": [
      "19 школ принимало участие\n"
     ]
    }
   ],
   "source": [
    "sp_s = list(filter(lambda x: not np.isnan(x), sp_s))\n",
    "print(f'{len(sp_s)} школ принимало участие')\n",
    "sp_s.sort()"
   ]
  },
  {
   "cell_type": "code",
   "execution_count": 297,
   "metadata": {},
   "outputs": [
    {
     "data": {
      "text/plain": [
       "[111,\n",
       " 114,\n",
       " 115,\n",
       " 117,\n",
       " 126,\n",
       " 128,\n",
       " 130,\n",
       " 132,\n",
       " 133,\n",
       " 137,\n",
       " 138,\n",
       " 140,\n",
       " 144,\n",
       " 146,\n",
       " 147,\n",
       " 148,\n",
       " 152,\n",
       " 153,\n",
       " 1106]"
      ]
     },
     "execution_count": 297,
     "metadata": {},
     "output_type": "execute_result"
    }
   ],
   "source": [
    "sp_s = list(map(int, sp_s))\n",
    "sp_s"
   ]
  },
  {
   "cell_type": "markdown",
   "metadata": {},
   "source": [
    "## 13.\tПостройте диаграмму, позволяющую сравнить средние баллы за экзамен по школам. Если какие-нибудь выбросы?"
   ]
  },
  {
   "cell_type": "code",
   "execution_count": 298,
   "metadata": {},
   "outputs": [],
   "source": [
    "it = []\n",
    "for sch in sp_s:\n",
    "    diap = df[df['№ школы']==sch]['Балл']\n",
    "    it.append(diap)"
   ]
  },
  {
   "cell_type": "code",
   "execution_count": 299,
   "metadata": {},
   "outputs": [
    {
     "data": {
      "image/png": "[encoded data removed]",
      "text/plain": [
       "<Figure size 576x396 with 1 Axes>"
      ]
     },
     "metadata": {},
     "output_type": "display_data"
    }
   ],
   "source": [
    "plt.boxplot([el for el in it], labels = sp_s)\n",
    "plt.show()"
   ]
  },
  {
   "cell_type": "markdown",
   "metadata": {},
   "source": [
    "Да, выбросы имеются, например в .... школе сильно выделяется ученик, набравший ... балла. В других школах также имеются выбросы"
   ]
  },
  {
   "cell_type": "markdown",
   "metadata": {},
   "source": [
    "# __Повышенной сложности:__"
   ]
  },
  {
   "cell_type": "markdown",
   "metadata": {},
   "source": [
    "## 1.\tСколько всего заданий с кратким ответом? С развернутым ответом?"
   ]
  },
  {
   "cell_type": "code",
   "execution_count": 300,
   "metadata": {},
   "outputs": [
    {
     "name": "stdout",
     "output_type": "stream",
     "text": [
      "Всего 27 заданий с кратким ответом \n"
     ]
    }
   ],
   "source": [
    "str_sh = df['Задания с кратким ответом'][0]\n",
    "res_sh = [char for char in str_sh]\n",
    "count_short = len(res_sh)\n",
    "print(f'Всего {count_short} заданий с кратким ответом ')"
   ]
  },
  {
   "cell_type": "code",
   "execution_count": null,
   "metadata": {},
   "outputs": [],
   "source": []
  },
  {
   "cell_type": "code",
   "execution_count": 301,
   "metadata": {},
   "outputs": [
    {
     "name": "stdout",
     "output_type": "stream",
     "text": [
      "Всего 5 заданий с развернутым ответом \n"
     ]
    }
   ],
   "source": [
    "str_long = df['Задания с развёрнутым ответом'][0]\n",
    "res_pr = [char for char in str_long]\n",
    "res_long = list(filter(lambda x: x=='(', res_pr))\n",
    "count_long = len(res_long)\n",
    "print(f'Всего {count_long} заданий с развернутым ответом ')"
   ]
  },
  {
   "cell_type": "markdown",
   "metadata": {},
   "source": [
    "## 2.\tПусть задания с кратким ответом будут задания типа В. Соответственно всего по экзамену вопросов класса В: В1 … Вк  Посчитайте процент выполненных и невыполненных заданий по каждому вопросу класса В. Постройте гистограмму, позволяю щую увидеть данное распределение. Какие есть выпады по данному распределению?"
   ]
  },
  {
   "cell_type": "code",
   "execution_count": 302,
   "metadata": {},
   "outputs": [],
   "source": [
    "global count_short\n",
    "global count_long"
   ]
  },
  {
   "cell_type": "code",
   "execution_count": 303,
   "metadata": {},
   "outputs": [],
   "source": [
    "df_short = pd.DataFrame(df['Задания с кратким ответом'].dropna())\n",
    "df_long = pd.DataFrame(df['Задания с развёрнутым ответом'].dropna())"
   ]
  },
  {
   "cell_type": "code",
   "execution_count": 304,
   "metadata": {},
   "outputs": [],
   "source": [
    "labels_b = [f'B{i}' for i in range(1,28)]\n",
    "labels_c = [f'C{i}' for i in range(1,6)]"
   ]
  },
  {
   "cell_type": "code",
   "execution_count": 305,
   "metadata": {},
   "outputs": [],
   "source": [
    "def add_col(df_w, par):\n",
    "    if par == 'B': \n",
    "        for num in range(count_short):\n",
    "            df_w[f'B{num+1}'] = df_w['Задания с кратким ответом'].str[num]\n",
    "    \n",
    "    elif par == 'C':\n",
    "        sp_p = [ i for i in range(0, 20, 4)]\n",
    "        for num in range(len(sp_p)):\n",
    "            df_w[f'C{num+1}'] = df_w['Задания с развёрнутым ответом'].str[sp_p[num]]\n",
    "    "
   ]
  },
  {
   "cell_type": "code",
   "execution_count": 306,
   "metadata": {},
   "outputs": [],
   "source": [
    "def count_b(df_w):\n",
    "    res_count_data_b = []\n",
    "    \n",
    "    for number in range(1,28):\n",
    "    \n",
    "        if df_w[f'B{number}'].iloc[0] in ['+', '-']:\n",
    "            mas_no = round(df_w[df_w[f'B{number}']=='-'].shape[0]*100 / df_w.shape[0])\n",
    "            mas_yes = 100-mas_no\n",
    "            res_count_data_b.append([mas_yes, mas_no])\n",
    "\n",
    "        else:\n",
    "            mas_no = round(df_w[df_short[f'B{number}']=='0'].shape[0]*100 / df_w.shape[0])\n",
    "            mas_yes = 100-mas_no\n",
    "            res_count_data_b.append([mas_yes, mas_no])\n",
    "    \n",
    "    res_count_data_b = np.array(res_count_data_b)\n",
    "    res_count_data_b = res_count_data_b.T\n",
    "            \n",
    "    return res_count_data_b"
   ]
  },
  {
   "cell_type": "code",
   "execution_count": 307,
   "metadata": {},
   "outputs": [],
   "source": [
    "def count_c(df_w):\n",
    "    res_count_data_c = []\n",
    "    \n",
    "    for number in range(1,6):\n",
    "    \n",
    "        mas_no = round(df_w[df_w[f'C{number}']=='0'].shape[0]*100 / df_w.shape[0])\n",
    "        mas_yes = 100 - mas_no\n",
    "        res_count_data_c.append([mas_yes, mas_no])\n",
    "        \n",
    "    res_count_data_c = np.array(res_count_data_c)\n",
    "    res_count_data_c = res_count_data_c.T\n",
    "    \n",
    "    return res_count_data_c"
   ]
  },
  {
   "cell_type": "code",
   "execution_count": 308,
   "metadata": {},
   "outputs": [],
   "source": [
    "add_col(df_short, 'B')\n",
    "add_col(df_long, 'C')"
   ]
  },
  {
   "cell_type": "code",
   "execution_count": 309,
   "metadata": {},
   "outputs": [
    {
     "data": {
      "text/plain": [
       "(array([[85, 87, 62, 44, 83, 83, 81, 66, 74, 35, 84, 75, 57, 51, 43, 82,\n",
       "         67, 61, 82, 75, 79, 51, 62, 96, 30, 37, 30],\n",
       "        [15, 13, 38, 56, 17, 17, 19, 34, 26, 65, 16, 25, 43, 49, 57, 18,\n",
       "         33, 39, 18, 25, 21, 49, 38,  4, 70, 63, 70]]),\n",
       " array([[18, 38, 16, 23, 32],\n",
       "        [82, 62, 84, 77, 68]]))"
      ]
     },
     "execution_count": 309,
     "metadata": {},
     "output_type": "execute_result"
    }
   ],
   "source": [
    "res_count_data_b = count_b(df_short)\n",
    "res_count_data_c = count_c(df_long)\n",
    "res_count_data_b, res_count_data_c"
   ]
  },
  {
   "cell_type": "code",
   "execution_count": 332,
   "metadata": {},
   "outputs": [
    {
     "data": {
      "image/png": "[encoded data removed]",
      "text/plain": [
       "<Figure size 1080x432 with 1 Axes>"
      ]
     },
     "metadata": {},
     "output_type": "display_data"
    }
   ],
   "source": [
    "X = np.arange(count_short)\n",
    "fig = plt.figure(figsize=(15, 6))\n",
    "ax = fig.add_axes([0,0,1,1])\n",
    "\n",
    "\n",
    "ax.bar(X + 0.00, res_count_data_b[0], color = 'b', width = 0.25, tick_label= labels_b, align='edge')\n",
    "ax.bar(X + 0.25, res_count_data_b[1], color = 'g', width = 0.25,  tick_label= labels_b, align='edge')\n",
    "ax.legend(labels=['Выполнено', 'Не Выполнено'])\n",
    "ax.set_ylabel('Процент заданий')\n",
    "ax.set_xlabel('Задание')\n",
    "plt.show()"
   ]
  },
  {
   "cell_type": "code",
   "execution_count": 331,
   "metadata": {},
   "outputs": [
    {
     "data": {
      "image/png": "[encoded data removed]",
      "text/plain": [
       "<Figure size 1080x432 with 1 Axes>"
      ]
     },
     "metadata": {},
     "output_type": "display_data"
    }
   ],
   "source": [
    "X = np.arange(count_long)\n",
    "fig = plt.figure(figsize=(15, 6))\n",
    "ax = fig.add_axes([0,0,1,1])\n",
    "\n",
    "\n",
    "ax.bar(X + 0.00, res_count_data_c[0], color = 'b', width = 0.25, tick_label= labels_c, align='edge')\n",
    "ax.bar(X + 0.25, res_count_data_c[1], color = 'g', width = 0.25,  tick_label= labels_c, align='edge')\n",
    "ax.legend(labels=['Выполнено', 'Не Выполнено'])\n",
    "ax.set_ylabel('Процент заданий')\n",
    "ax.set_xlabel('Задание')\n",
    "plt.show()"
   ]
  },
  {
   "cell_type": "code",
   "execution_count": null,
   "metadata": {},
   "outputs": [],
   "source": []
  },
  {
   "cell_type": "markdown",
   "metadata": {},
   "source": [
    "Из явных выпадов видно, что с заданием B24 справилось подавляющее большинство сдававших"
   ]
  },
  {
   "cell_type": "markdown",
   "metadata": {},
   "source": [
    "## 3.\tАналогично и с типом С (ответы с развернутым ответом)"
   ]
  },
  {
   "cell_type": "code",
   "execution_count": 312,
   "metadata": {},
   "outputs": [],
   "source": [
    "# сделано в пункте 2"
   ]
  },
  {
   "cell_type": "markdown",
   "metadata": {},
   "source": [
    "Явных выпадов не видно, но можно заметить, что с C2 справляется больше людей, чем с остальными задачами"
   ]
  },
  {
   "cell_type": "markdown",
   "metadata": {},
   "source": [
    "## 4.\tСделайте анализ по двум школам:\n",
    "* А) по всем выполненным заданиям типа В\n",
    "* Б) по заданиям типа С больше 50%\n",
    "* В) по среднему балу юношей и девушек\n"
   ]
  },
  {
   "cell_type": "code",
   "execution_count": 313,
   "metadata": {},
   "outputs": [],
   "source": [
    "first_school, second_school = 140, 153"
   ]
  },
  {
   "cell_type": "code",
   "execution_count": 314,
   "metadata": {},
   "outputs": [],
   "source": [
    "df_140 = df[df['№ школы']==first_school][['№ школы', 'Задания с кратким ответом', 'Задания с развёрнутым ответом', 'Балл', 'Пол']]\n",
    "df_153 = df[df['№ школы']==second_school][['№ школы', 'Задания с кратким ответом', 'Задания с развёрнутым ответом', 'Балл', 'Пол']]\n"
   ]
  },
  {
   "cell_type": "code",
   "execution_count": 315,
   "metadata": {},
   "outputs": [],
   "source": [
    "add_col(df_140, 'B')\n",
    "add_col(df_153, 'B')"
   ]
  },
  {
   "cell_type": "code",
   "execution_count": 316,
   "metadata": {},
   "outputs": [
    {
     "name": "stderr",
     "output_type": "stream",
     "text": [
      "/opt/anaconda3/lib/python3.7/site-packages/ipykernel_launcher.py:12: UserWarning: Boolean Series key will be reindexed to match DataFrame index.\n",
      "  if sys.path[0] == '':\n"
     ]
    }
   ],
   "source": [
    "res_count_data_b_140 = count_b(df_140)\n",
    "res_count_data_b_153 = count_b(df_153)"
   ]
  },
  {
   "cell_type": "code",
   "execution_count": 317,
   "metadata": {},
   "outputs": [
    {
     "data": {
      "text/plain": [
       "(array([87, 88, 69, 40, 84, 81, 76, 67, 83, 30, 83, 84, 57, 51, 34, 74, 67,\n",
       "        54, 81, 73, 79, 49, 61, 96, 30, 34, 29]),\n",
       " array([80, 89, 65, 50, 84, 79, 80, 74, 68, 33, 87, 67, 53, 49, 42, 81, 63,\n",
       "        52, 74, 80, 78, 44, 59, 95, 33, 32, 27]))"
      ]
     },
     "execution_count": 317,
     "metadata": {},
     "output_type": "execute_result"
    }
   ],
   "source": [
    "res_count_data_b_140[0], res_count_data_b_153[0]"
   ]
  },
  {
   "cell_type": "code",
   "execution_count": 329,
   "metadata": {},
   "outputs": [
    {
     "data": {
      "image/png": "[encoded data removed]",
      "text/plain": [
       "<Figure size 1080x432 with 1 Axes>"
      ]
     },
     "metadata": {},
     "output_type": "display_data"
    }
   ],
   "source": [
    "X = np.arange(count_short)\n",
    "fig = plt.figure(figsize=(15, 6))\n",
    "ax = fig.add_axes([0,0,1,1])\n",
    "\n",
    "\n",
    "ax.bar(X + 0.00, res_count_data_b_140[0], color = 'b', width = 0.25, tick_label= labels_b, align='edge')\n",
    "ax.bar(X + 0.25, res_count_data_b_153[0], color = 'g', width = 0.25,  tick_label= labels_b, align='edge')\n",
    "ax.legend(labels=['Школа 140', 'Школа 153'])\n",
    "ax.set_ylabel('Выполнено заданий %')\n",
    "ax.set_xlabel('Задание')\n",
    "plt.show()"
   ]
  },
  {
   "cell_type": "code",
   "execution_count": null,
   "metadata": {},
   "outputs": [],
   "source": []
  },
  {
   "cell_type": "markdown",
   "metadata": {},
   "source": [
    "### Б) по заданиям типа С больше 50%"
   ]
  },
  {
   "cell_type": "code",
   "execution_count": 319,
   "metadata": {},
   "outputs": [],
   "source": [
    "add_col(df_140, 'C')\n",
    "add_col(df_153, 'C')"
   ]
  },
  {
   "cell_type": "code",
   "execution_count": 320,
   "metadata": {},
   "outputs": [
    {
     "data": {
      "text/html": [
       "<div>\n",
       "<style scoped>\n",
       "    .dataframe tbody tr th:only-of-type {\n",
       "        vertical-align: middle;\n",
       "    }\n",
       "\n",
       "    .dataframe tbody tr th {\n",
       "        vertical-align: top;\n",
       "    }\n",
       "\n",
       "    .dataframe thead th {\n",
       "        text-align: right;\n",
       "    }\n",
       "</style>\n",
       "<table border=\"1\" class=\"dataframe\">\n",
       "  <thead>\n",
       "    <tr style=\"text-align: right;\">\n",
       "      <th></th>\n",
       "      <th>№ школы</th>\n",
       "      <th>Задания с кратким ответом</th>\n",
       "      <th>Задания с развёрнутым ответом</th>\n",
       "      <th>Балл</th>\n",
       "      <th>Пол</th>\n",
       "      <th>B1</th>\n",
       "      <th>B2</th>\n",
       "      <th>B3</th>\n",
       "      <th>B4</th>\n",
       "      <th>B5</th>\n",
       "      <th>...</th>\n",
       "      <th>B23</th>\n",
       "      <th>B24</th>\n",
       "      <th>B25</th>\n",
       "      <th>B26</th>\n",
       "      <th>B27</th>\n",
       "      <th>C1</th>\n",
       "      <th>C2</th>\n",
       "      <th>C3</th>\n",
       "      <th>C4</th>\n",
       "      <th>C5</th>\n",
       "    </tr>\n",
       "  </thead>\n",
       "  <tbody>\n",
       "    <tr>\n",
       "      <th>1</th>\n",
       "      <td>140.0</td>\n",
       "      <td>----100---01-+-000--0--1---</td>\n",
       "      <td>0(3)0(3)0(3)0(3)0(3)</td>\n",
       "      <td>14.0</td>\n",
       "      <td>Ж</td>\n",
       "      <td>-</td>\n",
       "      <td>-</td>\n",
       "      <td>-</td>\n",
       "      <td>-</td>\n",
       "      <td>1</td>\n",
       "      <td>...</td>\n",
       "      <td>-</td>\n",
       "      <td>1</td>\n",
       "      <td>-</td>\n",
       "      <td>-</td>\n",
       "      <td>-</td>\n",
       "      <td>0</td>\n",
       "      <td>0</td>\n",
       "      <td>0</td>\n",
       "      <td>0</td>\n",
       "      <td>0</td>\n",
       "    </tr>\n",
       "    <tr>\n",
       "      <th>10</th>\n",
       "      <td>140.0</td>\n",
       "      <td>-+--100---10---010--1--1---</td>\n",
       "      <td>0(3)0(3)0(3)0(3)0(3)</td>\n",
       "      <td>20.0</td>\n",
       "      <td>М</td>\n",
       "      <td>-</td>\n",
       "      <td>+</td>\n",
       "      <td>-</td>\n",
       "      <td>-</td>\n",
       "      <td>1</td>\n",
       "      <td>...</td>\n",
       "      <td>-</td>\n",
       "      <td>1</td>\n",
       "      <td>-</td>\n",
       "      <td>-</td>\n",
       "      <td>-</td>\n",
       "      <td>0</td>\n",
       "      <td>0</td>\n",
       "      <td>0</td>\n",
       "      <td>0</td>\n",
       "      <td>0</td>\n",
       "    </tr>\n",
       "  </tbody>\n",
       "</table>\n",
       "<p>2 rows × 37 columns</p>\n",
       "</div>"
      ],
      "text/plain": [
       "    № школы    Задания с кратким ответом Задания с развёрнутым ответом  Балл  \\\n",
       "1     140.0  ----100---01-+-000--0--1---          0(3)0(3)0(3)0(3)0(3)  14.0   \n",
       "10    140.0  -+--100---10---010--1--1---          0(3)0(3)0(3)0(3)0(3)  20.0   \n",
       "\n",
       "   Пол B1 B2 B3 B4 B5  ... B23 B24 B25 B26 B27 C1 C2 C3 C4 C5  \n",
       "1    Ж  -  -  -  -  1  ...   -   1   -   -   -  0  0  0  0  0  \n",
       "10   М  -  +  -  -  1  ...   -   1   -   -   -  0  0  0  0  0  \n",
       "\n",
       "[2 rows x 37 columns]"
      ]
     },
     "execution_count": 320,
     "metadata": {},
     "output_type": "execute_result"
    }
   ],
   "source": [
    "df_140.head(2)"
   ]
  },
  {
   "cell_type": "code",
   "execution_count": 321,
   "metadata": {},
   "outputs": [],
   "source": [
    "def count_c_50(df_w):\n",
    "    res_count_data_c = []\n",
    "    \n",
    "    for number in range(1,6):\n",
    "    \n",
    "        mas_2 = round(df_w[df_w[f'C{number}']=='2'].shape[0]*100 / df_w.shape[0])\n",
    "        mas_3 = round(df_w[df_w[f'C{number}']=='3'].shape[0]*100 / df_w.shape[0])\n",
    "        res_count_data_c.append(mas_2+mas_3)\n",
    "    \n",
    "    return res_count_data_c"
   ]
  },
  {
   "cell_type": "code",
   "execution_count": 322,
   "metadata": {},
   "outputs": [],
   "source": [
    "res_count_data_c_140 = count_c_50(df_140)\n",
    "res_count_data_c_153 = count_c_50(df_153)"
   ]
  },
  {
   "cell_type": "code",
   "execution_count": 323,
   "metadata": {},
   "outputs": [
    {
     "data": {
      "text/plain": [
       "([3, 17, 4, 0, 6], [5, 20, 9, 4, 13])"
      ]
     },
     "execution_count": 323,
     "metadata": {},
     "output_type": "execute_result"
    }
   ],
   "source": [
    "res_count_data_c_140, res_count_data_c_153"
   ]
  },
  {
   "cell_type": "code",
   "execution_count": 328,
   "metadata": {},
   "outputs": [
    {
     "data": {
      "image/png": "[encoded data removed]",
      "text/plain": [
       "<Figure size 1080x432 with 1 Axes>"
      ]
     },
     "metadata": {},
     "output_type": "display_data"
    }
   ],
   "source": [
    "X = np.arange(count_long)\n",
    "fig = plt.figure(figsize=(15, 6))\n",
    "ax = fig.add_axes([0,0,1,1])\n",
    "\n",
    "\n",
    "ax.bar(X + 0.00, res_count_data_c_140, color = 'b', width = 0.25, tick_label= labels_c, align='edge')\n",
    "ax.bar(X + 0.25, res_count_data_c_153, color = 'g', width = 0.25,  tick_label= labels_c, align='edge')\n",
    "ax.legend(labels=['Школа 140', 'Школа 153'])\n",
    "ax.set_ylabel('Задание решено на 50% и более')\n",
    "ax.set_xlabel('Задание')\n",
    "plt.show()"
   ]
  },
  {
   "cell_type": "markdown",
   "metadata": {},
   "source": [
    "В школе №140 никто не решил С4 более, чем на 50%"
   ]
  },
  {
   "cell_type": "markdown",
   "metadata": {},
   "source": [
    "### в) по среднему балу юношей и девушек"
   ]
  },
  {
   "cell_type": "code",
   "execution_count": 325,
   "metadata": {},
   "outputs": [],
   "source": [
    "res_140 = df_140.groupby('Пол')['Балл'].mean()\n",
    "res_153 = df_153.groupby('Пол')['Балл'].mean()"
   ]
  },
  {
   "cell_type": "code",
   "execution_count": 326,
   "metadata": {},
   "outputs": [],
   "source": [
    "list_res_140 = list(res_140)\n",
    "list_res_153 = list(res_153)"
   ]
  },
  {
   "cell_type": "code",
   "execution_count": 327,
   "metadata": {},
   "outputs": [
    {
     "data": {
      "image/png": "[encoded data removed]",
      "text/plain": [
       "<Figure size 1080x432 with 1 Axes>"
      ]
     },
     "metadata": {},
     "output_type": "display_data"
    }
   ],
   "source": [
    "X = np.arange(2)\n",
    "fig = plt.figure(figsize=(15, 6))\n",
    "ax = fig.add_axes([0,0,1,1])\n",
    "\n",
    "\n",
    "ax.bar(X + 0.00, list_res_140, color = 'b', width = 0.25, tick_label= ['Ж', 'М'], align='edge')\n",
    "ax.bar(X + 0.25, list_res_153, color = 'g', width = 0.25,  tick_label= ['Ж', 'М'], align='edge')\n",
    "ax.legend(labels=['Школа 140', 'Школа 153'])\n",
    "ax.set_ylabel('Средний балл')\n",
    "ax.set_xlabel('Пол')\n",
    "plt.title('Средний балл по юношам и девушкам')\n",
    "plt.show()\n"
   ]
  },
  {
   "cell_type": "code",
   "execution_count": null,
   "metadata": {},
   "outputs": [],
   "source": []
  },
  {
   "cell_type": "code",
   "execution_count": null,
   "metadata": {},
   "outputs": [],
   "source": []
  }
 ],
 "metadata": {
  "kernelspec": {
   "display_name": "Python 3",
   "language": "python",
   "name": "python3"
  },
  "language_info": {
   "codemirror_mode": {
    "name": "ipython",
    "version": 3
   },
   "file_extension": ".py",
   "mimetype": "text/x-python",
   "name": "python",
   "nbconvert_exporter": "python",
   "pygments_lexer": "ipython3",
   "version": "3.7.6"
  }
 },
 "nbformat": 4,
 "nbformat_minor": 2
}
