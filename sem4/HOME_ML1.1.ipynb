{
 "cells": [
  {
   "cell_type": "markdown",
   "metadata": {},
   "source": [
    "## ML1.1 Парная линейная регрессия"
   ]
  },
  {
   "cell_type": "code",
   "execution_count": 21,
   "metadata": {},
   "outputs": [],
   "source": [
    "import numpy as np\n",
    "import pandas as pd\n",
    "import matplotlib.pyplot as plt\n"
   ]
  },
  {
   "cell_type": "code",
   "execution_count": 22,
   "metadata": {},
   "outputs": [],
   "source": [
    "mvid = pd.read_csv('data/MVID_101001_171001.txt')\n",
    "sber = pd.read_csv('data/SBER_101001_171001.txt')"
   ]
  },
  {
   "cell_type": "code",
   "execution_count": 23,
   "metadata": {},
   "outputs": [
    {
     "data": {
      "text/html": [
       "<div>\n",
       "<style scoped>\n",
       "    .dataframe tbody tr th:only-of-type {\n",
       "        vertical-align: middle;\n",
       "    }\n",
       "\n",
       "    .dataframe tbody tr th {\n",
       "        vertical-align: top;\n",
       "    }\n",
       "\n",
       "    .dataframe thead th {\n",
       "        text-align: right;\n",
       "    }\n",
       "</style>\n",
       "<table border=\"1\" class=\"dataframe\">\n",
       "  <thead>\n",
       "    <tr style=\"text-align: right;\">\n",
       "      <th></th>\n",
       "      <th>&lt;TICKER&gt;</th>\n",
       "      <th>&lt;PER&gt;</th>\n",
       "      <th>&lt;DATE&gt;</th>\n",
       "      <th>&lt;TIME&gt;</th>\n",
       "      <th>&lt;CLOSE&gt;</th>\n",
       "      <th>&lt;VOL&gt;</th>\n",
       "    </tr>\n",
       "  </thead>\n",
       "  <tbody>\n",
       "    <tr>\n",
       "      <th>0</th>\n",
       "      <td>SBER</td>\n",
       "      <td>D</td>\n",
       "      <td>20101001</td>\n",
       "      <td>0</td>\n",
       "      <td>89.09</td>\n",
       "      <td>332429890</td>\n",
       "    </tr>\n",
       "    <tr>\n",
       "      <th>1</th>\n",
       "      <td>SBER</td>\n",
       "      <td>D</td>\n",
       "      <td>20101004</td>\n",
       "      <td>0</td>\n",
       "      <td>89.88</td>\n",
       "      <td>194032721</td>\n",
       "    </tr>\n",
       "    <tr>\n",
       "      <th>2</th>\n",
       "      <td>SBER</td>\n",
       "      <td>D</td>\n",
       "      <td>20101005</td>\n",
       "      <td>0</td>\n",
       "      <td>91.97</td>\n",
       "      <td>198775753</td>\n",
       "    </tr>\n",
       "    <tr>\n",
       "      <th>3</th>\n",
       "      <td>SBER</td>\n",
       "      <td>D</td>\n",
       "      <td>20101006</td>\n",
       "      <td>0</td>\n",
       "      <td>91.20</td>\n",
       "      <td>210406027</td>\n",
       "    </tr>\n",
       "    <tr>\n",
       "      <th>4</th>\n",
       "      <td>SBER</td>\n",
       "      <td>D</td>\n",
       "      <td>20101007</td>\n",
       "      <td>0</td>\n",
       "      <td>90.40</td>\n",
       "      <td>145137617</td>\n",
       "    </tr>\n",
       "  </tbody>\n",
       "</table>\n",
       "</div>"
      ],
      "text/plain": [
       "  <TICKER> <PER>    <DATE>  <TIME>  <CLOSE>      <VOL>\n",
       "0     SBER     D  20101001       0    89.09  332429890\n",
       "1     SBER     D  20101004       0    89.88  194032721\n",
       "2     SBER     D  20101005       0    91.97  198775753\n",
       "3     SBER     D  20101006       0    91.20  210406027\n",
       "4     SBER     D  20101007       0    90.40  145137617"
      ]
     },
     "execution_count": 23,
     "metadata": {},
     "output_type": "execute_result"
    }
   ],
   "source": [
    "sber.head()"
   ]
  },
  {
   "cell_type": "code",
   "execution_count": 24,
   "metadata": {},
   "outputs": [
    {
     "data": {
      "text/html": [
       "<div>\n",
       "<style scoped>\n",
       "    .dataframe tbody tr th:only-of-type {\n",
       "        vertical-align: middle;\n",
       "    }\n",
       "\n",
       "    .dataframe tbody tr th {\n",
       "        vertical-align: top;\n",
       "    }\n",
       "\n",
       "    .dataframe thead th {\n",
       "        text-align: right;\n",
       "    }\n",
       "</style>\n",
       "<table border=\"1\" class=\"dataframe\">\n",
       "  <thead>\n",
       "    <tr style=\"text-align: right;\">\n",
       "      <th></th>\n",
       "      <th>&lt;TICKER&gt;</th>\n",
       "      <th>&lt;PER&gt;</th>\n",
       "      <th>&lt;DATE&gt;</th>\n",
       "      <th>&lt;TIME&gt;</th>\n",
       "      <th>&lt;CLOSE&gt;</th>\n",
       "      <th>&lt;VOL&gt;</th>\n",
       "    </tr>\n",
       "  </thead>\n",
       "  <tbody>\n",
       "    <tr>\n",
       "      <th>0</th>\n",
       "      <td>MVID</td>\n",
       "      <td>D</td>\n",
       "      <td>20101001</td>\n",
       "      <td>0</td>\n",
       "      <td>194.38</td>\n",
       "      <td>19406</td>\n",
       "    </tr>\n",
       "    <tr>\n",
       "      <th>1</th>\n",
       "      <td>MVID</td>\n",
       "      <td>D</td>\n",
       "      <td>20101004</td>\n",
       "      <td>0</td>\n",
       "      <td>190.00</td>\n",
       "      <td>31039</td>\n",
       "    </tr>\n",
       "    <tr>\n",
       "      <th>2</th>\n",
       "      <td>MVID</td>\n",
       "      <td>D</td>\n",
       "      <td>20101005</td>\n",
       "      <td>0</td>\n",
       "      <td>187.00</td>\n",
       "      <td>17651</td>\n",
       "    </tr>\n",
       "    <tr>\n",
       "      <th>3</th>\n",
       "      <td>MVID</td>\n",
       "      <td>D</td>\n",
       "      <td>20101006</td>\n",
       "      <td>0</td>\n",
       "      <td>190.04</td>\n",
       "      <td>36482</td>\n",
       "    </tr>\n",
       "    <tr>\n",
       "      <th>4</th>\n",
       "      <td>MVID</td>\n",
       "      <td>D</td>\n",
       "      <td>20101007</td>\n",
       "      <td>0</td>\n",
       "      <td>199.85</td>\n",
       "      <td>204248</td>\n",
       "    </tr>\n",
       "  </tbody>\n",
       "</table>\n",
       "</div>"
      ],
      "text/plain": [
       "  <TICKER> <PER>    <DATE>  <TIME>  <CLOSE>   <VOL>\n",
       "0     MVID     D  20101001       0   194.38   19406\n",
       "1     MVID     D  20101004       0   190.00   31039\n",
       "2     MVID     D  20101005       0   187.00   17651\n",
       "3     MVID     D  20101006       0   190.04   36482\n",
       "4     MVID     D  20101007       0   199.85  204248"
      ]
     },
     "execution_count": 24,
     "metadata": {},
     "output_type": "execute_result"
    }
   ],
   "source": [
    "mvid.head()"
   ]
  },
  {
   "cell_type": "code",
   "execution_count": 25,
   "metadata": {},
   "outputs": [
    {
     "name": "stdout",
     "output_type": "stream",
     "text": [
      "<class 'pandas.core.frame.DataFrame'>\n",
      "RangeIndex: 1758 entries, 0 to 1757\n",
      "Data columns (total 6 columns):\n",
      " #   Column    Non-Null Count  Dtype  \n",
      "---  ------    --------------  -----  \n",
      " 0   <TICKER>  1758 non-null   object \n",
      " 1   <PER>     1758 non-null   object \n",
      " 2   <DATE>    1758 non-null   int64  \n",
      " 3   <TIME>    1758 non-null   int64  \n",
      " 4   <CLOSE>   1758 non-null   float64\n",
      " 5   <VOL>     1758 non-null   int64  \n",
      "dtypes: float64(1), int64(3), object(2)\n",
      "memory usage: 82.5+ KB\n"
     ]
    }
   ],
   "source": [
    "sber.info()"
   ]
  },
  {
   "cell_type": "code",
   "execution_count": 26,
   "metadata": {},
   "outputs": [
    {
     "name": "stdout",
     "output_type": "stream",
     "text": [
      "<class 'pandas.core.frame.DataFrame'>\n",
      "RangeIndex: 1758 entries, 0 to 1757\n",
      "Data columns (total 6 columns):\n",
      " #   Column    Non-Null Count  Dtype  \n",
      "---  ------    --------------  -----  \n",
      " 0   <TICKER>  1758 non-null   object \n",
      " 1   <PER>     1758 non-null   object \n",
      " 2   <DATE>    1758 non-null   int64  \n",
      " 3   <TIME>    1758 non-null   int64  \n",
      " 4   <CLOSE>   1758 non-null   float64\n",
      " 5   <VOL>     1758 non-null   int64  \n",
      "dtypes: float64(1), int64(3), object(2)\n",
      "memory usage: 82.5+ KB\n"
     ]
    }
   ],
   "source": [
    "mvid.info()"
   ]
  },
  {
   "cell_type": "code",
   "execution_count": 27,
   "metadata": {},
   "outputs": [],
   "source": [
    "res = pd.merge(sber, mvid, on='<DATE>')"
   ]
  },
  {
   "cell_type": "code",
   "execution_count": 28,
   "metadata": {},
   "outputs": [
    {
     "data": {
      "text/html": [
       "<div>\n",
       "<style scoped>\n",
       "    .dataframe tbody tr th:only-of-type {\n",
       "        vertical-align: middle;\n",
       "    }\n",
       "\n",
       "    .dataframe tbody tr th {\n",
       "        vertical-align: top;\n",
       "    }\n",
       "\n",
       "    .dataframe thead th {\n",
       "        text-align: right;\n",
       "    }\n",
       "</style>\n",
       "<table border=\"1\" class=\"dataframe\">\n",
       "  <thead>\n",
       "    <tr style=\"text-align: right;\">\n",
       "      <th></th>\n",
       "      <th>&lt;TICKER&gt;_x</th>\n",
       "      <th>&lt;PER&gt;_x</th>\n",
       "      <th>&lt;DATE&gt;</th>\n",
       "      <th>&lt;TIME&gt;_x</th>\n",
       "      <th>&lt;CLOSE&gt;_x</th>\n",
       "      <th>&lt;VOL&gt;_x</th>\n",
       "      <th>&lt;TICKER&gt;_y</th>\n",
       "      <th>&lt;PER&gt;_y</th>\n",
       "      <th>&lt;TIME&gt;_y</th>\n",
       "      <th>&lt;CLOSE&gt;_y</th>\n",
       "      <th>&lt;VOL&gt;_y</th>\n",
       "    </tr>\n",
       "  </thead>\n",
       "  <tbody>\n",
       "    <tr>\n",
       "      <th>0</th>\n",
       "      <td>SBER</td>\n",
       "      <td>D</td>\n",
       "      <td>20101001</td>\n",
       "      <td>0</td>\n",
       "      <td>89.09</td>\n",
       "      <td>332429890</td>\n",
       "      <td>MVID</td>\n",
       "      <td>D</td>\n",
       "      <td>0</td>\n",
       "      <td>194.38</td>\n",
       "      <td>19406</td>\n",
       "    </tr>\n",
       "    <tr>\n",
       "      <th>1</th>\n",
       "      <td>SBER</td>\n",
       "      <td>D</td>\n",
       "      <td>20101004</td>\n",
       "      <td>0</td>\n",
       "      <td>89.88</td>\n",
       "      <td>194032721</td>\n",
       "      <td>MVID</td>\n",
       "      <td>D</td>\n",
       "      <td>0</td>\n",
       "      <td>190.00</td>\n",
       "      <td>31039</td>\n",
       "    </tr>\n",
       "    <tr>\n",
       "      <th>2</th>\n",
       "      <td>SBER</td>\n",
       "      <td>D</td>\n",
       "      <td>20101005</td>\n",
       "      <td>0</td>\n",
       "      <td>91.97</td>\n",
       "      <td>198775753</td>\n",
       "      <td>MVID</td>\n",
       "      <td>D</td>\n",
       "      <td>0</td>\n",
       "      <td>187.00</td>\n",
       "      <td>17651</td>\n",
       "    </tr>\n",
       "    <tr>\n",
       "      <th>3</th>\n",
       "      <td>SBER</td>\n",
       "      <td>D</td>\n",
       "      <td>20101006</td>\n",
       "      <td>0</td>\n",
       "      <td>91.20</td>\n",
       "      <td>210406027</td>\n",
       "      <td>MVID</td>\n",
       "      <td>D</td>\n",
       "      <td>0</td>\n",
       "      <td>190.04</td>\n",
       "      <td>36482</td>\n",
       "    </tr>\n",
       "    <tr>\n",
       "      <th>4</th>\n",
       "      <td>SBER</td>\n",
       "      <td>D</td>\n",
       "      <td>20101007</td>\n",
       "      <td>0</td>\n",
       "      <td>90.40</td>\n",
       "      <td>145137617</td>\n",
       "      <td>MVID</td>\n",
       "      <td>D</td>\n",
       "      <td>0</td>\n",
       "      <td>199.85</td>\n",
       "      <td>204248</td>\n",
       "    </tr>\n",
       "  </tbody>\n",
       "</table>\n",
       "</div>"
      ],
      "text/plain": [
       "  <TICKER>_x <PER>_x    <DATE>  <TIME>_x  <CLOSE>_x    <VOL>_x <TICKER>_y  \\\n",
       "0       SBER       D  20101001         0      89.09  332429890       MVID   \n",
       "1       SBER       D  20101004         0      89.88  194032721       MVID   \n",
       "2       SBER       D  20101005         0      91.97  198775753       MVID   \n",
       "3       SBER       D  20101006         0      91.20  210406027       MVID   \n",
       "4       SBER       D  20101007         0      90.40  145137617       MVID   \n",
       "\n",
       "  <PER>_y  <TIME>_y  <CLOSE>_y  <VOL>_y  \n",
       "0       D         0     194.38    19406  \n",
       "1       D         0     190.00    31039  \n",
       "2       D         0     187.00    17651  \n",
       "3       D         0     190.04    36482  \n",
       "4       D         0     199.85   204248  "
      ]
     },
     "execution_count": 28,
     "metadata": {},
     "output_type": "execute_result"
    }
   ],
   "source": [
    "res.head()"
   ]
  },
  {
   "cell_type": "code",
   "execution_count": 29,
   "metadata": {},
   "outputs": [],
   "source": [
    "x = res['<CLOSE>_x']\n",
    "y = res['<CLOSE>_y']"
   ]
  },
  {
   "cell_type": "code",
   "execution_count": 30,
   "metadata": {},
   "outputs": [
    {
     "data": {
      "image/png": "[encoded data removed]",
      "text/plain": [
       "<Figure size 432x288 with 1 Axes>"
      ]
     },
     "metadata": {
      "needs_background": "light"
     },
     "output_type": "display_data"
    }
   ],
   "source": [
    "# построим график зависимости одной переменной от другой:\n",
    "plt.figure()\n",
    "plt.scatter(x,y)\n",
    "plt.show()\n",
    "# видим, что прослеживается линейная зависимость"
   ]
  },
  {
   "cell_type": "code",
   "execution_count": 31,
   "metadata": {},
   "outputs": [
    {
     "data": {
      "text/plain": [
       "'\\nКласс, который будет реализовывать метод парной линейной регрессии:\\n'"
      ]
     },
     "execution_count": 31,
     "metadata": {},
     "output_type": "execute_result"
    }
   ],
   "source": [
    "\"\"\"\n",
    "Класс, который будет реализовывать метод парной линейной регрессии:\n",
    "\"\"\""
   ]
  },
  {
   "cell_type": "code",
   "execution_count": 32,
   "metadata": {},
   "outputs": [],
   "source": [
    "class hypothesis(object):\n",
    "    \"\"\"Модель парной линейной регрессии\"\"\"\n",
    "    def __init__(self):\n",
    "        self.b0 = 0\n",
    "        self.b1 = 0\n",
    "        \n",
    "    def predict(self, x):\n",
    "        return self.b0 + self.b1 * x\n",
    "    \n",
    "    def error(self, X, Y):    \n",
    "        return sum((self.predict(X) - Y)**2) / (2 * len(X)) \n",
    "    \n",
    "    def BGD(self, X, Y):  \n",
    "        alpha = 0.00005\n",
    "        dJ0 = sum(self.predict(X) - Y) /len(X)\n",
    "        dJ1 = sum((self.predict(X) - Y) * X) /len(X)\n",
    "\n",
    "        self.b0 -= alpha * dJ0\n",
    "        self.b1 -= alpha * dJ1\n",
    "\n",
    "\n"
   ]
  },
  {
   "cell_type": "code",
   "execution_count": null,
   "metadata": {},
   "outputs": [],
   "source": []
  },
  {
   "cell_type": "code",
   "execution_count": 33,
   "metadata": {},
   "outputs": [],
   "source": [
    "# создаем объект класса\n",
    "hyp = hypothesis()"
   ]
  },
  {
   "cell_type": "code",
   "execution_count": 34,
   "metadata": {},
   "outputs": [
    {
     "name": "stdout",
     "output_type": "stream",
     "text": [
      "0\n",
      "0\n"
     ]
    }
   ],
   "source": [
    "print(hyp.predict(0))\n",
    "print(hyp.predict(100))"
   ]
  },
  {
   "cell_type": "code",
   "execution_count": 35,
   "metadata": {},
   "outputs": [
    {
     "name": "stdout",
     "output_type": "stream",
     "text": [
      "initial error: 36271.58344889084\n"
     ]
    }
   ],
   "source": [
    "J = hyp.error(x, y)\n",
    "print(\"initial error:\", J)"
   ]
  },
  {
   "cell_type": "code",
   "execution_count": 36,
   "metadata": {},
   "outputs": [
    {
     "data": {
      "image/png": "[encoded data removed]",
      "text/plain": [
       "<Figure size 432x288 with 1 Axes>"
      ]
     },
     "metadata": {
      "needs_background": "light"
     },
     "output_type": "display_data"
    }
   ],
   "source": [
    "# результат в самом начале\n",
    "X0 = np.linspace(60, 180, 100)\n",
    "Y0 = hyp.predict(X0)\n",
    "plt.figure()\n",
    "plt.scatter(x, y)\n",
    "plt.plot(X0, Y0, 'r')\n",
    "plt.show()\n"
   ]
  },
  {
   "cell_type": "code",
   "execution_count": 37,
   "metadata": {},
   "outputs": [
    {
     "name": "stdout",
     "output_type": "stream",
     "text": [
      "error after gradient descent: 6734.135540194945\n"
     ]
    }
   ],
   "source": [
    "hyp.BGD(x, y)\n",
    "J = hyp.error(x, y)\n",
    "print(\"error after gradient descent:\", J)"
   ]
  },
  {
   "cell_type": "code",
   "execution_count": 38,
   "metadata": {},
   "outputs": [
    {
     "data": {
      "image/png": "[encoded data removed]",
      "text/plain": [
       "<Figure size 432x288 with 1 Axes>"
      ]
     },
     "metadata": {
      "needs_background": "light"
     },
     "output_type": "display_data"
    }
   ],
   "source": [
    "X0 = np.linspace(60, 180, 100)\n",
    "Y0 = hyp.predict(X0)\n",
    "\n",
    "plt.figure()\n",
    "plt.scatter(x, y)\n",
    "plt.plot(X0, Y0, 'r')\n",
    "plt.show()\n"
   ]
  },
  {
   "cell_type": "code",
   "execution_count": 44,
   "metadata": {},
   "outputs": [],
   "source": [
    "class hypothesis(object):\n",
    "    \"\"\"Модель парной линейной регрессии\"\"\"\n",
    "    def __init__(self):\n",
    "        self.b0 = 0\n",
    "        self.b1 = 0\n",
    "        \n",
    "    def predict(self, x):\n",
    "        return self.b0 + self.b1 * x\n",
    "    \n",
    "    def error(self, X, Y):    \n",
    "        return sum((self.predict(X) - Y)**2) / (2 * len(X)) \n",
    "    \n",
    "    def BGD(self, X, Y, alpha=0.000005, accuracy=0.01):\n",
    "        steps, errors = [], []\n",
    "        step = 0        \n",
    "        old_err = hyp.error(X, Y)\n",
    "        new_err = hyp.error(X, Y) - 1\n",
    "        dJ = 1\n",
    "        \n",
    "        while dJ > accuracy:\n",
    "            dJ0 = sum(self.predict(X) - Y) /len(X)\n",
    "            dJ1 = sum((self.predict(X) - Y) * X) /len(X)\n",
    "            self.b0 -= alpha * dJ0\n",
    "            self.b1 -= alpha * dJ1 \n",
    "            \n",
    "            old_err = new_err\n",
    "            new_err = hyp.error(X, Y)\n",
    "            dJ = old_err - new_err          \n",
    "            step += 1            \n",
    "            steps.append(step)\n",
    "            errors.append(new_err)\n",
    "        return steps, errors\n"
   ]
  },
  {
   "cell_type": "code",
   "execution_count": 134,
   "metadata": {},
   "outputs": [],
   "source": [
    "# с какого то момента, чем меньше альфа, тем больше ошибка"
   ]
  },
  {
   "cell_type": "code",
   "execution_count": 139,
   "metadata": {},
   "outputs": [
    {
     "name": "stdout",
     "output_type": "stream",
     "text": [
      "error after gradient descent: 298.76881676471504\n",
      "110\n",
      "0.024693498835262742 2.4930739956419132\n"
     ]
    }
   ],
   "source": [
    "# запуск модели после улучшения класса\n",
    "# уменьшилась ошибка\n",
    "hyp = hypothesis()\n",
    "steps, errors = hyp.BGD(x, y)\n",
    "J = hyp.error(x, y)\n",
    "print(\"error after gradient descent:\", J)\n",
    "print(len(steps))\n",
    "print(hyp.b0, hyp.b1)"
   ]
  },
  {
   "cell_type": "code",
   "execution_count": 136,
   "metadata": {},
   "outputs": [
    {
     "data": {
      "image/png": "[encoded data removed]",
      "text/plain": [
       "<Figure size 432x288 with 1 Axes>"
      ]
     },
     "metadata": {
      "needs_background": "light"
     },
     "output_type": "display_data"
    }
   ],
   "source": [
    "X0 = np.linspace(60, 180, 100)\n",
    "Y0 = hyp.predict(X0)\n",
    "\n",
    "plt.figure()\n",
    "plt.scatter(x, y)\n",
    "plt.plot(X0, Y0, 'r')\n",
    "plt.show()\n"
   ]
  },
  {
   "cell_type": "code",
   "execution_count": 137,
   "metadata": {},
   "outputs": [
    {
     "data": {
      "image/png": "[encoded data removed]",
      "text/plain": [
       "<Figure size 432x288 with 1 Axes>"
      ]
     },
     "metadata": {
      "needs_background": "light"
     },
     "output_type": "display_data"
    }
   ],
   "source": [
    "plt.figure()\n",
    "plt.scatter(steps, errors)\n",
    "plt.show()"
   ]
  },
  {
   "cell_type": "code",
   "execution_count": 122,
   "metadata": {},
   "outputs": [],
   "source": [
    "# выводы- чем меньше альфа тем больше шагов\n",
    "# за 6 шагов ошибка становится приемлимой\n",
    "# за 110 шагов ошибка все та же\n",
    "# за 920 шагов ошибка начинает увеличиваться\n",
    "# за 29000 шагов ошибка еще больше\n",
    "\n",
    "# это переобучение?"
   ]
  },
  {
   "cell_type": "markdown",
   "metadata": {},
   "source": [
    "# Дополнительные задания"
   ]
  },
  {
   "cell_type": "markdown",
   "metadata": {},
   "source": [
    "## Постройте модель регрессии на другой паре инструментов."
   ]
  },
  {
   "cell_type": "code",
   "execution_count": 297,
   "metadata": {},
   "outputs": [],
   "source": [
    "gazp = pd.read_csv('data/GAZP_200801_220101.csv', sep=';')\n",
    "sibn = pd.read_csv('data/SIBN_200801_220101.csv', sep=';')"
   ]
  },
  {
   "cell_type": "code",
   "execution_count": 298,
   "metadata": {},
   "outputs": [
    {
     "data": {
      "text/html": [
       "<div>\n",
       "<style scoped>\n",
       "    .dataframe tbody tr th:only-of-type {\n",
       "        vertical-align: middle;\n",
       "    }\n",
       "\n",
       "    .dataframe tbody tr th {\n",
       "        vertical-align: top;\n",
       "    }\n",
       "\n",
       "    .dataframe thead th {\n",
       "        text-align: right;\n",
       "    }\n",
       "</style>\n",
       "<table border=\"1\" class=\"dataframe\">\n",
       "  <thead>\n",
       "    <tr style=\"text-align: right;\">\n",
       "      <th></th>\n",
       "      <th>&lt;TICKER&gt;</th>\n",
       "      <th>&lt;PER&gt;</th>\n",
       "      <th>&lt;DATE&gt;</th>\n",
       "      <th>&lt;TIME&gt;</th>\n",
       "      <th>&lt;CLOSE&gt;</th>\n",
       "      <th>&lt;VOL&gt;</th>\n",
       "    </tr>\n",
       "  </thead>\n",
       "  <tbody>\n",
       "    <tr>\n",
       "      <th>0</th>\n",
       "      <td>GAZP</td>\n",
       "      <td>D</td>\n",
       "      <td>20200803</td>\n",
       "      <td>0</td>\n",
       "      <td>183.60</td>\n",
       "      <td>28651930</td>\n",
       "    </tr>\n",
       "    <tr>\n",
       "      <th>1</th>\n",
       "      <td>GAZP</td>\n",
       "      <td>D</td>\n",
       "      <td>20200804</td>\n",
       "      <td>0</td>\n",
       "      <td>183.31</td>\n",
       "      <td>32428960</td>\n",
       "    </tr>\n",
       "    <tr>\n",
       "      <th>2</th>\n",
       "      <td>GAZP</td>\n",
       "      <td>D</td>\n",
       "      <td>20200805</td>\n",
       "      <td>0</td>\n",
       "      <td>189.15</td>\n",
       "      <td>75423620</td>\n",
       "    </tr>\n",
       "    <tr>\n",
       "      <th>3</th>\n",
       "      <td>GAZP</td>\n",
       "      <td>D</td>\n",
       "      <td>20200806</td>\n",
       "      <td>0</td>\n",
       "      <td>189.07</td>\n",
       "      <td>42849450</td>\n",
       "    </tr>\n",
       "    <tr>\n",
       "      <th>4</th>\n",
       "      <td>GAZP</td>\n",
       "      <td>D</td>\n",
       "      <td>20200807</td>\n",
       "      <td>0</td>\n",
       "      <td>187.23</td>\n",
       "      <td>28808600</td>\n",
       "    </tr>\n",
       "  </tbody>\n",
       "</table>\n",
       "</div>"
      ],
      "text/plain": [
       "  <TICKER> <PER>    <DATE>  <TIME>  <CLOSE>     <VOL>\n",
       "0     GAZP     D  20200803       0   183.60  28651930\n",
       "1     GAZP     D  20200804       0   183.31  32428960\n",
       "2     GAZP     D  20200805       0   189.15  75423620\n",
       "3     GAZP     D  20200806       0   189.07  42849450\n",
       "4     GAZP     D  20200807       0   187.23  28808600"
      ]
     },
     "execution_count": 298,
     "metadata": {},
     "output_type": "execute_result"
    }
   ],
   "source": [
    "gazp.head()"
   ]
  },
  {
   "cell_type": "code",
   "execution_count": 299,
   "metadata": {},
   "outputs": [
    {
     "data": {
      "text/html": [
       "<div>\n",
       "<style scoped>\n",
       "    .dataframe tbody tr th:only-of-type {\n",
       "        vertical-align: middle;\n",
       "    }\n",
       "\n",
       "    .dataframe tbody tr th {\n",
       "        vertical-align: top;\n",
       "    }\n",
       "\n",
       "    .dataframe thead th {\n",
       "        text-align: right;\n",
       "    }\n",
       "</style>\n",
       "<table border=\"1\" class=\"dataframe\">\n",
       "  <thead>\n",
       "    <tr style=\"text-align: right;\">\n",
       "      <th></th>\n",
       "      <th>&lt;TICKER&gt;</th>\n",
       "      <th>&lt;PER&gt;</th>\n",
       "      <th>&lt;DATE&gt;</th>\n",
       "      <th>&lt;TIME&gt;</th>\n",
       "      <th>&lt;CLOSE&gt;</th>\n",
       "      <th>&lt;VOL&gt;</th>\n",
       "    </tr>\n",
       "  </thead>\n",
       "  <tbody>\n",
       "    <tr>\n",
       "      <th>0</th>\n",
       "      <td>SIBN</td>\n",
       "      <td>D</td>\n",
       "      <td>20200803</td>\n",
       "      <td>0</td>\n",
       "      <td>318.75</td>\n",
       "      <td>2434820</td>\n",
       "    </tr>\n",
       "    <tr>\n",
       "      <th>1</th>\n",
       "      <td>SIBN</td>\n",
       "      <td>D</td>\n",
       "      <td>20200804</td>\n",
       "      <td>0</td>\n",
       "      <td>319.10</td>\n",
       "      <td>1037590</td>\n",
       "    </tr>\n",
       "    <tr>\n",
       "      <th>2</th>\n",
       "      <td>SIBN</td>\n",
       "      <td>D</td>\n",
       "      <td>20200805</td>\n",
       "      <td>0</td>\n",
       "      <td>322.80</td>\n",
       "      <td>1522290</td>\n",
       "    </tr>\n",
       "    <tr>\n",
       "      <th>3</th>\n",
       "      <td>SIBN</td>\n",
       "      <td>D</td>\n",
       "      <td>20200806</td>\n",
       "      <td>0</td>\n",
       "      <td>320.50</td>\n",
       "      <td>1396450</td>\n",
       "    </tr>\n",
       "    <tr>\n",
       "      <th>4</th>\n",
       "      <td>SIBN</td>\n",
       "      <td>D</td>\n",
       "      <td>20200807</td>\n",
       "      <td>0</td>\n",
       "      <td>321.30</td>\n",
       "      <td>684910</td>\n",
       "    </tr>\n",
       "  </tbody>\n",
       "</table>\n",
       "</div>"
      ],
      "text/plain": [
       "  <TICKER> <PER>    <DATE>  <TIME>  <CLOSE>    <VOL>\n",
       "0     SIBN     D  20200803       0   318.75  2434820\n",
       "1     SIBN     D  20200804       0   319.10  1037590\n",
       "2     SIBN     D  20200805       0   322.80  1522290\n",
       "3     SIBN     D  20200806       0   320.50  1396450\n",
       "4     SIBN     D  20200807       0   321.30   684910"
      ]
     },
     "execution_count": 299,
     "metadata": {},
     "output_type": "execute_result"
    }
   ],
   "source": [
    "sibn.head()"
   ]
  },
  {
   "cell_type": "code",
   "execution_count": 300,
   "metadata": {},
   "outputs": [
    {
     "data": {
      "text/html": [
       "<div>\n",
       "<style scoped>\n",
       "    .dataframe tbody tr th:only-of-type {\n",
       "        vertical-align: middle;\n",
       "    }\n",
       "\n",
       "    .dataframe tbody tr th {\n",
       "        vertical-align: top;\n",
       "    }\n",
       "\n",
       "    .dataframe thead th {\n",
       "        text-align: right;\n",
       "    }\n",
       "</style>\n",
       "<table border=\"1\" class=\"dataframe\">\n",
       "  <thead>\n",
       "    <tr style=\"text-align: right;\">\n",
       "      <th></th>\n",
       "      <th>&lt;TICKER&gt;_x</th>\n",
       "      <th>&lt;PER&gt;_x</th>\n",
       "      <th>&lt;DATE&gt;</th>\n",
       "      <th>&lt;TIME&gt;_x</th>\n",
       "      <th>&lt;CLOSE&gt;_x</th>\n",
       "      <th>&lt;VOL&gt;_x</th>\n",
       "      <th>&lt;TICKER&gt;_y</th>\n",
       "      <th>&lt;PER&gt;_y</th>\n",
       "      <th>&lt;TIME&gt;_y</th>\n",
       "      <th>&lt;CLOSE&gt;_y</th>\n",
       "      <th>&lt;VOL&gt;_y</th>\n",
       "    </tr>\n",
       "  </thead>\n",
       "  <tbody>\n",
       "    <tr>\n",
       "      <th>0</th>\n",
       "      <td>GAZP</td>\n",
       "      <td>D</td>\n",
       "      <td>20200803</td>\n",
       "      <td>0</td>\n",
       "      <td>183.60</td>\n",
       "      <td>28651930</td>\n",
       "      <td>SIBN</td>\n",
       "      <td>D</td>\n",
       "      <td>0</td>\n",
       "      <td>318.75</td>\n",
       "      <td>2434820</td>\n",
       "    </tr>\n",
       "    <tr>\n",
       "      <th>1</th>\n",
       "      <td>GAZP</td>\n",
       "      <td>D</td>\n",
       "      <td>20200804</td>\n",
       "      <td>0</td>\n",
       "      <td>183.31</td>\n",
       "      <td>32428960</td>\n",
       "      <td>SIBN</td>\n",
       "      <td>D</td>\n",
       "      <td>0</td>\n",
       "      <td>319.10</td>\n",
       "      <td>1037590</td>\n",
       "    </tr>\n",
       "    <tr>\n",
       "      <th>2</th>\n",
       "      <td>GAZP</td>\n",
       "      <td>D</td>\n",
       "      <td>20200805</td>\n",
       "      <td>0</td>\n",
       "      <td>189.15</td>\n",
       "      <td>75423620</td>\n",
       "      <td>SIBN</td>\n",
       "      <td>D</td>\n",
       "      <td>0</td>\n",
       "      <td>322.80</td>\n",
       "      <td>1522290</td>\n",
       "    </tr>\n",
       "    <tr>\n",
       "      <th>3</th>\n",
       "      <td>GAZP</td>\n",
       "      <td>D</td>\n",
       "      <td>20200806</td>\n",
       "      <td>0</td>\n",
       "      <td>189.07</td>\n",
       "      <td>42849450</td>\n",
       "      <td>SIBN</td>\n",
       "      <td>D</td>\n",
       "      <td>0</td>\n",
       "      <td>320.50</td>\n",
       "      <td>1396450</td>\n",
       "    </tr>\n",
       "    <tr>\n",
       "      <th>4</th>\n",
       "      <td>GAZP</td>\n",
       "      <td>D</td>\n",
       "      <td>20200807</td>\n",
       "      <td>0</td>\n",
       "      <td>187.23</td>\n",
       "      <td>28808600</td>\n",
       "      <td>SIBN</td>\n",
       "      <td>D</td>\n",
       "      <td>0</td>\n",
       "      <td>321.30</td>\n",
       "      <td>684910</td>\n",
       "    </tr>\n",
       "  </tbody>\n",
       "</table>\n",
       "</div>"
      ],
      "text/plain": [
       "  <TICKER>_x <PER>_x    <DATE>  <TIME>_x  <CLOSE>_x   <VOL>_x <TICKER>_y  \\\n",
       "0       GAZP       D  20200803         0     183.60  28651930       SIBN   \n",
       "1       GAZP       D  20200804         0     183.31  32428960       SIBN   \n",
       "2       GAZP       D  20200805         0     189.15  75423620       SIBN   \n",
       "3       GAZP       D  20200806         0     189.07  42849450       SIBN   \n",
       "4       GAZP       D  20200807         0     187.23  28808600       SIBN   \n",
       "\n",
       "  <PER>_y  <TIME>_y  <CLOSE>_y  <VOL>_y  \n",
       "0       D         0     318.75  2434820  \n",
       "1       D         0     319.10  1037590  \n",
       "2       D         0     322.80  1522290  \n",
       "3       D         0     320.50  1396450  \n",
       "4       D         0     321.30   684910  "
      ]
     },
     "execution_count": 300,
     "metadata": {},
     "output_type": "execute_result"
    }
   ],
   "source": [
    "res = pd.merge(gazp, sibn, on='<DATE>')\n",
    "res.head()"
   ]
  },
  {
   "cell_type": "code",
   "execution_count": 301,
   "metadata": {},
   "outputs": [],
   "source": [
    "x = res['<CLOSE>_x']\n",
    "y = res['<CLOSE>_y']"
   ]
  },
  {
   "cell_type": "code",
   "execution_count": 302,
   "metadata": {},
   "outputs": [
    {
     "data": {
      "image/png": "[encoded data removed]",
      "text/plain": [
       "<Figure size 432x288 with 1 Axes>"
      ]
     },
     "metadata": {
      "needs_background": "light"
     },
     "output_type": "display_data"
    }
   ],
   "source": [
    "plt.figure()\n",
    "plt.scatter(x,y)\n",
    "plt.show()"
   ]
  },
  {
   "cell_type": "code",
   "execution_count": 303,
   "metadata": {},
   "outputs": [],
   "source": [
    "class hypothesis(object):\n",
    "    \"\"\"Модель парной линейной регрессии\"\"\"\n",
    "    def __init__(self):\n",
    "        self.b0 = 0\n",
    "        self.b1 = 0\n",
    "        \n",
    "    def predict(self, x):\n",
    "        return self.b0 + self.b1 * x\n",
    "    \n",
    "    def error(self, X, Y):    \n",
    "        return sum((self.predict(X) - Y)**2) / (2 * len(X)) \n",
    "    \n",
    "    def BGD(self, X, Y, alpha=0.000005, accuracy=0.01):\n",
    "        steps, errors = [], []\n",
    "        step = 0        \n",
    "        old_err = hyp.error(X, Y)\n",
    "        new_err = hyp.error(X, Y) - 1\n",
    "        dJ = 1\n",
    "        \n",
    "        while dJ > accuracy:\n",
    "            dJ0 = sum(self.predict(X) - Y) /len(X)\n",
    "            dJ1 = sum((self.predict(X) - Y) * X) /len(X)\n",
    "            self.b0 -= alpha * dJ0\n",
    "            self.b1 -= alpha * dJ1 \n",
    "            \n",
    "            old_err = new_err\n",
    "            new_err = hyp.error(X, Y)\n",
    "            dJ = old_err - new_err          \n",
    "            step += 1            \n",
    "            steps.append(step)\n",
    "            errors.append(new_err)\n",
    "        return steps, errors\n",
    "\n"
   ]
  },
  {
   "cell_type": "code",
   "execution_count": 304,
   "metadata": {},
   "outputs": [
    {
     "name": "stdout",
     "output_type": "stream",
     "text": [
      "noll mistake - 78136.62650552487\n"
     ]
    }
   ],
   "source": [
    "hyp2 = hypothesis()\n",
    "J = hyp2.error(x,y)\n",
    "print(f\"noll mistake - {J}\")"
   ]
  },
  {
   "cell_type": "code",
   "execution_count": 287,
   "metadata": {},
   "outputs": [],
   "source": [
    "# пытаюсь помочь ей\n",
    "# hyp2.b0 = 200"
   ]
  },
  {
   "cell_type": "code",
   "execution_count": 305,
   "metadata": {},
   "outputs": [
    {
     "name": "stdout",
     "output_type": "stream",
     "text": [
      "mistake after training- 8328.041838781704\n"
     ]
    }
   ],
   "source": [
    "steps, errors = hyp2.BGD(x,y, alpha=0.00001)\n",
    "J = hyp2.error(x,y)\n",
    "print(f\"mistake after training- {J}\")"
   ]
  },
  {
   "cell_type": "code",
   "execution_count": 308,
   "metadata": {},
   "outputs": [
    {
     "data": {
      "image/png": "[encoded data removed]",
      "text/plain": [
       "<Figure size 432x288 with 1 Axes>"
      ]
     },
     "metadata": {
      "needs_background": "light"
     },
     "output_type": "display_data"
    }
   ],
   "source": [
    "# X0 = np.linspace(150, 400, 100)\n",
    "Y0 = hyp2.predict(x)\n",
    "plt.figure()\n",
    "plt.scatter(x, y)\n",
    "plt.plot(x, Y0, 'r')\n",
    "plt.show()"
   ]
  },
  {
   "cell_type": "code",
   "execution_count": 290,
   "metadata": {},
   "outputs": [
    {
     "data": {
      "image/png": "[encoded data removed]",
      "text/plain": [
       "<Figure size 432x288 with 1 Axes>"
      ]
     },
     "metadata": {
      "needs_background": "light"
     },
     "output_type": "display_data"
    }
   ],
   "source": [
    "# модель получилась не очень\n",
    "plt.figure()\n",
    "plt.scatter(steps, errors)\n",
    "plt.show()"
   ]
  },
  {
   "cell_type": "markdown",
   "metadata": {},
   "source": [
    "## Обучение раздельно"
   ]
  },
  {
   "cell_type": "code",
   "execution_count": 367,
   "metadata": {},
   "outputs": [],
   "source": [
    "mvid = pd.read_csv('data/MVID_101001_171001.txt')\n",
    "sber = pd.read_csv('data/SBER_101001_171001.txt')"
   ]
  },
  {
   "cell_type": "code",
   "execution_count": 368,
   "metadata": {},
   "outputs": [],
   "source": [
    "res = pd.merge(sber, mvid, on='<DATE>')"
   ]
  },
  {
   "cell_type": "code",
   "execution_count": 369,
   "metadata": {},
   "outputs": [],
   "source": [
    "x = res['<CLOSE>_x']\n",
    "y = res['<CLOSE>_y']"
   ]
  },
  {
   "cell_type": "code",
   "execution_count": 370,
   "metadata": {},
   "outputs": [
    {
     "data": {
      "image/png": "[encoded data removed]",
      "text/plain": [
       "<Figure size 432x288 with 1 Axes>"
      ]
     },
     "metadata": {
      "needs_background": "light"
     },
     "output_type": "display_data"
    }
   ],
   "source": [
    "plt.figure()\n",
    "plt.scatter(x,y)\n",
    "plt.show()"
   ]
  },
  {
   "cell_type": "code",
   "execution_count": 387,
   "metadata": {},
   "outputs": [],
   "source": [
    "# если брать последовательно train, и отдельно последовательно exam\n",
    "\n",
    "class hypothesis_3(object):\n",
    "    \"\"\"Модель парной линейной регрессии\"\"\"\n",
    "    def __init__(self):\n",
    "        self.b0 = 0\n",
    "        self.b1 = 0\n",
    "        \n",
    "    def input_data(self, X, Y):\n",
    "        self.x = X\n",
    "        self.y = Y\n",
    "        \n",
    "        \n",
    "    def predict(self, x):\n",
    "        return self.b0 + self.b1 * x\n",
    "    \n",
    "    def error(self, X, Y):    \n",
    "        return sum((self.predict(X) - Y)**2) / (2 * len(X)) \n",
    "    \n",
    "    def BGD_train(self, alpha=0.000005, accuracy=0.01):\n",
    "        \n",
    "        train_x = self.x[:len(self.x)//3]\n",
    "        train_y = self.y[:len(self.y)//3]\n",
    "        \n",
    "        J_before_train = self.error(train_x, train_y)\n",
    "        \n",
    "        steps, errors = [], []\n",
    "        step = 0        \n",
    "        old_err = self.error(train_x, train_y)\n",
    "        new_err = self.error(train_x, train_y) - 1\n",
    "        dJ = 1\n",
    "        \n",
    "        while dJ > accuracy:\n",
    "            dJ0 = sum(self.predict(train_x) - train_y) /len(train_x)\n",
    "            dJ1 = sum((self.predict(train_x) - train_y) * train_x) /len(train_x)\n",
    "            self.b0 -= alpha * dJ0\n",
    "            self.b1 -= alpha * dJ1 \n",
    "            \n",
    "            old_err = new_err\n",
    "            new_err = self.error(train_x, train_x)\n",
    "            dJ = old_err - new_err          \n",
    "            step += 1            \n",
    "            steps.append(step)\n",
    "            errors.append(new_err)\n",
    "        \n",
    "        J_after_train = self.error(train_x, train_y)\n",
    "        \n",
    "        return steps, errors, J_after_train, J_before_train\n",
    "    \n",
    "    def exam(self):\n",
    "        \n",
    "        exam_x = self.x[len(self.x)//2:]\n",
    "        exam_y = self.y[len(self.y)//2:]\n",
    "        \n",
    "        J_exam = self.error(exam_x, exam_y)\n",
    "        \n",
    "        return exam_x, exam_y, J_exam\n",
    "        \n",
    "        \n",
    "        \n",
    "\n"
   ]
  },
  {
   "cell_type": "code",
   "execution_count": 388,
   "metadata": {},
   "outputs": [],
   "source": [
    "h = hypothesis_3()"
   ]
  },
  {
   "cell_type": "code",
   "execution_count": 389,
   "metadata": {},
   "outputs": [],
   "source": [
    "h.input_data(x,y)\n",
    "steps, errors, J_after_train, J_before_train = h.BGD_train()\n",
    "exam_x, exam_y, J_exam = h.exam()"
   ]
  },
  {
   "cell_type": "code",
   "execution_count": 390,
   "metadata": {},
   "outputs": [
    {
     "name": "stdout",
     "output_type": "stream",
     "text": [
      "J_before_train - 29572.25828464164\n",
      "J_after_train - 10226.270359143731\n",
      "J_exam - 13010.574377386954\n"
     ]
    }
   ],
   "source": [
    "print(f\"J_before_train - {J_before_train}\")\n",
    "print(f\"J_after_train - {J_after_train}\")\n",
    "print(f\"J_exam - {J_exam}\")"
   ]
  },
  {
   "cell_type": "code",
   "execution_count": 391,
   "metadata": {},
   "outputs": [
    {
     "data": {
      "image/png": "[encoded data removed]",
      "text/plain": [
       "<Figure size 432x288 with 1 Axes>"
      ]
     },
     "metadata": {
      "needs_background": "light"
     },
     "output_type": "display_data"
    }
   ],
   "source": [
    "y_pred = hyp2.predict(exam_x)\n",
    "\n",
    "plt.figure()\n",
    "plt.scatter(exam_x, exam_y)\n",
    "plt.plot(exam_x, y_pred, 'r')\n",
    "plt.show()"
   ]
  },
  {
   "cell_type": "markdown",
   "metadata": {},
   "source": [
    "## sklearn"
   ]
  },
  {
   "cell_type": "code",
   "execution_count": 392,
   "metadata": {},
   "outputs": [],
   "source": [
    "from sklearn.linear_model import LinearRegression"
   ]
  },
  {
   "cell_type": "code",
   "execution_count": 432,
   "metadata": {},
   "outputs": [],
   "source": [
    "mvid = pd.read_csv('data/MVID_101001_171001.txt')\n",
    "sber = pd.read_csv('data/SBER_101001_171001.txt')\n",
    "res = pd.merge(sber, mvid, on='<DATE>')\n",
    "x = np.array(res['<CLOSE>_x']).reshape((-1,1))\n",
    "y = np.array(res['<CLOSE>_y'])"
   ]
  },
  {
   "cell_type": "code",
   "execution_count": 433,
   "metadata": {},
   "outputs": [],
   "source": [
    "reg = LinearRegression()"
   ]
  },
  {
   "cell_type": "code",
   "execution_count": 434,
   "metadata": {},
   "outputs": [
    {
     "data": {
      "text/plain": [
       "LinearRegression(copy_X=True, fit_intercept=True, n_jobs=None, normalize=False)"
      ]
     },
     "execution_count": 434,
     "metadata": {},
     "output_type": "execute_result"
    }
   ],
   "source": [
    "reg.fit(x,y)"
   ]
  },
  {
   "cell_type": "code",
   "execution_count": 435,
   "metadata": {},
   "outputs": [
    {
     "data": {
      "text/plain": [
       "0.9111046169982557"
      ]
     },
     "execution_count": 435,
     "metadata": {},
     "output_type": "execute_result"
    }
   ],
   "source": [
    "reg.score(x, y)"
   ]
  },
  {
   "cell_type": "code",
   "execution_count": 436,
   "metadata": {},
   "outputs": [
    {
     "data": {
      "text/plain": [
       "array([1.99635191])"
      ]
     },
     "execution_count": 436,
     "metadata": {},
     "output_type": "execute_result"
    }
   ],
   "source": [
    "reg.coef_"
   ]
  },
  {
   "cell_type": "code",
   "execution_count": 437,
   "metadata": {},
   "outputs": [
    {
     "data": {
      "text/plain": [
       "56.011128685315754"
      ]
     },
     "execution_count": 437,
     "metadata": {},
     "output_type": "execute_result"
    }
   ],
   "source": [
    "reg.intercept_"
   ]
  },
  {
   "cell_type": "code",
   "execution_count": 438,
   "metadata": {},
   "outputs": [],
   "source": [
    "y_pred = reg.predict(x)"
   ]
  },
  {
   "cell_type": "code",
   "execution_count": 439,
   "metadata": {},
   "outputs": [
    {
     "data": {
      "image/png": "[encoded data removed]",
      "text/plain": [
       "<Figure size 432x288 with 1 Axes>"
      ]
     },
     "metadata": {
      "needs_background": "light"
     },
     "output_type": "display_data"
    }
   ],
   "source": [
    "plt.figure()\n",
    "plt.scatter(np.squeeze(x), y)\n",
    "plt.plot(np.squeeze(x), y_pred, 'r')\n",
    "plt.show()"
   ]
  },
  {
   "cell_type": "code",
   "execution_count": 441,
   "metadata": {},
   "outputs": [
    {
     "name": "stdout",
     "output_type": "stream",
     "text": [
      "error - 175.85490042869304\n"
     ]
    }
   ],
   "source": [
    "J = sum((reg.predict(x) - y)**2) / (2 * len(x)) \n",
    "print(f\"error - {J}\")"
   ]
  },
  {
   "cell_type": "code",
   "execution_count": null,
   "metadata": {},
   "outputs": [],
   "source": []
  }
 ],
 "metadata": {
  "kernelspec": {
   "display_name": "Python 3",
   "language": "python",
   "name": "python3"
  },
  "language_info": {
   "codemirror_mode": {
    "name": "ipython",
    "version": 3
   },
   "file_extension": ".py",
   "mimetype": "text/x-python",
   "name": "python",
   "nbconvert_exporter": "python",
   "pygments_lexer": "ipython3",
   "version": "3.7.6"
  }
 },
 "nbformat": 4,
 "nbformat_minor": 4
}
