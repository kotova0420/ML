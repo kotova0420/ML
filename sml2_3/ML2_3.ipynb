{
 "cells": [
  {
   "cell_type": "markdown",
   "id": "4bfba6fe",
   "metadata": {},
   "source": [
    "### ML2.3 Классификация текстов"
   ]
  },
  {
   "cell_type": "code",
   "execution_count": 1,
   "id": "1737c80b",
   "metadata": {},
   "outputs": [],
   "source": [
    "%matplotlib inline\n",
    "import matplotlib.pyplot as plt\n",
    "\n",
    "from sklearn.datasets import fetch_20newsgroups\n",
    "from sklearn.model_selection import train_test_split\n",
    "from sklearn.feature_extraction.text import CountVectorizer \n",
    "from sklearn.naive_bayes import MultinomialNB\n",
    "from sklearn import metrics\n",
    "from sklearn.model_selection import learning_curve\n",
    "import numpy as np\n",
    "import time\n",
    "\n",
    "from sklearn.svm import SVC\n",
    "from sklearn.linear_model import LogisticRegression\n",
    "from sklearn.neighbors import KNeighborsClassifier\n",
    "from sklearn.neural_network import MLPClassifier\n",
    "\n",
    "import warnings\n",
    "warnings.filterwarnings('ignore')"
   ]
  },
  {
   "cell_type": "markdown",
   "id": "452792fa",
   "metadata": {},
   "source": [
    "#### 1. Загрузите датасет 20 newsgroups;"
   ]
  },
  {
   "cell_type": "code",
   "execution_count": 2,
   "id": "0be932f7",
   "metadata": {},
   "outputs": [],
   "source": [
    "news = fetch_20newsgroups(subset='all')"
   ]
  },
  {
   "cell_type": "markdown",
   "id": "00c92261",
   "metadata": {},
   "source": [
    "#### 2. Познакомьтесь с описанием и структурой датасета. Описание можно найти в документации."
   ]
  },
  {
   "cell_type": "code",
   "execution_count": 3,
   "id": "d98c2708",
   "metadata": {},
   "outputs": [
    {
     "name": "stdout",
     "output_type": "stream",
     "text": [
      ".. _20newsgroups_dataset:\n",
      "\n",
      "The 20 newsgroups text dataset\n",
      "------------------------------\n",
      "\n",
      "The 20 newsgroups dataset comprises around 18000 newsgroups posts on\n",
      "20 topics split in two subsets: one for training (or development)\n",
      "and the other one for testing (or for performance evaluation). The split\n",
      "between the train and test set is based upon a messages posted before\n",
      "and after a specific date.\n",
      "\n",
      "This module contains two loaders. The first one,\n",
      ":func:`sklearn.datasets.fetch_20newsgroups`,\n",
      "returns a list of the raw texts that can be fed to text feature\n",
      "extractors such as :class:`~sklearn.feature_extraction.text.CountVectorizer`\n",
      "with custom parameters so as to extract feature vectors.\n",
      "The second one, :func:`sklearn.datasets.fetch_20newsgroups_vectorized`,\n",
      "returns ready-to-use features, i.e., it is not necessary to use a feature\n",
      "extractor.\n",
      "\n",
      "**Data Set Characteristics:**\n",
      "\n",
      "    =================   ==========\n",
      "    Classes                     20\n",
      "    Samples total            18846\n",
      "    Dimensionality               1\n",
      "    Features                  text\n",
      "    =================   ==========\n",
      "\n",
      "Usage\n",
      "~~~~~\n",
      "\n",
      "The :func:`sklearn.datasets.fetch_20newsgroups` function is a data\n",
      "fetching / caching functions that downloads the data archive from\n",
      "the original `20 newsgroups website`_, extracts the archive contents\n",
      "in the ``~/scikit_learn_data/20news_home`` folder and calls the\n",
      ":func:`sklearn.datasets.load_files` on either the training or\n",
      "testing set folder, or both of them::\n",
      "\n",
      "  >>> from sklearn.datasets import fetch_20newsgroups\n",
      "  >>> newsgroups_train = fetch_20newsgroups(subset='train')\n",
      "\n",
      "  >>> from pprint import pprint\n",
      "  >>> pprint(list(newsgroups_train.target_names))\n",
      "  ['alt.atheism',\n",
      "   'comp.graphics',\n",
      "   'comp.os.ms-windows.misc',\n",
      "   'comp.sys.ibm.pc.hardware',\n",
      "   'comp.sys.mac.hardware',\n",
      "   'comp.windows.x',\n",
      "   'misc.forsale',\n",
      "   'rec.autos',\n",
      "   'rec.motorcycles',\n",
      "   'rec.sport.baseball',\n",
      "   'rec.sport.hockey',\n",
      "   'sci.crypt',\n",
      "   'sci.electronics',\n",
      "   'sci.med',\n",
      "   'sci.space',\n",
      "   'soc.religion.christian',\n",
      "   'talk.politics.guns',\n",
      "   'talk.politics.mideast',\n",
      "   'talk.politics.misc',\n",
      "   'talk.religion.misc']\n",
      "\n",
      "The real data lies in the ``filenames`` and ``target`` attributes. The target\n",
      "attribute is the integer index of the category::\n",
      "\n",
      "  >>> newsgroups_train.filenames.shape\n",
      "  (11314,)\n",
      "  >>> newsgroups_train.target.shape\n",
      "  (11314,)\n",
      "  >>> newsgroups_train.target[:10]\n",
      "  array([ 7,  4,  4,  1, 14, 16, 13,  3,  2,  4])\n",
      "\n",
      "It is possible to load only a sub-selection of the categories by passing the\n",
      "list of the categories to load to the\n",
      ":func:`sklearn.datasets.fetch_20newsgroups` function::\n",
      "\n",
      "  >>> cats = ['alt.atheism', 'sci.space']\n",
      "  >>> newsgroups_train = fetch_20newsgroups(subset='train', categories=cats)\n",
      "\n",
      "  >>> list(newsgroups_train.target_names)\n",
      "  ['alt.atheism', 'sci.space']\n",
      "  >>> newsgroups_train.filenames.shape\n",
      "  (1073,)\n",
      "  >>> newsgroups_train.target.shape\n",
      "  (1073,)\n",
      "  >>> newsgroups_train.target[:10]\n",
      "  array([0, 1, 1, 1, 0, 1, 1, 0, 0, 0])\n",
      "\n",
      "Converting text to vectors\n",
      "~~~~~~~~~~~~~~~~~~~~~~~~~~\n",
      "\n",
      "In order to feed predictive or clustering models with the text data,\n",
      "one first need to turn the text into vectors of numerical values suitable\n",
      "for statistical analysis. This can be achieved with the utilities of the\n",
      "``sklearn.feature_extraction.text`` as demonstrated in the following\n",
      "example that extract `TF-IDF`_ vectors of unigram tokens\n",
      "from a subset of 20news::\n",
      "\n",
      "  >>> from sklearn.feature_extraction.text import TfidfVectorizer\n",
      "  >>> categories = ['alt.atheism', 'talk.religion.misc',\n",
      "  ...               'comp.graphics', 'sci.space']\n",
      "  >>> newsgroups_train = fetch_20newsgroups(subset='train',\n",
      "  ...                                       categories=categories)\n",
      "  >>> vectorizer = TfidfVectorizer()\n",
      "  >>> vectors = vectorizer.fit_transform(newsgroups_train.data)\n",
      "  >>> vectors.shape\n",
      "  (2034, 34118)\n",
      "\n",
      "The extracted TF-IDF vectors are very sparse, with an average of 159 non-zero\n",
      "components by sample in a more than 30000-dimensional space\n",
      "(less than .5% non-zero features)::\n",
      "\n",
      "  >>> vectors.nnz / float(vectors.shape[0])\n",
      "  159.01327...\n",
      "\n",
      ":func:`sklearn.datasets.fetch_20newsgroups_vectorized` is a function which\n",
      "returns ready-to-use token counts features instead of file names.\n",
      "\n",
      ".. _`20 newsgroups website`: http://people.csail.mit.edu/jrennie/20Newsgroups/\n",
      ".. _`TF-IDF`: https://en.wikipedia.org/wiki/Tf-idf\n",
      "\n",
      "\n",
      "Filtering text for more realistic training\n",
      "~~~~~~~~~~~~~~~~~~~~~~~~~~~~~~~~~~~~~~~~~~\n",
      "\n",
      "It is easy for a classifier to overfit on particular things that appear in the\n",
      "20 Newsgroups data, such as newsgroup headers. Many classifiers achieve very\n",
      "high F-scores, but their results would not generalize to other documents that\n",
      "aren't from this window of time.\n",
      "\n",
      "For example, let's look at the results of a multinomial Naive Bayes classifier,\n",
      "which is fast to train and achieves a decent F-score::\n",
      "\n",
      "  >>> from sklearn.naive_bayes import MultinomialNB\n",
      "  >>> from sklearn import metrics\n",
      "  >>> newsgroups_test = fetch_20newsgroups(subset='test',\n",
      "  ...                                      categories=categories)\n",
      "  >>> vectors_test = vectorizer.transform(newsgroups_test.data)\n",
      "  >>> clf = MultinomialNB(alpha=.01)\n",
      "  >>> clf.fit(vectors, newsgroups_train.target)\n",
      "  MultinomialNB(alpha=0.01, class_prior=None, fit_prior=True)\n",
      "\n",
      "  >>> pred = clf.predict(vectors_test)\n",
      "  >>> metrics.f1_score(newsgroups_test.target, pred, average='macro')\n",
      "  0.88213...\n",
      "\n",
      "(The example :ref:`sphx_glr_auto_examples_text_plot_document_classification_20newsgroups.py` shuffles\n",
      "the training and test data, instead of segmenting by time, and in that case\n",
      "multinomial Naive Bayes gets a much higher F-score of 0.88. Are you suspicious\n",
      "yet of what's going on inside this classifier?)\n",
      "\n",
      "Let's take a look at what the most informative features are:\n",
      "\n",
      "  >>> import numpy as np\n",
      "  >>> def show_top10(classifier, vectorizer, categories):\n",
      "  ...     feature_names = vectorizer.get_feature_names_out()\n",
      "  ...     for i, category in enumerate(categories):\n",
      "  ...         top10 = np.argsort(classifier.coef_[i])[-10:]\n",
      "  ...         print(\"%s: %s\" % (category, \" \".join(feature_names[top10])))\n",
      "  ...\n",
      "  >>> show_top10(clf, vectorizer, newsgroups_train.target_names)\n",
      "  alt.atheism: edu it and in you that is of to the\n",
      "  comp.graphics: edu in graphics it is for and of to the\n",
      "  sci.space: edu it that is in and space to of the\n",
      "  talk.religion.misc: not it you in is that and to of the\n",
      "\n",
      "\n",
      "You can now see many things that these features have overfit to:\n",
      "\n",
      "- Almost every group is distinguished by whether headers such as\n",
      "  ``NNTP-Posting-Host:`` and ``Distribution:`` appear more or less often.\n",
      "- Another significant feature involves whether the sender is affiliated with\n",
      "  a university, as indicated either by their headers or their signature.\n",
      "- The word \"article\" is a significant feature, based on how often people quote\n",
      "  previous posts like this: \"In article [article ID], [name] <[e-mail address]>\n",
      "  wrote:\"\n",
      "- Other features match the names and e-mail addresses of particular people who\n",
      "  were posting at the time.\n",
      "\n",
      "With such an abundance of clues that distinguish newsgroups, the classifiers\n",
      "barely have to identify topics from text at all, and they all perform at the\n",
      "same high level.\n",
      "\n",
      "For this reason, the functions that load 20 Newsgroups data provide a\n",
      "parameter called **remove**, telling it what kinds of information to strip out\n",
      "of each file. **remove** should be a tuple containing any subset of\n",
      "``('headers', 'footers', 'quotes')``, telling it to remove headers, signature\n",
      "blocks, and quotation blocks respectively.\n",
      "\n",
      "  >>> newsgroups_test = fetch_20newsgroups(subset='test',\n",
      "  ...                                      remove=('headers', 'footers', 'quotes'),\n",
      "  ...                                      categories=categories)\n",
      "  >>> vectors_test = vectorizer.transform(newsgroups_test.data)\n",
      "  >>> pred = clf.predict(vectors_test)\n",
      "  >>> metrics.f1_score(pred, newsgroups_test.target, average='macro')\n",
      "  0.77310...\n",
      "\n",
      "This classifier lost over a lot of its F-score, just because we removed\n",
      "metadata that has little to do with topic classification.\n",
      "It loses even more if we also strip this metadata from the training data:\n",
      "\n",
      "  >>> newsgroups_train = fetch_20newsgroups(subset='train',\n",
      "  ...                                       remove=('headers', 'footers', 'quotes'),\n",
      "  ...                                       categories=categories)\n",
      "  >>> vectors = vectorizer.fit_transform(newsgroups_train.data)\n",
      "  >>> clf = MultinomialNB(alpha=.01)\n",
      "  >>> clf.fit(vectors, newsgroups_train.target)\n",
      "  MultinomialNB(alpha=0.01, class_prior=None, fit_prior=True)\n",
      "\n",
      "  >>> vectors_test = vectorizer.transform(newsgroups_test.data)\n",
      "  >>> pred = clf.predict(vectors_test)\n",
      "  >>> metrics.f1_score(newsgroups_test.target, pred, average='macro')\n",
      "  0.76995...\n",
      "\n",
      "Some other classifiers cope better with this harder version of the task. Try\n",
      "running :ref:`sphx_glr_auto_examples_model_selection_grid_search_text_feature_extraction.py` with and without\n",
      "the ``--filter`` option to compare the results.\n",
      "\n",
      ".. topic:: Data Considerations\n",
      "\n",
      "  The Cleveland Indians is a major league baseball team based in Cleveland,\n",
      "  Ohio, USA. In December 2020, it was reported that \"After several months of\n",
      "  discussion sparked by the death of George Floyd and a national reckoning over\n",
      "  race and colonialism, the Cleveland Indians have decided to change their\n",
      "  name.\" Team owner Paul Dolan \"did make it clear that the team will not make\n",
      "  its informal nickname -- the Tribe -- its new team name.\" \"It’s not going to\n",
      "  be a half-step away from the Indians,\" Dolan said.\"We will not have a Native\n",
      "  American-themed name.\"\n",
      "\n",
      "  https://www.mlb.com/news/cleveland-indians-team-name-change\n",
      "\n",
      ".. topic:: Recommendation\n",
      "\n",
      "  - When evaluating text classifiers on the 20 Newsgroups data, you\n",
      "    should strip newsgroup-related metadata. In scikit-learn, you can do this\n",
      "    by setting ``remove=('headers', 'footers', 'quotes')``. The F-score will be\n",
      "    lower because it is more realistic.\n",
      "  - This text dataset contains data which may be inappropriate for certain NLP\n",
      "    applications. An example is listed in the \"Data Considerations\" section\n",
      "    above. The challenge with using current text datasets in NLP for tasks such\n",
      "    as sentence completion, clustering, and other applications is that text\n",
      "    that is culturally biased and inflammatory will propagate biases. This\n",
      "    should be taken into consideration when using the dataset, reviewing the\n",
      "    output, and the bias should be documented.\n",
      "\n",
      ".. topic:: Examples\n",
      "\n",
      "   * :ref:`sphx_glr_auto_examples_model_selection_grid_search_text_feature_extraction.py`\n",
      "\n",
      "   * :ref:`sphx_glr_auto_examples_text_plot_document_classification_20newsgroups.py`\n",
      "\n"
     ]
    }
   ],
   "source": [
    "print(news.DESCR)"
   ]
  },
  {
   "cell_type": "markdown",
   "id": "a3a79c1c",
   "metadata": {},
   "source": [
    "#### 3. Выведите информацию о количественных параметрах датасета;"
   ]
  },
  {
   "cell_type": "code",
   "execution_count": 4,
   "id": "6829cbfb",
   "metadata": {},
   "outputs": [
    {
     "name": "stdout",
     "output_type": "stream",
     "text": [
      "Количество категорий (классовв) ->  20\n",
      "Количество данных (текстов) ->  18846\n",
      "Размер filenames ->  18846\n",
      "Размер target ->  18846\n"
     ]
    }
   ],
   "source": [
    "print(\"Количество категорий (классовв) -> \", len(news['target_names']))\n",
    "print(\"Количество данных (текстов) -> \", len(news[\"data\"]))\n",
    "print(\"Размер filenames -> \", news['filenames'].shape[0])\n",
    "print(\"Размер target -> \", news['target'].shape[0])"
   ]
  },
  {
   "cell_type": "markdown",
   "id": "97150aee",
   "metadata": {},
   "source": [
    "#### 4. Выведите несколько точек датасета (сами текстовые фрагменты и значение целевой переменной);"
   ]
  },
  {
   "cell_type": "code",
   "execution_count": 5,
   "id": "24437228",
   "metadata": {},
   "outputs": [
    {
     "name": "stdout",
     "output_type": "stream",
     "text": [
      "\n",
      "\n",
      "Пример target_names ->  ['alt.atheism', 'comp.graphics', 'comp.os.ms-windows.misc']\n",
      "\n",
      "Пример filenames ->  ['C:\\\\Users\\\\Tatiana\\\\scikit_learn_data\\\\20news_home\\\\20news-bydate-test\\\\rec.sport.hockey\\\\54367'\n",
      " 'C:\\\\Users\\\\Tatiana\\\\scikit_learn_data\\\\20news_home\\\\20news-bydate-train\\\\comp.sys.ibm.pc.hardware\\\\60215']\n",
      "\n",
      "Пример данных data ->  [\"From: Mamatha Devineni Ratnam <mr47+@andrew.cmu.edu>\\nSubject: Pens fans reactions\\nOrganization: Post Office, Carnegie Mellon, Pittsburgh, PA\\nLines: 12\\nNNTP-Posting-Host: po4.andrew.cmu.edu\\n\\n\\n\\nI am sure some bashers of Pens fans are pretty confused about the lack\\nof any kind of posts about the recent Pens massacre of the Devils. Actually,\\nI am  bit puzzled too and a bit relieved. However, I am going to put an end\\nto non-PIttsburghers' relief with a bit of praise for the Pens. Man, they\\nare killing those Devils worse than I thought. Jagr just showed you why\\nhe is much better than his regular season stats. He is also a lot\\nfo fun to watch in the playoffs. Bowman should let JAgr have a lot of\\nfun in the next couple of games since the Pens are going to beat the pulp out of Jersey anyway. I was very disappointed not to see the Islanders lose the final\\nregular season game.          PENS RULE!!!\\n\\n\"]\n",
      "\n",
      "Пример данных target ->  [10  3 17  3  4 12  4 10 10 19]\n"
     ]
    }
   ],
   "source": [
    "print(\"\\n\\nПример target_names -> \", news.target_names[:3])\n",
    "print(\"\\nПример filenames -> \", news.filenames[:2])\n",
    "print(\"\\nПример данных data -> \", news.data[:1])\n",
    "print(\"\\nПример данных target -> \", news.target[:10])"
   ]
  },
  {
   "cell_type": "markdown",
   "id": "1ea5a88b",
   "metadata": {},
   "source": [
    "#### 5. Разделите эти данные на тестовую и обучающую выборки;"
   ]
  },
  {
   "cell_type": "code",
   "execution_count": 6,
   "id": "631b2aa4",
   "metadata": {},
   "outputs": [
    {
     "data": {
      "text/plain": [
       "(11314, 7532, 11314, 7532)"
      ]
     },
     "execution_count": 6,
     "metadata": {},
     "output_type": "execute_result"
    }
   ],
   "source": [
    "# В наборе данных данные уже разбиты на тестовую и обучающую выборки\n",
    "newsgroups_train = fetch_20newsgroups(subset='train')\n",
    "newsgroups_test = fetch_20newsgroups(subset='test')\n",
    "\n",
    "X_train = newsgroups_train.data\n",
    "y_train = newsgroups_train.target\n",
    "X_test = newsgroups_test.data\n",
    "y_test = newsgroups_test.target\n",
    "len(X_train), len(X_test), y_train.shape[0], y_test.shape[0]"
   ]
  },
  {
   "cell_type": "raw",
   "id": "b83961bd",
   "metadata": {},
   "source": [
    "# Можно вручную разбить на то соотношение которое хочется\n",
    "X, y = news['data'], news['target']\n",
    "X_train, X_test, y_train, y_test = train_test_split(X, y, test_size=0.2)\n",
    "len(X_train), len(X_test), y_train.shape[0], y_test.shape[0]"
   ]
  },
  {
   "cell_type": "code",
   "execution_count": 7,
   "id": "4579d08f",
   "metadata": {},
   "outputs": [
    {
     "data": {
      "text/plain": [
       "((11314, 130107), (7532, 130107))"
      ]
     },
     "execution_count": 7,
     "metadata": {},
     "output_type": "execute_result"
    }
   ],
   "source": [
    "# Преобразование текста в набор численных признаков - векторизация  \n",
    "vectorizer = CountVectorizer()\n",
    "X_vec_train = vectorizer.fit_transform(X_train)\n",
    "X_vec_test = vectorizer.transform(X_test)\n",
    "X_vec_train.shape, X_vec_test.shape"
   ]
  },
  {
   "cell_type": "markdown",
   "id": "87d1b081",
   "metadata": {},
   "source": [
    "#### 6. Постройте модель наивного байесовского для классификации текстов;"
   ]
  },
  {
   "cell_type": "code",
   "execution_count": 8,
   "id": "cb0cf99f",
   "metadata": {},
   "outputs": [
    {
     "data": {
      "text/plain": [
       "MultinomialNB(alpha=0.01)"
      ]
     },
     "execution_count": 8,
     "metadata": {},
     "output_type": "execute_result"
    }
   ],
   "source": [
    "clf = MultinomialNB(alpha=0.01)\n",
    "clf.fit(X_vec_train, y_train)"
   ]
  },
  {
   "cell_type": "markdown",
   "id": "1dbf898e",
   "metadata": {},
   "source": [
    "#### 7. Оцените качество модели на тестовой выборке с помощью следующих метрик:\n",
    "    \n",
    "    i достоверность предсказания (accuracy);\n",
    "    \n",
    "    ii точность (precision);\n",
    "    \n",
    "    iii полнота (recall);"
   ]
  },
  {
   "cell_type": "code",
   "execution_count": 9,
   "id": "248d6ef2",
   "metadata": {},
   "outputs": [
    {
     "name": "stdout",
     "output_type": "stream",
     "text": [
      "Метрика достоверности предсказания ->>  0.8039033457249071\n",
      "Метрика точности ->>  0.8118194283862351\n",
      "Метрика полноты ->>  0.7998564469930185\n"
     ]
    }
   ],
   "source": [
    "y_pred = clf.predict(X_vec_test)\n",
    "print('Метрика достоверности предсказания ->> ', metrics.accuracy_score(y_test, y_pred))\n",
    "print('Метрика точности ->> ', metrics.precision_score(y_test, y_pred, average='weighted'))\n",
    "print('Метрика полноты ->> ', metrics.recall_score(y_test, y_pred, average='macro'))\n",
    "# average - ?"
   ]
  },
  {
   "cell_type": "code",
   "execution_count": 10,
   "id": "1ab37b6b",
   "metadata": {},
   "outputs": [
    {
     "name": "stdout",
     "output_type": "stream",
     "text": [
      "              precision    recall  f1-score   support\n",
      "\n",
      "           0       0.80      0.83      0.82       319\n",
      "           1       0.57      0.78      0.66       389\n",
      "           2       0.75      0.04      0.07       394\n",
      "           3       0.55      0.78      0.64       392\n",
      "           4       0.74      0.83      0.78       385\n",
      "           5       0.80      0.73      0.76       395\n",
      "           6       0.79      0.85      0.82       390\n",
      "           7       0.86      0.90      0.88       396\n",
      "           8       0.91      0.96      0.94       398\n",
      "           9       0.95      0.93      0.94       397\n",
      "          10       0.96      0.96      0.96       399\n",
      "          11       0.88      0.93      0.91       396\n",
      "          12       0.77      0.76      0.76       393\n",
      "          13       0.88      0.83      0.86       396\n",
      "          14       0.87      0.89      0.88       394\n",
      "          15       0.89      0.92      0.91       398\n",
      "          16       0.80      0.89      0.84       364\n",
      "          17       0.97      0.89      0.93       376\n",
      "          18       0.75      0.64      0.69       310\n",
      "          19       0.67      0.65      0.66       251\n",
      "\n",
      "    accuracy                           0.80      7532\n",
      "   macro avg       0.81      0.80      0.79      7532\n",
      "weighted avg       0.81      0.80      0.79      7532\n",
      "\n"
     ]
    }
   ],
   "source": [
    "print(metrics.classification_report(y_test, y_pred))"
   ]
  },
  {
   "cell_type": "markdown",
   "id": "7640ac56",
   "metadata": {},
   "source": [
    "#### 8. Постройте кривую обучения - график зависимости тестовой и обучающей эффективности от размера обучающей выборки."
   ]
  },
  {
   "cell_type": "code",
   "execution_count": 11,
   "id": "a7817eb2",
   "metadata": {},
   "outputs": [],
   "source": [
    "def plot_with_err(x, data, **kwargs):\n",
    "    mu, std = data.mean(1),data.std(1)\n",
    "    lines = plt.plot(x, mu, '-', **kwargs)\n",
    "    plt.fill_between(x, mu - std, mu + std, edgecolor='none',\n",
    "    facecolor=lines[0].get_color(), alpha=0.2)\n",
    "    \n",
    "def print_learning_curve(model, x_train, y_train, train_sizes=np.linspace(0.1, 1, 30)):\n",
    "    _, train_scores, test_scores = learning_curve(model, x_train, y_train, train_sizes=train_sizes, cv=3)\n",
    "    plt.title(model)\n",
    "    plt.xlabel('train size')\n",
    "    plt.ylabel('score')\n",
    "    plot_with_err(train_sizes, train_scores, label='Training scores')\n",
    "    plot_with_err(train_sizes, test_scores, label='Validation scores', color='g')\n",
    "    plt.legend()\n",
    "    plt.show()"
   ]
  },
  {
   "cell_type": "code",
   "execution_count": 12,
   "id": "c9603475",
   "metadata": {},
   "outputs": [
    {
     "data": {
      "image/png": "[encoded data removed]",
      "text/plain": [
       "<Figure size 432x288 with 1 Axes>"
      ]
     },
     "metadata": {
      "needs_background": "light"
     },
     "output_type": "display_data"
    },
    {
     "name": "stdout",
     "output_type": "stream",
     "text": [
      "None\n"
     ]
    }
   ],
   "source": [
    "print(print_learning_curve(clf, X_vec_train, y_train))"
   ]
  },
  {
   "cell_type": "markdown",
   "id": "00a2e33b",
   "metadata": {},
   "source": [
    "### Контрольные вопросы\n",
    "\n",
    "1. Какие выводы мы можем сделать на основании метрик модели, построенной в данной лабораторной работе?\n",
    "\n",
    "Метрики хорошие, даже сликшком, на реальных данных они просядут\n",
    "\n",
    "2. Как представляется текст в методах машинного обучения? Какие основные методы векторизации существуют?\n",
    "\n",
    "В виде численных признаков после векторизации.\n",
    "\n",
    "3. Какие задачи существую в области обработки естественных текстов?\n",
    "\n",
    "Определять принадлежность к какому-либо заданному набору классов (тема, эмоция, тип и тд). Может использоваться для рекламы, автоматической работы банков (распознование типа транзакции по ее описанию).\n",
    "\n",
    "4. (*) Что такое текстовые вложения (эмбеддинги)? Как они строятся и зачем применяются?\n",
    "\n",
    "Эмбендинги - это сопостовление текстовой информции вектору (можно делать не только для вектора). После чего над векторами производятся классические математические операции(в вектороном пространстве)."
   ]
  },
  {
   "cell_type": "code",
   "execution_count": 15,
   "id": "d9c00d5f",
   "metadata": {},
   "outputs": [],
   "source": [
    "def analyze_model(model, x_train=X_vec_train, x_test=X_vec_test, y_train=y_train, y_test=y_test):\n",
    "    \n",
    "    start = time.time()\n",
    "    model.fit(x_train, y_train)\n",
    "    end = time.time()\n",
    "    print('Время обучения ->> ', round(end - start, 2))\n",
    "    \n",
    "    y_pred = model.predict(x_test)\n",
    "    \n",
    "    print('Метрика достоверности предсказания ->> ', metrics.accuracy_score(y_test, y_pred))\n",
    "    print('Метрика точности ->> ', metrics.precision_score(y_test, y_pred, average='weighted'))\n",
    "    print('Метрика полноты ->> ', metrics.recall_score(y_test, y_pred, average='macro'))\n",
    "    \n",
    "    #очень долго грузило поэтому убрала\n",
    "    #print(print_learning_curve(model, x_train, y_train))"
   ]
  },
  {
   "cell_type": "markdown",
   "id": "b6f7511d",
   "metadata": {},
   "source": [
    "#### логистическая регрессия (LogisticRegression)"
   ]
  },
  {
   "cell_type": "code",
   "execution_count": 16,
   "id": "5544286e",
   "metadata": {},
   "outputs": [
    {
     "name": "stdout",
     "output_type": "stream",
     "text": [
      "Время обучения ->>  66.13\n",
      "Метрика достоверности предсказания ->>  0.7926181625066383\n",
      "Метрика точности ->>  0.7948122807308519\n",
      "Метрика полноты ->>  0.7863940816237388\n"
     ]
    }
   ],
   "source": [
    "log_model = LogisticRegression()\n",
    "analyze_model(log_model)"
   ]
  },
  {
   "cell_type": "markdown",
   "id": "ea3faaae",
   "metadata": {},
   "source": [
    "#### метод опорных векторов с гауссовым ядром (SVC)"
   ]
  },
  {
   "cell_type": "code",
   "execution_count": 17,
   "id": "8aa02bf0",
   "metadata": {},
   "outputs": [
    {
     "name": "stdout",
     "output_type": "stream",
     "text": [
      "Время обучения ->>  255.35\n",
      "Метрика достоверности предсказания ->>  0.15108868826340946\n",
      "Метрика точности ->>  0.42191640757596965\n",
      "Метрика полноты ->>  0.1464091524800676\n"
     ]
    }
   ],
   "source": [
    "gaus_svc_model = SVC()\n",
    "analyze_model(gaus_svc_model)"
   ]
  },
  {
   "cell_type": "markdown",
   "id": "c291573b",
   "metadata": {},
   "source": [
    "#### метод опорных векторов с полиномиальным ядром (SVC)"
   ]
  },
  {
   "cell_type": "code",
   "execution_count": 18,
   "id": "c9a82fbb",
   "metadata": {},
   "outputs": [
    {
     "name": "stdout",
     "output_type": "stream",
     "text": [
      "Время обучения ->>  289.78\n",
      "Метрика достоверности предсказания ->>  0.057886351566648966\n",
      "Метрика точности ->>  0.28449948744215253\n",
      "Метрика полноты ->>  0.05515855177847921\n"
     ]
    }
   ],
   "source": [
    "poly_svc_model = SVC(kernel='poly')\n",
    "analyze_model(poly_svc_model)"
   ]
  },
  {
   "cell_type": "markdown",
   "id": "2d18cf48",
   "metadata": {},
   "source": [
    "#### метод k ближайших соседей (KNeighborsClassifier)"
   ]
  },
  {
   "cell_type": "code",
   "execution_count": 19,
   "id": "0b274e9a",
   "metadata": {},
   "outputs": [
    {
     "name": "stdout",
     "output_type": "stream",
     "text": [
      "Время обучения ->>  0.01\n",
      "Метрика достоверности предсказания ->>  0.3524960169941583\n",
      "Метрика точности ->>  0.42107718688512924\n",
      "Метрика полноты ->>  0.3508874308008147\n"
     ]
    }
   ],
   "source": [
    "neigh_model = KNeighborsClassifier()\n",
    "analyze_model(neigh_model)"
   ]
  },
  {
   "cell_type": "markdown",
   "id": "f8bdcb77",
   "metadata": {},
   "source": [
    "#### многослойный перцептрон (MLP)"
   ]
  },
  {
   "cell_type": "code",
   "execution_count": 20,
   "id": "2b23de02",
   "metadata": {
    "scrolled": true
   },
   "outputs": [
    {
     "name": "stdout",
     "output_type": "stream",
     "text": [
      "Время обучения ->>  2063.13\n",
      "Метрика достоверности предсказания ->>  0.8203664365374402\n",
      "Метрика точности ->>  0.8248273305471314\n",
      "Метрика полноты ->>  0.8133025270601258\n"
     ]
    }
   ],
   "source": [
    "mlp_model = MLPClassifier()\n",
    "analyze_model(mlp_model)"
   ]
  },
  {
   "cell_type": "raw",
   "id": "c351c2e7",
   "metadata": {},
   "source": [
    "#долго грузят\n",
    "print(print_learning_curve(log_model, X_vec_train, y_train))"
   ]
  },
  {
   "cell_type": "raw",
   "id": "fd41ae64",
   "metadata": {},
   "source": [
    "print(print_learning_curve(gaus_svc_model, X_vec_train, y_train))"
   ]
  },
  {
   "cell_type": "raw",
   "id": "4e05fd27",
   "metadata": {},
   "source": [
    "print(print_learning_curve(poly_svc_model, X_vec_train, y_train))"
   ]
  },
  {
   "cell_type": "raw",
   "id": "b44d5428",
   "metadata": {},
   "source": [
    "print(print_learning_curve(neigh_model, X_vec_train, y_train))"
   ]
  },
  {
   "cell_type": "raw",
   "id": "dcb76d63",
   "metadata": {},
   "source": [
    "print(print_learning_curve(mlp_model, X_vec_train, y_train))"
   ]
  },
  {
   "cell_type": "code",
   "execution_count": null,
   "id": "ded67d50",
   "metadata": {},
   "outputs": [],
   "source": []
  }
 ],
 "metadata": {
  "kernelspec": {
   "display_name": "Python 3 (ipykernel)",
   "language": "python",
   "name": "python3"
  },
  "language_info": {
   "codemirror_mode": {
    "name": "ipython",
    "version": 3
   },
   "file_extension": ".py",
   "mimetype": "text/x-python",
   "name": "python",
   "nbconvert_exporter": "python",
   "pygments_lexer": "ipython3",
   "version": "3.9.7"
  }
 },
 "nbformat": 4,
 "nbformat_minor": 5
}
