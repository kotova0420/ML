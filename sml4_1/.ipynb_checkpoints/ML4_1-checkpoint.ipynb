{
 "cells": [
  {
   "cell_type": "markdown",
   "id": "4bfba6fe",
   "metadata": {},
   "source": [
    "### ML4.1 Предобработка данных"
   ]
  },
  {
   "cell_type": "code",
   "execution_count": 1,
   "id": "1737c80b",
   "metadata": {},
   "outputs": [],
   "source": [
    "import pandas as pd\n",
    "import matplotlib as plt\n",
    "import seaborn as sns\n",
    "import numpy as np\n",
    "\n",
    "%matplotlib inline\n",
    "import matplotlib.pyplot as plt\n",
    "\n",
    "import warnings\n",
    "warnings.filterwarnings('ignore')"
   ]
  },
  {
   "cell_type": "markdown",
   "id": "5489c89f",
   "metadata": {},
   "source": [
    "### Задания для выполнения\n",
    "\n",
    "1.\tЗагрузите и прочитайте в pandas следующий датасет: \n",
    "https://raw.githubusercontent.com/narendramall/Predicting_Price_of_Pre_Owned_Cars/master/cars_sampled.csv"
   ]
  },
  {
   "cell_type": "code",
   "execution_count": 2,
   "id": "f14c2602",
   "metadata": {},
   "outputs": [
    {
     "data": {
      "text/html": [
       "<div>\n",
       "<style scoped>\n",
       "    .dataframe tbody tr th:only-of-type {\n",
       "        vertical-align: middle;\n",
       "    }\n",
       "\n",
       "    .dataframe tbody tr th {\n",
       "        vertical-align: top;\n",
       "    }\n",
       "\n",
       "    .dataframe thead th {\n",
       "        text-align: right;\n",
       "    }\n",
       "</style>\n",
       "<table border=\"1\" class=\"dataframe\">\n",
       "  <thead>\n",
       "    <tr style=\"text-align: right;\">\n",
       "      <th></th>\n",
       "      <th>dateCrawled</th>\n",
       "      <th>name</th>\n",
       "      <th>seller</th>\n",
       "      <th>offerType</th>\n",
       "      <th>price</th>\n",
       "      <th>abtest</th>\n",
       "      <th>vehicleType</th>\n",
       "      <th>yearOfRegistration</th>\n",
       "      <th>gearbox</th>\n",
       "      <th>powerPS</th>\n",
       "      <th>model</th>\n",
       "      <th>kilometer</th>\n",
       "      <th>monthOfRegistration</th>\n",
       "      <th>fuelType</th>\n",
       "      <th>brand</th>\n",
       "      <th>notRepairedDamage</th>\n",
       "      <th>dateCreated</th>\n",
       "      <th>postalCode</th>\n",
       "      <th>lastSeen</th>\n",
       "    </tr>\n",
       "  </thead>\n",
       "  <tbody>\n",
       "    <tr>\n",
       "      <th>0</th>\n",
       "      <td>2016-03-30 13:51:00</td>\n",
       "      <td>Zu_verkaufen</td>\n",
       "      <td>private</td>\n",
       "      <td>offer</td>\n",
       "      <td>4450</td>\n",
       "      <td>test</td>\n",
       "      <td>limousine</td>\n",
       "      <td>2003</td>\n",
       "      <td>manual</td>\n",
       "      <td>150</td>\n",
       "      <td>3er</td>\n",
       "      <td>150000</td>\n",
       "      <td>3</td>\n",
       "      <td>diesel</td>\n",
       "      <td>bmw</td>\n",
       "      <td>NaN</td>\n",
       "      <td>2016-03-30</td>\n",
       "      <td>20257</td>\n",
       "      <td>2016-07-04 04:44:00</td>\n",
       "    </tr>\n",
       "    <tr>\n",
       "      <th>1</th>\n",
       "      <td>2016-07-03 09:54:00</td>\n",
       "      <td>Volvo_XC90_2.4D_Summum</td>\n",
       "      <td>private</td>\n",
       "      <td>offer</td>\n",
       "      <td>13299</td>\n",
       "      <td>control</td>\n",
       "      <td>suv</td>\n",
       "      <td>2005</td>\n",
       "      <td>manual</td>\n",
       "      <td>163</td>\n",
       "      <td>xc_reihe</td>\n",
       "      <td>150000</td>\n",
       "      <td>6</td>\n",
       "      <td>diesel</td>\n",
       "      <td>volvo</td>\n",
       "      <td>no</td>\n",
       "      <td>2016-07-03</td>\n",
       "      <td>88045</td>\n",
       "      <td>2016-03-26 13:17:00</td>\n",
       "    </tr>\n",
       "    <tr>\n",
       "      <th>2</th>\n",
       "      <td>2016-01-04 00:57:00</td>\n",
       "      <td>Volkswagen_Touran</td>\n",
       "      <td>private</td>\n",
       "      <td>offer</td>\n",
       "      <td>3200</td>\n",
       "      <td>test</td>\n",
       "      <td>bus</td>\n",
       "      <td>2003</td>\n",
       "      <td>manual</td>\n",
       "      <td>101</td>\n",
       "      <td>touran</td>\n",
       "      <td>150000</td>\n",
       "      <td>11</td>\n",
       "      <td>diesel</td>\n",
       "      <td>volkswagen</td>\n",
       "      <td>NaN</td>\n",
       "      <td>2016-03-31</td>\n",
       "      <td>27449</td>\n",
       "      <td>2016-01-04 08:40:00</td>\n",
       "    </tr>\n",
       "  </tbody>\n",
       "</table>\n",
       "</div>"
      ],
      "text/plain": [
       "          dateCrawled                    name   seller offerType  price  \\\n",
       "0 2016-03-30 13:51:00            Zu_verkaufen  private     offer   4450   \n",
       "1 2016-07-03 09:54:00  Volvo_XC90_2.4D_Summum  private     offer  13299   \n",
       "2 2016-01-04 00:57:00       Volkswagen_Touran  private     offer   3200   \n",
       "\n",
       "    abtest vehicleType  yearOfRegistration gearbox  powerPS     model  \\\n",
       "0     test   limousine                2003  manual      150       3er   \n",
       "1  control         suv                2005  manual      163  xc_reihe   \n",
       "2     test         bus                2003  manual      101    touran   \n",
       "\n",
       "   kilometer  monthOfRegistration fuelType       brand notRepairedDamage  \\\n",
       "0     150000                    3   diesel         bmw               NaN   \n",
       "1     150000                    6   diesel       volvo                no   \n",
       "2     150000                   11   diesel  volkswagen               NaN   \n",
       "\n",
       "  dateCreated  postalCode            lastSeen  \n",
       "0  2016-03-30       20257 2016-07-04 04:44:00  \n",
       "1  2016-07-03       88045 2016-03-26 13:17:00  \n",
       "2  2016-03-31       27449 2016-01-04 08:40:00  "
      ]
     },
     "execution_count": 2,
     "metadata": {},
     "output_type": "execute_result"
    }
   ],
   "source": [
    "df = pd.read_csv(\"cars_sampled.csv\", parse_dates=['dateCrawled', 'dateCreated', 'lastSeen'])\n",
    "df.head(3)"
   ]
  },
  {
   "cell_type": "markdown",
   "id": "11acf167",
   "metadata": {},
   "source": [
    "2.\tОбратите внимание, что датасет собран «криво», поэтому прежде чем он «правильно» загрузится (рис.1), необходимо его обработать."
   ]
  },
  {
   "cell_type": "code",
   "execution_count": 3,
   "id": "7bbd6d25",
   "metadata": {},
   "outputs": [
    {
     "data": {
      "text/html": [
       "<div>\n",
       "<style scoped>\n",
       "    .dataframe tbody tr th:only-of-type {\n",
       "        vertical-align: middle;\n",
       "    }\n",
       "\n",
       "    .dataframe tbody tr th {\n",
       "        vertical-align: top;\n",
       "    }\n",
       "\n",
       "    .dataframe thead th {\n",
       "        text-align: right;\n",
       "    }\n",
       "</style>\n",
       "<table border=\"1\" class=\"dataframe\">\n",
       "  <thead>\n",
       "    <tr style=\"text-align: right;\">\n",
       "      <th></th>\n",
       "      <th>name</th>\n",
       "      <th>dateCrawled</th>\n",
       "      <th>seller</th>\n",
       "      <th>offerType</th>\n",
       "      <th>price</th>\n",
       "      <th>abtest</th>\n",
       "      <th>vehicleType</th>\n",
       "      <th>yearOfRegistration</th>\n",
       "      <th>gearbox</th>\n",
       "      <th>powerPS</th>\n",
       "      <th>model</th>\n",
       "      <th>kilometer</th>\n",
       "      <th>monthOfRegistration</th>\n",
       "      <th>fuelType</th>\n",
       "      <th>brand</th>\n",
       "      <th>notRepairedDamage</th>\n",
       "      <th>dateCreated</th>\n",
       "      <th>postalCode</th>\n",
       "      <th>lastSeen</th>\n",
       "    </tr>\n",
       "  </thead>\n",
       "  <tbody>\n",
       "    <tr>\n",
       "      <th>0</th>\n",
       "      <td>Zu_verkaufen</td>\n",
       "      <td>2016-03-30 13:51:00</td>\n",
       "      <td>private</td>\n",
       "      <td>offer</td>\n",
       "      <td>4450</td>\n",
       "      <td>test</td>\n",
       "      <td>limousine</td>\n",
       "      <td>2003</td>\n",
       "      <td>manual</td>\n",
       "      <td>150</td>\n",
       "      <td>3er</td>\n",
       "      <td>150000</td>\n",
       "      <td>3</td>\n",
       "      <td>diesel</td>\n",
       "      <td>bmw</td>\n",
       "      <td>NaN</td>\n",
       "      <td>2016-03-30</td>\n",
       "      <td>20257</td>\n",
       "      <td>2016-07-04 04:44:00</td>\n",
       "    </tr>\n",
       "    <tr>\n",
       "      <th>1</th>\n",
       "      <td>Volvo_XC90_2.4D_Summum</td>\n",
       "      <td>2016-07-03 09:54:00</td>\n",
       "      <td>private</td>\n",
       "      <td>offer</td>\n",
       "      <td>13299</td>\n",
       "      <td>control</td>\n",
       "      <td>suv</td>\n",
       "      <td>2005</td>\n",
       "      <td>manual</td>\n",
       "      <td>163</td>\n",
       "      <td>xc_reihe</td>\n",
       "      <td>150000</td>\n",
       "      <td>6</td>\n",
       "      <td>diesel</td>\n",
       "      <td>volvo</td>\n",
       "      <td>no</td>\n",
       "      <td>2016-07-03</td>\n",
       "      <td>88045</td>\n",
       "      <td>2016-03-26 13:17:00</td>\n",
       "    </tr>\n",
       "    <tr>\n",
       "      <th>2</th>\n",
       "      <td>Volkswagen_Touran</td>\n",
       "      <td>2016-01-04 00:57:00</td>\n",
       "      <td>private</td>\n",
       "      <td>offer</td>\n",
       "      <td>3200</td>\n",
       "      <td>test</td>\n",
       "      <td>bus</td>\n",
       "      <td>2003</td>\n",
       "      <td>manual</td>\n",
       "      <td>101</td>\n",
       "      <td>touran</td>\n",
       "      <td>150000</td>\n",
       "      <td>11</td>\n",
       "      <td>diesel</td>\n",
       "      <td>volkswagen</td>\n",
       "      <td>NaN</td>\n",
       "      <td>2016-03-31</td>\n",
       "      <td>27449</td>\n",
       "      <td>2016-01-04 08:40:00</td>\n",
       "    </tr>\n",
       "  </tbody>\n",
       "</table>\n",
       "</div>"
      ],
      "text/plain": [
       "                     name         dateCrawled   seller offerType  price  \\\n",
       "0            Zu_verkaufen 2016-03-30 13:51:00  private     offer   4450   \n",
       "1  Volvo_XC90_2.4D_Summum 2016-07-03 09:54:00  private     offer  13299   \n",
       "2       Volkswagen_Touran 2016-01-04 00:57:00  private     offer   3200   \n",
       "\n",
       "    abtest vehicleType  yearOfRegistration gearbox  powerPS     model  \\\n",
       "0     test   limousine                2003  manual      150       3er   \n",
       "1  control         suv                2005  manual      163  xc_reihe   \n",
       "2     test         bus                2003  manual      101    touran   \n",
       "\n",
       "   kilometer  monthOfRegistration fuelType       brand notRepairedDamage  \\\n",
       "0     150000                    3   diesel         bmw               NaN   \n",
       "1     150000                    6   diesel       volvo                no   \n",
       "2     150000                   11   diesel  volkswagen               NaN   \n",
       "\n",
       "  dateCreated  postalCode            lastSeen  \n",
       "0  2016-03-30       20257 2016-07-04 04:44:00  \n",
       "1  2016-07-03       88045 2016-03-26 13:17:00  \n",
       "2  2016-03-31       27449 2016-01-04 08:40:00  "
      ]
     },
     "execution_count": 3,
     "metadata": {},
     "output_type": "execute_result"
    }
   ],
   "source": [
    "# сделать первым столбцом name\n",
    "l = list(df.columns)\n",
    "del l[1]\n",
    "df = df[['name'] + l]\n",
    "df.head(3)"
   ]
  },
  {
   "cell_type": "markdown",
   "id": "7aecb477",
   "metadata": {},
   "source": [
    "3.\tСделайте описательную статистику: размер, типы переменных, пустые значения, уникальные имена и т.д."
   ]
  },
  {
   "cell_type": "code",
   "execution_count": 4,
   "id": "6988c478",
   "metadata": {},
   "outputs": [
    {
     "data": {
      "text/plain": [
       "(50001, 19)"
      ]
     },
     "execution_count": 4,
     "metadata": {},
     "output_type": "execute_result"
    }
   ],
   "source": [
    "# размер \n",
    "df.shape"
   ]
  },
  {
   "cell_type": "code",
   "execution_count": 5,
   "id": "6653e10b",
   "metadata": {},
   "outputs": [
    {
     "data": {
      "text/plain": [
       "name                           object\n",
       "dateCrawled            datetime64[ns]\n",
       "seller                         object\n",
       "offerType                      object\n",
       "price                           int64\n",
       "abtest                         object\n",
       "vehicleType                    object\n",
       "yearOfRegistration              int64\n",
       "gearbox                        object\n",
       "powerPS                         int64\n",
       "model                          object\n",
       "kilometer                       int64\n",
       "monthOfRegistration             int64\n",
       "fuelType                       object\n",
       "brand                          object\n",
       "notRepairedDamage              object\n",
       "dateCreated            datetime64[ns]\n",
       "postalCode                      int64\n",
       "lastSeen               datetime64[ns]\n",
       "dtype: object"
      ]
     },
     "execution_count": 5,
     "metadata": {},
     "output_type": "execute_result"
    }
   ],
   "source": [
    "# типы переменных\n",
    "df.dtypes"
   ]
  },
  {
   "cell_type": "code",
   "execution_count": 6,
   "id": "92d88552",
   "metadata": {},
   "outputs": [
    {
     "data": {
      "text/plain": [
       "name                      0\n",
       "dateCrawled               0\n",
       "seller                    0\n",
       "offerType                 0\n",
       "price                     0\n",
       "abtest                    0\n",
       "vehicleType            5188\n",
       "yearOfRegistration        0\n",
       "gearbox                2824\n",
       "powerPS                   0\n",
       "model                  2758\n",
       "kilometer                 0\n",
       "monthOfRegistration       0\n",
       "fuelType               4503\n",
       "brand                     0\n",
       "notRepairedDamage      9716\n",
       "dateCreated               0\n",
       "postalCode                0\n",
       "lastSeen                  0\n",
       "dtype: int64"
      ]
     },
     "execution_count": 6,
     "metadata": {},
     "output_type": "execute_result"
    }
   ],
   "source": [
    "# пустые значения\n",
    "df.isna().sum()"
   ]
  },
  {
   "cell_type": "code",
   "execution_count": 7,
   "id": "54d9252a",
   "metadata": {},
   "outputs": [
    {
     "name": "stdout",
     "output_type": "stream",
     "text": [
      "name  ->  38766 ['Zu_verkaufen' 'Volvo_XC90_2.4D_Summum' 'Volkswagen_Touran' ...\n",
      " '[SUCHE]_BMW_e46_Coupe_330ci_M_Paket_Facelift___Xenon_evtl._Cabrio'\n",
      " 'Verkaufe_mehrere_Fahrzeuge_zum_Verschrotten'\n",
      " 'Chevrolet_Matiz_1.Hd_TÜV11/2017']\n",
      "dateCrawled  ->  12039 ['2016-03-30T13:51:00.000000000' '2016-07-03T09:54:00.000000000'\n",
      " '2016-01-04T00:57:00.000000000' ... '2016-03-24T18:31:00.000000000'\n",
      " '2016-03-17T06:32:00.000000000' '2016-03-20T08:52:00.000000000']\n",
      "seller  ->  2 ['private' 'commercial']\n",
      "offerType  ->  2 ['offer' 'request']\n",
      "price  ->  2393 [  4450  13299   3200 ...  24301  36399 175000]\n",
      "abtest  ->  2 ['test' 'control']\n",
      "vehicleType  ->  9 ['limousine' 'suv' 'bus' 'small car' 'station wagon' 'coupe' nan 'others'\n",
      " 'cabrio']\n",
      "yearOfRegistration  ->  97 [2003 2005 2006 2008 1995 1996 1997 2001 2016 1999 1993 2002 1998 2017\n",
      " 1992 1991 2000 2011 2004 2009 1979 2010 2007 1952 1972 1994 2013 2018\n",
      " 2012 1989 2014 2015 1990 1988 1970 1961 1960 1966 2019 1983 1964 1971\n",
      " 1975 1987 1980 1977 1976 1974 1978 1962 1938 1967 1986 1910 1985 1959\n",
      " 1982 1981 1984 1950 1945 1965 1958 1973 1955 1956 1963 1933 1936 1928\n",
      " 9999 1000 1968 1940 1969 1954 1957 1934 3500 1929 6000 7500 5000 8500\n",
      " 2900 1943 1951 1500 3000 7800 2222 1941 3800 1947 1953 1255 8888]\n",
      "gearbox  ->  3 ['manual' 'automatic' nan]\n",
      "powerPS  ->  460 [  150   163   101    86   185    90     0   136   122   140    82   105\n",
      "    68   116    83   125    75    88    96   133    60   155   175   143\n",
      "    87   102   156    63   193   152    45    50   110   184   200   160\n",
      "   198   192   170   128   241   158    64   106   120    95    65   148\n",
      "   204   235    76    53   141   104    69   218   231   131   103    58\n",
      "   139   115    54   109   124    18   111   250   177   310   180   107\n",
      "    80   224   145   174    46   387   306    84   265    41    26   197\n",
      "   220   129    70    61   270    99   223   239   130   280    55    77\n",
      "   100   118   275    94   147   169    89   228   286   207    48   340\n",
      "   190   272   330   179    98   500    72    66    40    31   113   165\n",
      " 12512    44   299   400   211   195    34   450   510   144    52   135\n",
      "    81   290  2004   344    71   487   550   320   300   114   269   305\n",
      "    57  1910    78   154    74   245   252   226   507    92   408   313\n",
      "    73    85   126   232   216   149     5   358   315   360    11   260\n",
      "   277   166   871    59    56   151   258    67  1160   112   279   850\n",
      "   199    51    14   132   343   476   230   117   333   203   309    62\n",
      "   121   238   210   326   382   222   449   142   215   401   108   173\n",
      "   350   380   205   480   188   421    97   196   212   521    12   146\n",
      "   137   455   217   349   172   383   381   374     4   194   420   134\n",
      "    79    24    23   557   685  1200   249   354   213   225   295   209\n",
      "     3   303    47   178   182   159   370   355   161   201   296   181\n",
      "   285    93   253    43   240   281    33   138    37   318   273   271\n",
      "   409   963   385   431   321 16312   525   396   287   325  2461   530\n",
      "   176   540   571   233    32   227   347   256   515    39    91   514\n",
      "  1012    30 12684   171 16011   219 15017   237     1   208    27   426\n",
      "   334   600   183   254   998   189   257   247   284   289   298   292\n",
      "   234   606  1001   367  1598   311   162     2    13   570    16   345\n",
      "  1000  1625   377   435   307   506   324   430   164   610   214   404\n",
      "   436     6   167   157   119   127   328   457   445   416   268    15\n",
      "    22   264  1105   439   460   700   301   262  2172     9   603   362\n",
      "   278   390   754   123   168   186   585   579    10  1595   236   187\n",
      "   415    49   462   251   255  1992   314   288   202  6226   371  1021\n",
      "   338   363    38   553   364   405   283    35  1082  1062   304   248\n",
      "   555  1416   365   293    42   379  2789   721  1799   191   489  1102\n",
      "   619   336 19312   276   316   274    29   560   394   398   800   740\n",
      "   375   388   261 15033   672   329   475  1998  2017   425    20   246\n",
      "   481   952   322   702     7 11620   348    36 12510   392   776   259\n",
      "  1502   612   950    19  1968   441   640   353  1256  1363  1223 19211\n",
      "   352   483  1653   386]\n",
      "model  ->  249 ['3er' 'xc_reihe' 'touran' 'ibiza' 'passat' 'astra' 'clk' 'vectra'\n",
      " 'octavia' 'a_klasse' 'yaris' 'meriva' nan 'others' 'golf' '3_reihe'\n",
      " 'carisma' 'colt' '80' 'panda' 'micra' '156' 'c_klasse' 'polo' '1er' 'ka'\n",
      " 'e_klasse' 'freelander' 'a4' 'almera' 'forester' 'cooper' '5er' 'a3'\n",
      " 'grand' 'voyager' 'fiesta' 'clio' 'cordoba' 'slk' 'berlingo' 'v40' 'sl'\n",
      " 'x_reihe' 'twingo' 'fabia' 'swift' 'logan' '500' 'punto' 's_klasse'\n",
      " '2_reihe' 'galaxy' 'sharan' 'agila' 'kangoo' 'captiva' 'scenic' 'mondeo'\n",
      " 'sorento' 'primera' 'omega' 'a6' 'fortwo' 'scirocco' 'transporter' 'c4'\n",
      " 'qashqai' 'clubman' 'insignia' '7er' 'signum' 'megane' 'kadett' 'corsa'\n",
      " 'arosa' 'focus' 'z_reihe' 'caddy' 'aygo' 'matiz' 'combo' 'corolla' '601'\n",
      " 'c_max' 'c_reihe' 'beetle' 'tigra' 'sandero' 'tiguan' 's_max' 'toledo'\n",
      " 'zafira' 'a2' 'transit' 'a5' 'tt' 'citigo' 'espace' 'tucson' 'accord'\n",
      " 'rav' 'i_reihe' 'laguna' 'roadster' 'rio' 'bora' 'kuga' '147' 'c1'\n",
      " 'cuore' 'civic' 'mustang' 'lupo' 'c5' 'stilo' '6_reihe' 'mx_reihe'\n",
      " 'cayenne' 'justy' 'avensis' 'santa' 'kaefer' 'up' 'yeti' 'modus'\n",
      " 'rx_reihe' 'sprinter' 'forfour' 'cherokee' 'navara' 'v70' 'q3' '1_reihe'\n",
      " 'a8' 'verso' 'boxster' 'v_klasse' 'doblo' 'fox' '100' 'altea' 'impreza'\n",
      " 'eos' 'leon' 'calibra' 'q5' '911' 'x_trail' 'v50' 'carnival' 'bravo'\n",
      " 'jazz' 'm_klasse' 'jetta' 'escort' '4_reihe' '300c' 'ceed' 'a1' 'cl'\n",
      " 'vito' 'one' 'alhambra' 'getz' 'pajero' 'ducato' 'vivaro' 'touareg' '90'\n",
      " 'cr_reihe' '850' 'q7' 'duster' 'cx_reihe' 'seicento' 'fusion' 'b_klasse'\n",
      " 'musa' 'cc' 'c3' 'c2' '5_reihe' '900' 'kalos' 'viano' 'ypsilon' 'picanto'\n",
      " 'ptcruiser' 'sportage' 'aveo' 'exeo' 'jimny' 'note' 'm_reihe' 'auris'\n",
      " 'lanos' 'juke' 'lancer' '6er' 'phaeton' 'x_type' 'range_rover_sport'\n",
      " 'spark' 'galant' 'superb' 'spider' 'crossfire' '159' 'range_rover' 'r19'\n",
      " 'legacy' 'amarok' 's60' 'glk' 'wrangler' '9000' 'roomster' 'i3'\n",
      " 'outlander' 'b_max' 'antara' 'niva' 'sirion' 'nubira' 'g_klasse' 'lodgy'\n",
      " 'mii' 'range_rover_evoque' 'terios' '145' 'gl' 'serie_2' 'defender'\n",
      " 'delta' '200' 's_type' 'samara' 'materia' 'croma' 'lybra' 'discovery'\n",
      " 'v60' 'serie_3' 'move' 'kalina' 'elefantino' 'charade' 'rangerover']\n",
      "kilometer  ->  13 [150000  60000 125000   5000  50000  80000  90000 100000  20000  30000\n",
      "  40000  70000  10000]\n",
      "monthOfRegistration  ->  13 [ 3  6 11 12  2  5  4  1  9  0 10  8  7]\n",
      "fuelType  ->  8 ['diesel' 'petrol' nan 'cng' 'lpg' 'hybrid' 'electro' 'other']\n",
      "brand  ->  40 ['bmw' 'volvo' 'volkswagen' 'seat' 'opel' 'mercedes_benz' 'skoda' 'toyota'\n",
      " 'nissan' 'sonstige_autos' 'mazda' 'mitsubishi' 'audi' 'fiat' 'alfa_romeo'\n",
      " 'saab' 'ford' 'peugeot' 'land_rover' 'daihatsu' 'subaru' 'mini' 'citroen'\n",
      " 'jeep' 'chrysler' 'renault' 'suzuki' 'dacia' 'chevrolet' 'kia' 'smart'\n",
      " 'hyundai' 'lancia' 'trabant' 'honda' 'jaguar' 'porsche' 'rover' 'daewoo'\n",
      " 'lada']\n",
      "notRepairedDamage  ->  3 [nan 'no' 'yes']\n",
      "dateCreated  ->  75 ['2016-03-30T00:00:00.000000000' '2016-07-03T00:00:00.000000000'\n",
      " '2016-03-31T00:00:00.000000000' '2016-03-19T00:00:00.000000000'\n",
      " '2016-03-16T00:00:00.000000000' '2016-02-04T00:00:00.000000000'\n",
      " '2016-03-04T00:00:00.000000000' '2016-03-24T00:00:00.000000000'\n",
      " '2016-03-28T00:00:00.000000000' '2016-05-04T00:00:00.000000000'\n",
      " '2016-03-21T00:00:00.000000000' '2016-03-25T00:00:00.000000000'\n",
      " '2016-03-13T00:00:00.000000000' '2016-08-03T00:00:00.000000000'\n",
      " '2016-12-03T00:00:00.000000000' '2016-03-22T00:00:00.000000000'\n",
      " '2016-03-15T00:00:00.000000000' '2016-01-04T00:00:00.000000000'\n",
      " '2016-03-27T00:00:00.000000000' '2016-03-29T00:00:00.000000000'\n",
      " '2016-03-26T00:00:00.000000000' '2016-03-23T00:00:00.000000000'\n",
      " '2016-11-03T00:00:00.000000000' '2016-09-03T00:00:00.000000000'\n",
      " '2016-03-14T00:00:00.000000000' '2016-04-04T00:00:00.000000000'\n",
      " '2016-10-03T00:00:00.000000000' '2016-03-17T00:00:00.000000000'\n",
      " '2016-03-20T00:00:00.000000000' '2016-03-18T00:00:00.000000000'\n",
      " '2016-05-03T00:00:00.000000000' '2016-06-03T00:00:00.000000000'\n",
      " '2016-04-03T00:00:00.000000000' '2016-02-28T00:00:00.000000000'\n",
      " '2016-03-03T00:00:00.000000000' '2016-06-04T00:00:00.000000000'\n",
      " '2016-07-04T00:00:00.000000000' '2016-04-02T00:00:00.000000000'\n",
      " '2016-02-23T00:00:00.000000000' '2016-02-27T00:00:00.000000000'\n",
      " '2016-01-03T00:00:00.000000000' '2016-07-01T00:00:00.000000000'\n",
      " '2016-02-03T00:00:00.000000000' '2015-12-11T00:00:00.000000000'\n",
      " '2016-02-26T00:00:00.000000000' '2016-02-20T00:00:00.000000000'\n",
      " '2015-12-28T00:00:00.000000000' '2016-02-21T00:00:00.000000000'\n",
      " '2016-02-14T00:00:00.000000000' '2016-02-13T00:00:00.000000000'\n",
      " '2016-01-30T00:00:00.000000000' '2016-02-29T00:00:00.000000000'\n",
      " '2016-02-19T00:00:00.000000000' '2016-02-24T00:00:00.000000000'\n",
      " '2016-01-27T00:00:00.000000000' '2016-02-25T00:00:00.000000000'\n",
      " '2015-12-30T00:00:00.000000000' '2016-01-25T00:00:00.000000000'\n",
      " '2016-01-29T00:00:00.000000000' '2015-05-12T00:00:00.000000000'\n",
      " '2016-05-02T00:00:00.000000000' '2016-09-02T00:00:00.000000000'\n",
      " '2016-01-24T00:00:00.000000000' '2015-02-11T00:00:00.000000000'\n",
      " '2015-06-12T00:00:00.000000000' '2016-02-18T00:00:00.000000000'\n",
      " '2016-01-20T00:00:00.000000000' '2015-04-09T00:00:00.000000000'\n",
      " '2016-02-15T00:00:00.000000000' '2016-02-16T00:00:00.000000000'\n",
      " '2016-02-22T00:00:00.000000000' '2016-02-02T00:00:00.000000000'\n",
      " '2016-03-02T00:00:00.000000000' '2016-12-02T00:00:00.000000000'\n",
      " '2016-01-19T00:00:00.000000000']\n",
      "postalCode  ->  7018 [20257 88045 27449 ... 89441 91747 17214]\n",
      "lastSeen  ->  10413 ['2016-07-04T04:44:00.000000000' '2016-03-26T13:17:00.000000000'\n",
      " '2016-01-04T08:40:00.000000000' ... '2016-03-30T19:18:00.000000000'\n",
      " '2016-03-20T09:39:00.000000000' '2016-03-26T17:54:00.000000000']\n"
     ]
    }
   ],
   "source": [
    "# уникальные значения\n",
    "for col in df.columns:\n",
    "    print(col, \" -> \", len(df[col].unique()), df[col].unique())"
   ]
  },
  {
   "cell_type": "code",
   "execution_count": 8,
   "id": "0bbc11cd",
   "metadata": {},
   "outputs": [
    {
     "data": {
      "text/html": [
       "<div>\n",
       "<style scoped>\n",
       "    .dataframe tbody tr th:only-of-type {\n",
       "        vertical-align: middle;\n",
       "    }\n",
       "\n",
       "    .dataframe tbody tr th {\n",
       "        vertical-align: top;\n",
       "    }\n",
       "\n",
       "    .dataframe thead th {\n",
       "        text-align: right;\n",
       "    }\n",
       "</style>\n",
       "<table border=\"1\" class=\"dataframe\">\n",
       "  <thead>\n",
       "    <tr style=\"text-align: right;\">\n",
       "      <th></th>\n",
       "      <th>price</th>\n",
       "      <th>yearOfRegistration</th>\n",
       "      <th>powerPS</th>\n",
       "      <th>kilometer</th>\n",
       "      <th>monthOfRegistration</th>\n",
       "      <th>postalCode</th>\n",
       "    </tr>\n",
       "  </thead>\n",
       "  <tbody>\n",
       "    <tr>\n",
       "      <th>count</th>\n",
       "      <td>5.000100e+04</td>\n",
       "      <td>50001.000000</td>\n",
       "      <td>50001.000000</td>\n",
       "      <td>50001.000000</td>\n",
       "      <td>50001.000000</td>\n",
       "      <td>50001.000000</td>\n",
       "    </tr>\n",
       "    <tr>\n",
       "      <th>mean</th>\n",
       "      <td>6.559865e+03</td>\n",
       "      <td>2005.544229</td>\n",
       "      <td>116.496130</td>\n",
       "      <td>125613.687726</td>\n",
       "      <td>5.743725</td>\n",
       "      <td>50775.216696</td>\n",
       "    </tr>\n",
       "    <tr>\n",
       "      <th>std</th>\n",
       "      <td>8.581847e+04</td>\n",
       "      <td>122.991832</td>\n",
       "      <td>230.567709</td>\n",
       "      <td>40205.234483</td>\n",
       "      <td>3.711345</td>\n",
       "      <td>25743.701933</td>\n",
       "    </tr>\n",
       "    <tr>\n",
       "      <th>min</th>\n",
       "      <td>0.000000e+00</td>\n",
       "      <td>1000.000000</td>\n",
       "      <td>0.000000</td>\n",
       "      <td>5000.000000</td>\n",
       "      <td>0.000000</td>\n",
       "      <td>1067.000000</td>\n",
       "    </tr>\n",
       "    <tr>\n",
       "      <th>25%</th>\n",
       "      <td>1.150000e+03</td>\n",
       "      <td>1999.000000</td>\n",
       "      <td>69.000000</td>\n",
       "      <td>125000.000000</td>\n",
       "      <td>3.000000</td>\n",
       "      <td>30559.000000</td>\n",
       "    </tr>\n",
       "    <tr>\n",
       "      <th>50%</th>\n",
       "      <td>2.950000e+03</td>\n",
       "      <td>2003.000000</td>\n",
       "      <td>105.000000</td>\n",
       "      <td>150000.000000</td>\n",
       "      <td>6.000000</td>\n",
       "      <td>49504.000000</td>\n",
       "    </tr>\n",
       "    <tr>\n",
       "      <th>75%</th>\n",
       "      <td>7.190000e+03</td>\n",
       "      <td>2008.000000</td>\n",
       "      <td>150.000000</td>\n",
       "      <td>150000.000000</td>\n",
       "      <td>9.000000</td>\n",
       "      <td>71404.000000</td>\n",
       "    </tr>\n",
       "    <tr>\n",
       "      <th>max</th>\n",
       "      <td>1.234568e+07</td>\n",
       "      <td>9999.000000</td>\n",
       "      <td>19312.000000</td>\n",
       "      <td>150000.000000</td>\n",
       "      <td>12.000000</td>\n",
       "      <td>99998.000000</td>\n",
       "    </tr>\n",
       "  </tbody>\n",
       "</table>\n",
       "</div>"
      ],
      "text/plain": [
       "              price  yearOfRegistration       powerPS      kilometer  \\\n",
       "count  5.000100e+04        50001.000000  50001.000000   50001.000000   \n",
       "mean   6.559865e+03         2005.544229    116.496130  125613.687726   \n",
       "std    8.581847e+04          122.991832    230.567709   40205.234483   \n",
       "min    0.000000e+00         1000.000000      0.000000    5000.000000   \n",
       "25%    1.150000e+03         1999.000000     69.000000  125000.000000   \n",
       "50%    2.950000e+03         2003.000000    105.000000  150000.000000   \n",
       "75%    7.190000e+03         2008.000000    150.000000  150000.000000   \n",
       "max    1.234568e+07         9999.000000  19312.000000  150000.000000   \n",
       "\n",
       "       monthOfRegistration    postalCode  \n",
       "count         50001.000000  50001.000000  \n",
       "mean              5.743725  50775.216696  \n",
       "std               3.711345  25743.701933  \n",
       "min               0.000000   1067.000000  \n",
       "25%               3.000000  30559.000000  \n",
       "50%               6.000000  49504.000000  \n",
       "75%               9.000000  71404.000000  \n",
       "max              12.000000  99998.000000  "
      ]
     },
     "execution_count": 8,
     "metadata": {},
     "output_type": "execute_result"
    }
   ],
   "source": [
    "df.describe()"
   ]
  },
  {
   "cell_type": "code",
   "execution_count": 9,
   "id": "5de9f0fd",
   "metadata": {},
   "outputs": [
    {
     "name": "stdout",
     "output_type": "stream",
     "text": [
      "<class 'pandas.core.frame.DataFrame'>\n",
      "RangeIndex: 50001 entries, 0 to 50000\n",
      "Data columns (total 19 columns):\n",
      " #   Column               Non-Null Count  Dtype         \n",
      "---  ------               --------------  -----         \n",
      " 0   name                 50001 non-null  object        \n",
      " 1   dateCrawled          50001 non-null  datetime64[ns]\n",
      " 2   seller               50001 non-null  object        \n",
      " 3   offerType            50001 non-null  object        \n",
      " 4   price                50001 non-null  int64         \n",
      " 5   abtest               50001 non-null  object        \n",
      " 6   vehicleType          44813 non-null  object        \n",
      " 7   yearOfRegistration   50001 non-null  int64         \n",
      " 8   gearbox              47177 non-null  object        \n",
      " 9   powerPS              50001 non-null  int64         \n",
      " 10  model                47243 non-null  object        \n",
      " 11  kilometer            50001 non-null  int64         \n",
      " 12  monthOfRegistration  50001 non-null  int64         \n",
      " 13  fuelType             45498 non-null  object        \n",
      " 14  brand                50001 non-null  object        \n",
      " 15  notRepairedDamage    40285 non-null  object        \n",
      " 16  dateCreated          50001 non-null  datetime64[ns]\n",
      " 17  postalCode           50001 non-null  int64         \n",
      " 18  lastSeen             50001 non-null  datetime64[ns]\n",
      "dtypes: datetime64[ns](3), int64(6), object(10)\n",
      "memory usage: 7.2+ MB\n"
     ]
    }
   ],
   "source": [
    "df.info()"
   ]
  },
  {
   "cell_type": "markdown",
   "id": "2098ffd4",
   "metadata": {},
   "source": [
    "5.\tПоработайте со столбцом price. Постройте гистограмму, найдите выбросы (ящиковая диаграмма), удалите аномальные значения, постарайтесь привести к нормальному распределению."
   ]
  },
  {
   "cell_type": "code",
   "execution_count": 10,
   "id": "1db9aea7",
   "metadata": {},
   "outputs": [
    {
     "name": "stdout",
     "output_type": "stream",
     "text": [
      "% пустых значений ->  0.0\n",
      "уникальные значения ->  [  4450  13299   3200 ...  24301  36399 175000]\n",
      "статистика -> \n",
      " count    5.000100e+04\n",
      "mean     6.559865e+03\n",
      "std      8.581847e+04\n",
      "min      0.000000e+00\n",
      "25%      1.150000e+03\n",
      "50%      2.950000e+03\n",
      "75%      7.190000e+03\n",
      "max      1.234568e+07\n",
      "Name: price, dtype: float64\n"
     ]
    }
   ],
   "source": [
    "print('% пустых значений -> ', df['price'].isna().sum() / df['price'].shape[0])\n",
    "print('уникальные значения -> ', df['price'].unique())\n",
    "print('статистика -> \\n', df['price'].describe())"
   ]
  },
  {
   "cell_type": "code",
   "execution_count": 11,
   "id": "bcbd3f45",
   "metadata": {},
   "outputs": [
    {
     "data": {
      "text/plain": [
       "<AxesSubplot:>"
      ]
     },
     "execution_count": 11,
     "metadata": {},
     "output_type": "execute_result"
    },
    {
     "data": {
      "image/png": "[encoded data removed]",
      "text/plain": [
       "<Figure size 432x288 with 1 Axes>"
      ]
     },
     "metadata": {
      "needs_background": "light"
     },
     "output_type": "display_data"
    }
   ],
   "source": [
    "df[\"price\"].hist()"
   ]
  },
  {
   "cell_type": "code",
   "execution_count": 12,
   "id": "ba6056db",
   "metadata": {},
   "outputs": [
    {
     "data": {
      "text/plain": [
       "<AxesSubplot:>"
      ]
     },
     "execution_count": 12,
     "metadata": {},
     "output_type": "execute_result"
    },
    {
     "data": {
      "image/png": "[encoded data removed]",
      "text/plain": [
       "<Figure size 432x288 with 1 Axes>"
      ]
     },
     "metadata": {
      "needs_background": "light"
     },
     "output_type": "display_data"
    }
   ],
   "source": [
    "df[\"price\"].plot()"
   ]
  },
  {
   "cell_type": "code",
   "execution_count": 13,
   "id": "24fb5024",
   "metadata": {},
   "outputs": [
    {
     "data": {
      "text/plain": [
       "<AxesSubplot:>"
      ]
     },
     "execution_count": 13,
     "metadata": {},
     "output_type": "execute_result"
    },
    {
     "data": {
      "image/png": "[encoded data removed]",
      "text/plain": [
       "<Figure size 432x288 with 1 Axes>"
      ]
     },
     "metadata": {
      "needs_background": "light"
     },
     "output_type": "display_data"
    }
   ],
   "source": [
    "df['price'].plot.box()"
   ]
  },
  {
   "cell_type": "raw",
   "id": "e357fa75",
   "metadata": {},
   "source": [
    "plt.boxplot(df['price'])\n",
    "plt.show()"
   ]
  },
  {
   "cell_type": "code",
   "execution_count": 14,
   "id": "019503d7",
   "metadata": {},
   "outputs": [],
   "source": [
    "import copy \n",
    "df0 = copy.deepcopy(df)"
   ]
  },
  {
   "cell_type": "code",
   "execution_count": 15,
   "id": "894d5b1e",
   "metadata": {},
   "outputs": [
    {
     "name": "stdout",
     "output_type": "stream",
     "text": [
      "пустые значения ->  0\n",
      "пустые значения ->  3757\n",
      "пустые значения ->  0\n"
     ]
    }
   ],
   "source": [
    "# нормализация\n",
    "print('пустые значения -> ', df['price'].isna().sum())\n",
    "\n",
    "for x in [\"price\"]:\n",
    "    q75, q25 = np.percentile(df.loc[:,x],[75,25])\n",
    "    intr_qr = q75 - q25\n",
    "\n",
    "    max = q75 + (1.5 * intr_qr)\n",
    "    min = q25 - (1.5 * intr_qr)\n",
    "\n",
    "    df.loc[df[x] < min,x] = np.nan\n",
    "    df.loc[df[x] > max,x] = np.nan\n",
    "    \n",
    "print('пустые значения -> ', df['price'].isna().sum())\n",
    "df = df.dropna(subset=[\"price\"])\n",
    "print('пустые значения -> ', df['price'].isna().sum())"
   ]
  },
  {
   "cell_type": "code",
   "execution_count": 16,
   "id": "c652f3f2",
   "metadata": {},
   "outputs": [
    {
     "data": {
      "text/plain": [
       "<AxesSubplot:>"
      ]
     },
     "execution_count": 16,
     "metadata": {},
     "output_type": "execute_result"
    },
    {
     "data": {
      "image/png": "[encoded data removed]",
      "text/plain": [
       "<Figure size 432x288 with 1 Axes>"
      ]
     },
     "metadata": {
      "needs_background": "light"
     },
     "output_type": "display_data"
    }
   ],
   "source": [
    "df[\"price\"].hist()"
   ]
  },
  {
   "cell_type": "code",
   "execution_count": 17,
   "id": "b6d5aaf4",
   "metadata": {},
   "outputs": [
    {
     "data": {
      "text/plain": [
       "<AxesSubplot:>"
      ]
     },
     "execution_count": 17,
     "metadata": {},
     "output_type": "execute_result"
    },
    {
     "data": {
      "image/png": "[encoded data removed]",
      "text/plain": [
       "<Figure size 432x288 with 1 Axes>"
      ]
     },
     "metadata": {
      "needs_background": "light"
     },
     "output_type": "display_data"
    }
   ],
   "source": [
    "df[\"price\"].plot()"
   ]
  },
  {
   "cell_type": "code",
   "execution_count": 18,
   "id": "75f396cd",
   "metadata": {},
   "outputs": [
    {
     "data": {
      "text/plain": [
       "<AxesSubplot:>"
      ]
     },
     "execution_count": 18,
     "metadata": {},
     "output_type": "execute_result"
    },
    {
     "data": {
      "image/png": "[encoded data removed]",
      "text/plain": [
       "<Figure size 432x288 with 1 Axes>"
      ]
     },
     "metadata": {
      "needs_background": "light"
     },
     "output_type": "display_data"
    }
   ],
   "source": [
    "df['price'].plot.box()"
   ]
  },
  {
   "cell_type": "code",
   "execution_count": 19,
   "id": "979a2c5d",
   "metadata": {},
   "outputs": [],
   "source": [
    "# не удаление, а замена на значения верхнего и нижнего дециля\n",
    "for x in [\"price\"]:\n",
    "    d90, d10 = np.percentile(df0.loc[:,x],[90, 10])\n",
    "\n",
    "    df0.loc[df0[x] < d10, x] = d10\n",
    "    df0.loc[df0[x] > d90, x] = d90"
   ]
  },
  {
   "cell_type": "code",
   "execution_count": 20,
   "id": "381d78c0",
   "metadata": {},
   "outputs": [
    {
     "data": {
      "text/plain": [
       "<AxesSubplot:>"
      ]
     },
     "execution_count": 20,
     "metadata": {},
     "output_type": "execute_result"
    },
    {
     "data": {
      "image/png": "[encoded data removed]",
      "text/plain": [
       "<Figure size 432x288 with 1 Axes>"
      ]
     },
     "metadata": {
      "needs_background": "light"
     },
     "output_type": "display_data"
    }
   ],
   "source": [
    "df0[\"price\"].hist()"
   ]
  },
  {
   "cell_type": "code",
   "execution_count": 21,
   "id": "d96920e4",
   "metadata": {},
   "outputs": [
    {
     "data": {
      "text/plain": [
       "<AxesSubplot:>"
      ]
     },
     "execution_count": 21,
     "metadata": {},
     "output_type": "execute_result"
    },
    {
     "data": {
      "image/png": "[encoded data removed]",
      "text/plain": [
       "<Figure size 432x288 with 1 Axes>"
      ]
     },
     "metadata": {
      "needs_background": "light"
     },
     "output_type": "display_data"
    }
   ],
   "source": [
    "df0['price'].plot.box()"
   ]
  },
  {
   "cell_type": "markdown",
   "id": "6587ddb0",
   "metadata": {},
   "source": [
    "6.\tАналогично поработайте и с другими «важными для целевой функции price» параметрами (powerPS, yearOfRegistration, kilometer и т.д). «Важность» докажите через коэффициент корреляции. Сделайте визуализацию."
   ]
  },
  {
   "cell_type": "code",
   "execution_count": 22,
   "id": "39c175c8",
   "metadata": {},
   "outputs": [
    {
     "data": {
      "text/plain": [
       "<AxesSubplot:>"
      ]
     },
     "execution_count": 22,
     "metadata": {},
     "output_type": "execute_result"
    },
    {
     "data": {
      "image/png": "[encoded data removed]",
      "text/plain": [
       "<Figure size 432x288 with 2 Axes>"
      ]
     },
     "metadata": {
      "needs_background": "light"
     },
     "output_type": "display_data"
    }
   ],
   "source": [
    "# коэф корреляции\n",
    "sns.heatmap(df.corr(), annot=True)"
   ]
  },
  {
   "cell_type": "code",
   "execution_count": 23,
   "id": "3f1d0b2a",
   "metadata": {},
   "outputs": [],
   "source": [
    "def plots(col):\n",
    "    col.hist()\n",
    "    plt.show()\n",
    "    col.plot()\n",
    "    plt.show()\n",
    "    col.plot.box()\n",
    "    plt.show()"
   ]
  },
  {
   "cell_type": "markdown",
   "id": "d27a5a19",
   "metadata": {},
   "source": [
    "##### yearOfRegistration"
   ]
  },
  {
   "cell_type": "code",
   "execution_count": 24,
   "id": "823313bc",
   "metadata": {},
   "outputs": [
    {
     "name": "stdout",
     "output_type": "stream",
     "text": [
      "уникальные значения ->  93 [2003 2005 2006 1995 1996 1997 2001 2016 1999 1993 2002 1998 2017 1992\n",
      " 1991]\n",
      "статистика -> \n",
      " count    46244.000000\n",
      "mean      2004.729933\n",
      "std        110.419014\n",
      "min       1000.000000\n",
      "25%       1999.000000\n",
      "50%       2003.000000\n",
      "75%       2007.000000\n",
      "max       9999.000000\n",
      "Name: yearOfRegistration, dtype: float64 \n",
      "\n",
      "пустые значения ->  0\n"
     ]
    },
    {
     "data": {
      "text/plain": [
       "2003.0"
      ]
     },
     "execution_count": 24,
     "metadata": {},
     "output_type": "execute_result"
    }
   ],
   "source": [
    "print('уникальные значения -> ', len(df['yearOfRegistration'].unique()), df['yearOfRegistration'].unique()[:15])\n",
    "print('статистика -> \\n', df['yearOfRegistration'].describe(), '\\n')\n",
    "print('пустые значения -> ', df['yearOfRegistration'].isna().sum())\n",
    "df['yearOfRegistration'].median()"
   ]
  },
  {
   "cell_type": "code",
   "execution_count": 25,
   "id": "ca1ca49a",
   "metadata": {},
   "outputs": [
    {
     "data": {
      "image/png": "[encoded data removed]",
      "text/plain": [
       "<Figure size 432x288 with 1 Axes>"
      ]
     },
     "metadata": {
      "needs_background": "light"
     },
     "output_type": "display_data"
    },
    {
     "data": {
      "image/png": "[encoded data removed]",
      "text/plain": [
       "<Figure size 432x288 with 1 Axes>"
      ]
     },
     "metadata": {
      "needs_background": "light"
     },
     "output_type": "display_data"
    },
    {
     "data": {
      "image/png": "[encoded data removed]",
      "text/plain": [
       "<Figure size 432x288 with 1 Axes>"
      ]
     },
     "metadata": {
      "needs_background": "light"
     },
     "output_type": "display_data"
    }
   ],
   "source": [
    "plots(df['yearOfRegistration'])"
   ]
  },
  {
   "cell_type": "code",
   "execution_count": 26,
   "id": "9558bd82",
   "metadata": {},
   "outputs": [
    {
     "name": "stdout",
     "output_type": "stream",
     "text": [
      "2018.0 1953.0\n"
     ]
    }
   ],
   "source": [
    "p99, p01 = np.percentile(df0.loc[:,'yearOfRegistration'],[99.9, 0.1])\n",
    "print(p99, p01)"
   ]
  },
  {
   "cell_type": "code",
   "execution_count": 27,
   "id": "5f586c1f",
   "metadata": {},
   "outputs": [
    {
     "data": {
      "image/png": "[encoded data removed]",
      "text/plain": [
       "<Figure size 432x288 with 1 Axes>"
      ]
     },
     "metadata": {
      "needs_background": "light"
     },
     "output_type": "display_data"
    },
    {
     "data": {
      "image/png": "[encoded data removed]",
      "text/plain": [
       "<Figure size 432x288 with 1 Axes>"
      ]
     },
     "metadata": {
      "needs_background": "light"
     },
     "output_type": "display_data"
    },
    {
     "data": {
      "image/png": "[encoded data removed]",
      "text/plain": [
       "<Figure size 432x288 with 1 Axes>"
      ]
     },
     "metadata": {
      "needs_background": "light"
     },
     "output_type": "display_data"
    }
   ],
   "source": [
    "\n",
    "for x in ['yearOfRegistration']:\n",
    "    p99, p01 = np.percentile(df.loc[:, x],[99.9, 0.1])\n",
    "\n",
    "    df.loc[df[x] < p01, x] = p01\n",
    "    df.loc[df[x] > p99, x] = p99\n",
    "    \n",
    "plots(df['yearOfRegistration'])"
   ]
  },
  {
   "cell_type": "markdown",
   "id": "7f2b2c89",
   "metadata": {},
   "source": [
    "##### powerPS"
   ]
  },
  {
   "cell_type": "code",
   "execution_count": 28,
   "id": "f93acc59",
   "metadata": {},
   "outputs": [
    {
     "name": "stdout",
     "output_type": "stream",
     "text": [
      "уникальные значения ->  394 [150 163 101  86  90   0 136 122 140  82 105  68 116  83 125]\n",
      "статистика -> \n",
      " count    46244.000000\n",
      "mean       108.544417\n",
      "std        230.242276\n",
      "min          0.000000\n",
      "25%         68.000000\n",
      "50%        102.000000\n",
      "75%        140.000000\n",
      "max      19312.000000\n",
      "Name: powerPS, dtype: float64\n",
      "медиана 102.0\n",
      "пустые значения ->  0\n"
     ]
    },
    {
     "data": {
      "image/png": "[encoded data removed]",
      "text/plain": [
       "<Figure size 432x288 with 1 Axes>"
      ]
     },
     "metadata": {
      "needs_background": "light"
     },
     "output_type": "display_data"
    },
    {
     "data": {
      "image/png": "[encoded data removed]",
      "text/plain": [
       "<Figure size 432x288 with 1 Axes>"
      ]
     },
     "metadata": {
      "needs_background": "light"
     },
     "output_type": "display_data"
    },
    {
     "data": {
      "image/png": "[encoded data removed]",
      "text/plain": [
       "<Figure size 432x288 with 1 Axes>"
      ]
     },
     "metadata": {
      "needs_background": "light"
     },
     "output_type": "display_data"
    }
   ],
   "source": [
    "col = 'powerPS'\n",
    "print('уникальные значения -> ', len(df[col].unique()), df[col].unique()[:15])\n",
    "print('статистика -> \\n', df[col].describe())\n",
    "print('медиана', df[col].median())\n",
    "print('пустые значения -> ', df[col].isna().sum())\n",
    "plots(df[col])"
   ]
  },
  {
   "cell_type": "code",
   "execution_count": 29,
   "id": "fb05bce9",
   "metadata": {},
   "outputs": [
    {
     "data": {
      "image/png": "[encoded data removed]",
      "text/plain": [
       "<Figure size 432x288 with 1 Axes>"
      ]
     },
     "metadata": {
      "needs_background": "light"
     },
     "output_type": "display_data"
    },
    {
     "data": {
      "image/png": "[encoded data removed]",
      "text/plain": [
       "<Figure size 432x288 with 1 Axes>"
      ]
     },
     "metadata": {
      "needs_background": "light"
     },
     "output_type": "display_data"
    },
    {
     "data": {
      "image/png": "[encoded data removed]",
      "text/plain": [
       "<Figure size 432x288 with 1 Axes>"
      ]
     },
     "metadata": {
      "needs_background": "light"
     },
     "output_type": "display_data"
    }
   ],
   "source": [
    "# заменим на значения верхнего и нижнего дециля\n",
    "for x in [col]:\n",
    "    d90, d10 = np.percentile(df.loc[:,x],[90, 10])\n",
    "\n",
    "    df.loc[df0[x] < d10, x] = d10\n",
    "    df.loc[df0[x] > d90, x] = d90\n",
    "\n",
    "plots(df[col])"
   ]
  },
  {
   "cell_type": "markdown",
   "id": "d632fae1",
   "metadata": {},
   "source": [
    "##### kilometer"
   ]
  },
  {
   "cell_type": "code",
   "execution_count": 30,
   "id": "c88677ea",
   "metadata": {},
   "outputs": [
    {
     "name": "stdout",
     "output_type": "stream",
     "text": [
      "уникальные значения ->  13 [150000  60000 125000   5000  50000  80000 100000  90000  20000  30000\n",
      "  10000  70000  40000]\n",
      "статистика -> \n",
      " count     46244.000000\n",
      "mean     129426.520197\n",
      "std       37056.422594\n",
      "min        5000.000000\n",
      "25%      125000.000000\n",
      "50%      150000.000000\n",
      "75%      150000.000000\n",
      "max      150000.000000\n",
      "Name: kilometer, dtype: float64\n",
      "медиана 150000.0\n",
      "пустые значения ->  0\n"
     ]
    },
    {
     "data": {
      "image/png": "[encoded data removed]",
      "text/plain": [
       "<Figure size 432x288 with 1 Axes>"
      ]
     },
     "metadata": {
      "needs_background": "light"
     },
     "output_type": "display_data"
    },
    {
     "data": {
      "image/png": "[encoded data removed]",
      "text/plain": [
       "<Figure size 432x288 with 1 Axes>"
      ]
     },
     "metadata": {
      "needs_background": "light"
     },
     "output_type": "display_data"
    },
    {
     "data": {
      "image/png": "[encoded data removed]",
      "text/plain": [
       "<Figure size 432x288 with 1 Axes>"
      ]
     },
     "metadata": {
      "needs_background": "light"
     },
     "output_type": "display_data"
    }
   ],
   "source": [
    "col = 'kilometer'\n",
    "print('уникальные значения -> ', len(df[col].unique()), df[col].unique()[:15])\n",
    "print('статистика -> \\n', df[col].describe())\n",
    "print('медиана', df[col].median())\n",
    "print('пустые значения -> ', df[col].isna().sum())\n",
    "plots(df[col])\n",
    "\n",
    "# ничего не меняем, все и так хорошо"
   ]
  },
  {
   "cell_type": "markdown",
   "id": "681c0df9",
   "metadata": {},
   "source": [
    "##### monthOfRegistration"
   ]
  },
  {
   "cell_type": "code",
   "execution_count": 31,
   "id": "c63cb29e",
   "metadata": {},
   "outputs": [
    {
     "name": "stdout",
     "output_type": "stream",
     "text": [
      "уникальные значения ->  13 [ 3  6 11 12  2  5  4  1  9  0 10  8  7]\n",
      "статистика -> \n",
      " count    46244.000000\n",
      "mean         5.702253\n",
      "std          3.733747\n",
      "min          0.000000\n",
      "25%          3.000000\n",
      "50%          6.000000\n",
      "75%          9.000000\n",
      "max         12.000000\n",
      "Name: monthOfRegistration, dtype: float64\n",
      "медиана 6.0\n",
      "пустые значения ->  0\n"
     ]
    },
    {
     "data": {
      "image/png": "[encoded data removed]",
      "text/plain": [
       "<Figure size 432x288 with 1 Axes>"
      ]
     },
     "metadata": {
      "needs_background": "light"
     },
     "output_type": "display_data"
    },
    {
     "data": {
      "image/png": "[encoded data removed]",
      "text/plain": [
       "<Figure size 432x288 with 1 Axes>"
      ]
     },
     "metadata": {
      "needs_background": "light"
     },
     "output_type": "display_data"
    },
    {
     "data": {
      "image/png": "[encoded data removed]",
      "text/plain": [
       "<Figure size 432x288 with 1 Axes>"
      ]
     },
     "metadata": {
      "needs_background": "light"
     },
     "output_type": "display_data"
    }
   ],
   "source": [
    "col = 'monthOfRegistration'\n",
    "print('уникальные значения -> ', len(df[col].unique()), df[col].unique()[:15])\n",
    "print('статистика -> \\n', df[col].describe())\n",
    "print('медиана', df[col].median())\n",
    "print('пустые значения -> ', df[col].isna().sum())\n",
    "plots(df[col])"
   ]
  },
  {
   "cell_type": "code",
   "execution_count": 32,
   "id": "e53e9d4f",
   "metadata": {},
   "outputs": [
    {
     "data": {
      "image/png": "[encoded data removed]",
      "text/plain": [
       "<Figure size 432x288 with 1 Axes>"
      ]
     },
     "metadata": {
      "needs_background": "light"
     },
     "output_type": "display_data"
    },
    {
     "data": {
      "image/png": "[encoded data removed]",
      "text/plain": [
       "<Figure size 432x288 with 1 Axes>"
      ]
     },
     "metadata": {
      "needs_background": "light"
     },
     "output_type": "display_data"
    },
    {
     "data": {
      "image/png": "[encoded data removed]",
      "text/plain": [
       "<Figure size 432x288 with 1 Axes>"
      ]
     },
     "metadata": {
      "needs_background": "light"
     },
     "output_type": "display_data"
    }
   ],
   "source": [
    "df.loc[df[col]==0, col] = np.random.randint(1, 13)\n",
    "plots(df[col])"
   ]
  },
  {
   "cell_type": "markdown",
   "id": "6c9f7392",
   "metadata": {},
   "source": [
    "##### postalCode"
   ]
  },
  {
   "cell_type": "code",
   "execution_count": 33,
   "id": "47ced6ef",
   "metadata": {},
   "outputs": [
    {
     "name": "stdout",
     "output_type": "stream",
     "text": [
      "уникальные значения ->  6915 [20257 88045 27449 34537 26826 56422 13353 28307 16761 26835 31174 24848\n",
      " 34379 51065 18059]\n",
      "статистика -> \n",
      " count    46244.000000\n",
      "mean     50291.413935\n",
      "std      25702.870799\n",
      "min       1067.000000\n",
      "25%      29692.250000\n",
      "50%      49088.000000\n",
      "75%      70604.000000\n",
      "max      99998.000000\n",
      "Name: postalCode, dtype: float64\n",
      "медиана 49088.0\n",
      "пустые значения ->  0\n"
     ]
    },
    {
     "data": {
      "image/png": "[encoded data removed]",
      "text/plain": [
       "<Figure size 432x288 with 1 Axes>"
      ]
     },
     "metadata": {
      "needs_background": "light"
     },
     "output_type": "display_data"
    },
    {
     "data": {
      "image/png": "[encoded data removed]",
      "text/plain": [
       "<Figure size 432x288 with 1 Axes>"
      ]
     },
     "metadata": {
      "needs_background": "light"
     },
     "output_type": "display_data"
    },
    {
     "data": {
      "image/png": "[encoded data removed]",
      "text/plain": [
       "<Figure size 432x288 with 1 Axes>"
      ]
     },
     "metadata": {
      "needs_background": "light"
     },
     "output_type": "display_data"
    }
   ],
   "source": [
    "col = 'postalCode'\n",
    "print('уникальные значения -> ', len(df[col].unique()), df[col].unique()[:15])\n",
    "print('статистика -> \\n', df[col].describe())\n",
    "print('медиана', df[col].median())\n",
    "print('пустые значения -> ', df[col].isna().sum())\n",
    "plots(df[col])\n",
    "\n",
    "# ничего не меняем, все и так хорошо"
   ]
  },
  {
   "cell_type": "code",
   "execution_count": 34,
   "id": "f5895c16",
   "metadata": {},
   "outputs": [
    {
     "data": {
      "text/plain": [
       "<AxesSubplot:>"
      ]
     },
     "execution_count": 34,
     "metadata": {},
     "output_type": "execute_result"
    },
    {
     "data": {
      "image/png": "[encoded data removed]",
      "text/plain": [
       "<Figure size 432x288 with 2 Axes>"
      ]
     },
     "metadata": {
      "needs_background": "light"
     },
     "output_type": "display_data"
    }
   ],
   "source": [
    "sns.heatmap(df.corr(), annot=True)"
   ]
  },
  {
   "cell_type": "markdown",
   "id": "094edab7",
   "metadata": {},
   "source": [
    "7.\tПостройте ящиковые диаграммы зависимости gearbox, fuelType, vehicleType, notRepairedDamage от price. Сделайте выводы. Можно ли убрать значения с малой частотой? Повлияет ли это на дальнейшее исследование?"
   ]
  },
  {
   "cell_type": "code",
   "execution_count": 35,
   "id": "008fe1bd",
   "metadata": {},
   "outputs": [
    {
     "data": {
      "image/png": "[encoded data removed]",
      "text/plain": [
       "<Figure size 432x288 with 1 Axes>"
      ]
     },
     "metadata": {
      "needs_background": "light"
     },
     "output_type": "display_data"
    },
    {
     "data": {
      "image/png": "[encoded data removed]",
      "text/plain": [
       "<Figure size 432x288 with 1 Axes>"
      ]
     },
     "metadata": {
      "needs_background": "light"
     },
     "output_type": "display_data"
    },
    {
     "data": {
      "image/png": "[encoded data removed]",
      "text/plain": [
       "<Figure size 432x288 with 1 Axes>"
      ]
     },
     "metadata": {
      "needs_background": "light"
     },
     "output_type": "display_data"
    },
    {
     "data": {
      "image/png": "[encoded data removed]",
      "text/plain": [
       "<Figure size 432x288 with 1 Axes>"
      ]
     },
     "metadata": {
      "needs_background": "light"
     },
     "output_type": "display_data"
    }
   ],
   "source": [
    "for col in ['gearbox', 'fuelType', 'vehicleType', 'notRepairedDamage']:\n",
    "    sns.boxplot(x=col, y='price', data=df)\n",
    "    plt.show()"
   ]
  },
  {
   "cell_type": "markdown",
   "id": "ce6ec000",
   "metadata": {},
   "source": [
    "Машины с автоматом, гибридным топливом, внедорожники (SUV), без неотремонтированных повреждений дороже.\n",
    "\n",
    "Лучше не убирать значения с малой частотой, а оставить все как есть \n"
   ]
  },
  {
   "cell_type": "markdown",
   "id": "0fc18403",
   "metadata": {},
   "source": [
    "8.\tНайдите пропуски. Удалите столбцы, которые содержат большое количество пропусков. В остальных случаях постарайтесь восстановить пропущенные значения."
   ]
  },
  {
   "cell_type": "code",
   "execution_count": 36,
   "id": "b5b45331",
   "metadata": {},
   "outputs": [
    {
     "data": {
      "text/plain": [
       "name                      0\n",
       "dateCrawled               0\n",
       "seller                    0\n",
       "offerType                 0\n",
       "price                     0\n",
       "abtest                    0\n",
       "vehicleType            5113\n",
       "yearOfRegistration        0\n",
       "gearbox                2748\n",
       "powerPS                   0\n",
       "model                  2598\n",
       "kilometer                 0\n",
       "monthOfRegistration       0\n",
       "fuelType               4394\n",
       "brand                     0\n",
       "notRepairedDamage      9507\n",
       "dateCreated               0\n",
       "postalCode                0\n",
       "lastSeen                  0\n",
       "dtype: int64"
      ]
     },
     "execution_count": 36,
     "metadata": {},
     "output_type": "execute_result"
    }
   ],
   "source": [
    "df.isna().sum()"
   ]
  },
  {
   "cell_type": "code",
   "execution_count": 37,
   "id": "01694d79",
   "metadata": {},
   "outputs": [
    {
     "name": "stdout",
     "output_type": "stream",
     "text": [
      "vehicleType  ->  0.11056569500908225\n",
      "gearbox  ->  0.05942392526598045\n",
      "model  ->  0.056180261223077586\n",
      "fuelType  ->  0.0950177320301012\n",
      "notRepairedDamage  ->  0.20558342703918348\n"
     ]
    }
   ],
   "source": [
    "# % пустых значений\n",
    "for col in ['vehicleType', 'gearbox', 'model', 'fuelType', 'notRepairedDamage']:\n",
    "    print(col, ' -> ', df[col].isna().sum() / df[col].shape[0])"
   ]
  },
  {
   "cell_type": "code",
   "execution_count": 38,
   "id": "7e6ae77b",
   "metadata": {},
   "outputs": [
    {
     "data": {
      "text/plain": [
       "245"
      ]
     },
     "execution_count": 38,
     "metadata": {},
     "output_type": "execute_result"
    }
   ],
   "source": [
    "df['model'].unique().shape[0]"
   ]
  },
  {
   "cell_type": "code",
   "execution_count": 39,
   "id": "29bd470f",
   "metadata": {},
   "outputs": [],
   "source": [
    "df = df.dropna(subset=[\"notRepairedDamage\"])\n",
    "\n",
    "df.loc[df['fuelType'].isna(), 'fuelType'] = 'other'\n",
    "df.loc[df['vehicleType'].isna(), 'vehicleType'] = 'others'\n",
    "\n",
    "df.loc[df['model'].isna(), 'model'] = 'others'\n",
    "\n",
    "df.loc[df['gearbox'].isna(), 'gearbox'] = np.random.choice(['manual', 'automatic'])"
   ]
  },
  {
   "cell_type": "code",
   "execution_count": 41,
   "id": "5cf04c38",
   "metadata": {},
   "outputs": [
    {
     "data": {
      "text/plain": [
       "name                   0\n",
       "dateCrawled            0\n",
       "seller                 0\n",
       "offerType              0\n",
       "price                  0\n",
       "abtest                 0\n",
       "vehicleType            0\n",
       "yearOfRegistration     0\n",
       "gearbox                0\n",
       "powerPS                0\n",
       "model                  0\n",
       "kilometer              0\n",
       "monthOfRegistration    0\n",
       "fuelType               0\n",
       "brand                  0\n",
       "notRepairedDamage      0\n",
       "dateCreated            0\n",
       "postalCode             0\n",
       "lastSeen               0\n",
       "dtype: int64"
      ]
     },
     "execution_count": 41,
     "metadata": {},
     "output_type": "execute_result"
    }
   ],
   "source": [
    "df.isna().sum()"
   ]
  },
  {
   "cell_type": "markdown",
   "id": "101514e7",
   "metadata": {},
   "source": [
    "9.\tСохраните полученный датасет и выведете его."
   ]
  },
  {
   "cell_type": "code",
   "execution_count": 40,
   "id": "95048102",
   "metadata": {},
   "outputs": [
    {
     "data": {
      "text/html": [
       "<div>\n",
       "<style scoped>\n",
       "    .dataframe tbody tr th:only-of-type {\n",
       "        vertical-align: middle;\n",
       "    }\n",
       "\n",
       "    .dataframe tbody tr th {\n",
       "        vertical-align: top;\n",
       "    }\n",
       "\n",
       "    .dataframe thead th {\n",
       "        text-align: right;\n",
       "    }\n",
       "</style>\n",
       "<table border=\"1\" class=\"dataframe\">\n",
       "  <thead>\n",
       "    <tr style=\"text-align: right;\">\n",
       "      <th></th>\n",
       "      <th>name</th>\n",
       "      <th>dateCrawled</th>\n",
       "      <th>seller</th>\n",
       "      <th>offerType</th>\n",
       "      <th>price</th>\n",
       "      <th>abtest</th>\n",
       "      <th>vehicleType</th>\n",
       "      <th>yearOfRegistration</th>\n",
       "      <th>gearbox</th>\n",
       "      <th>powerPS</th>\n",
       "      <th>model</th>\n",
       "      <th>kilometer</th>\n",
       "      <th>monthOfRegistration</th>\n",
       "      <th>fuelType</th>\n",
       "      <th>brand</th>\n",
       "      <th>notRepairedDamage</th>\n",
       "      <th>dateCreated</th>\n",
       "      <th>postalCode</th>\n",
       "      <th>lastSeen</th>\n",
       "    </tr>\n",
       "  </thead>\n",
       "  <tbody>\n",
       "    <tr>\n",
       "      <th>1</th>\n",
       "      <td>Volvo_XC90_2.4D_Summum</td>\n",
       "      <td>2016-07-03 09:54:00</td>\n",
       "      <td>private</td>\n",
       "      <td>offer</td>\n",
       "      <td>13299.0</td>\n",
       "      <td>control</td>\n",
       "      <td>suv</td>\n",
       "      <td>2005</td>\n",
       "      <td>manual</td>\n",
       "      <td>163</td>\n",
       "      <td>xc_reihe</td>\n",
       "      <td>150000</td>\n",
       "      <td>6</td>\n",
       "      <td>diesel</td>\n",
       "      <td>volvo</td>\n",
       "      <td>no</td>\n",
       "      <td>2016-07-03</td>\n",
       "      <td>88045</td>\n",
       "      <td>2016-03-26 13:17:00</td>\n",
       "    </tr>\n",
       "    <tr>\n",
       "      <th>3</th>\n",
       "      <td>Seat_Ibiza_1.4_16V_Reference</td>\n",
       "      <td>2016-03-19 17:50:00</td>\n",
       "      <td>private</td>\n",
       "      <td>offer</td>\n",
       "      <td>4500.0</td>\n",
       "      <td>control</td>\n",
       "      <td>small car</td>\n",
       "      <td>2006</td>\n",
       "      <td>manual</td>\n",
       "      <td>86</td>\n",
       "      <td>ibiza</td>\n",
       "      <td>60000</td>\n",
       "      <td>12</td>\n",
       "      <td>petrol</td>\n",
       "      <td>seat</td>\n",
       "      <td>no</td>\n",
       "      <td>2016-03-19</td>\n",
       "      <td>34537</td>\n",
       "      <td>2016-07-04 04:44:00</td>\n",
       "    </tr>\n",
       "    <tr>\n",
       "      <th>5</th>\n",
       "      <td>VW_Passat_35i_Facelift_Limousine_TÜV_Neu</td>\n",
       "      <td>2016-02-04 12:51:00</td>\n",
       "      <td>private</td>\n",
       "      <td>offer</td>\n",
       "      <td>988.0</td>\n",
       "      <td>test</td>\n",
       "      <td>limousine</td>\n",
       "      <td>1995</td>\n",
       "      <td>manual</td>\n",
       "      <td>90</td>\n",
       "      <td>passat</td>\n",
       "      <td>150000</td>\n",
       "      <td>2</td>\n",
       "      <td>petrol</td>\n",
       "      <td>volkswagen</td>\n",
       "      <td>no</td>\n",
       "      <td>2016-02-04</td>\n",
       "      <td>26826</td>\n",
       "      <td>2016-02-04 12:51:00</td>\n",
       "    </tr>\n",
       "    <tr>\n",
       "      <th>7</th>\n",
       "      <td>Mercedes_Benz_CLK_Coupe_200</td>\n",
       "      <td>2016-03-24 15:52:00</td>\n",
       "      <td>private</td>\n",
       "      <td>offer</td>\n",
       "      <td>1399.0</td>\n",
       "      <td>test</td>\n",
       "      <td>coupe</td>\n",
       "      <td>1997</td>\n",
       "      <td>manual</td>\n",
       "      <td>136</td>\n",
       "      <td>clk</td>\n",
       "      <td>150000</td>\n",
       "      <td>11</td>\n",
       "      <td>petrol</td>\n",
       "      <td>mercedes_benz</td>\n",
       "      <td>no</td>\n",
       "      <td>2016-03-24</td>\n",
       "      <td>13353</td>\n",
       "      <td>2016-03-27 12:45:00</td>\n",
       "    </tr>\n",
       "    <tr>\n",
       "      <th>8</th>\n",
       "      <td>Vectra_C_Caravan_1_8_Edition_Facelift_m_AHK_In...</td>\n",
       "      <td>2016-03-28 14:40:00</td>\n",
       "      <td>private</td>\n",
       "      <td>offer</td>\n",
       "      <td>4680.0</td>\n",
       "      <td>test</td>\n",
       "      <td>station wagon</td>\n",
       "      <td>2005</td>\n",
       "      <td>manual</td>\n",
       "      <td>122</td>\n",
       "      <td>vectra</td>\n",
       "      <td>150000</td>\n",
       "      <td>12</td>\n",
       "      <td>petrol</td>\n",
       "      <td>opel</td>\n",
       "      <td>no</td>\n",
       "      <td>2016-03-28</td>\n",
       "      <td>28307</td>\n",
       "      <td>2016-06-04 18:19:00</td>\n",
       "    </tr>\n",
       "  </tbody>\n",
       "</table>\n",
       "</div>"
      ],
      "text/plain": [
       "                                                name         dateCrawled  \\\n",
       "1                             Volvo_XC90_2.4D_Summum 2016-07-03 09:54:00   \n",
       "3                       Seat_Ibiza_1.4_16V_Reference 2016-03-19 17:50:00   \n",
       "5           VW_Passat_35i_Facelift_Limousine_TÜV_Neu 2016-02-04 12:51:00   \n",
       "7                        Mercedes_Benz_CLK_Coupe_200 2016-03-24 15:52:00   \n",
       "8  Vectra_C_Caravan_1_8_Edition_Facelift_m_AHK_In... 2016-03-28 14:40:00   \n",
       "\n",
       "    seller offerType    price   abtest    vehicleType  yearOfRegistration  \\\n",
       "1  private     offer  13299.0  control            suv                2005   \n",
       "3  private     offer   4500.0  control      small car                2006   \n",
       "5  private     offer    988.0     test      limousine                1995   \n",
       "7  private     offer   1399.0     test          coupe                1997   \n",
       "8  private     offer   4680.0     test  station wagon                2005   \n",
       "\n",
       "  gearbox  powerPS     model  kilometer  monthOfRegistration fuelType  \\\n",
       "1  manual      163  xc_reihe     150000                    6   diesel   \n",
       "3  manual       86     ibiza      60000                   12   petrol   \n",
       "5  manual       90    passat     150000                    2   petrol   \n",
       "7  manual      136       clk     150000                   11   petrol   \n",
       "8  manual      122    vectra     150000                   12   petrol   \n",
       "\n",
       "           brand notRepairedDamage dateCreated  postalCode            lastSeen  \n",
       "1          volvo                no  2016-07-03       88045 2016-03-26 13:17:00  \n",
       "3           seat                no  2016-03-19       34537 2016-07-04 04:44:00  \n",
       "5     volkswagen                no  2016-02-04       26826 2016-02-04 12:51:00  \n",
       "7  mercedes_benz                no  2016-03-24       13353 2016-03-27 12:45:00  \n",
       "8           opel                no  2016-03-28       28307 2016-06-04 18:19:00  "
      ]
     },
     "execution_count": 40,
     "metadata": {},
     "output_type": "execute_result"
    }
   ],
   "source": [
    "df.to_csv('result_cars.csv', header=True)\n",
    "df.head()"
   ]
  }
 ],
 "metadata": {
  "kernelspec": {
   "display_name": "Python 3 (ipykernel)",
   "language": "python",
   "name": "python3"
  },
  "language_info": {
   "codemirror_mode": {
    "name": "ipython",
    "version": 3
   },
   "file_extension": ".py",
   "mimetype": "text/x-python",
   "name": "python",
   "nbconvert_exporter": "python",
   "pygments_lexer": "ipython3",
   "version": "3.9.7"
  }
 },
 "nbformat": 4,
 "nbformat_minor": 5
}
